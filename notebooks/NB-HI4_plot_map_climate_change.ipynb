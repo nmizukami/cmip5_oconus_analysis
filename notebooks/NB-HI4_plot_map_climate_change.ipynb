{
 "cells": [
  {
   "cell_type": "markdown",
   "metadata": {},
   "source": [
    "# NB-HI4-1: Long-term annual total fluxes changes for early, mid and late 21st century periods from historical period"
   ]
  },
  {
   "cell_type": "markdown",
   "metadata": {},
   "source": [
    "## module loading..."
   ]
  },
  {
   "cell_type": "code",
   "execution_count": null,
   "metadata": {},
   "outputs": [],
   "source": [
    "%matplotlib inline  \n",
    "import os\n",
    "import sys\n",
    "import xarray as xr\n",
    "import numpy as np\n",
    "import matplotlib.pyplot as plt\n",
    "import matplotlib as mpl\n",
    "from timeit import default_timer as timer\n",
    "\n",
    "print(\"\\nThe Python version: %s.%s.%s\" % sys.version_info[:3])\n",
    "print(xr.__name__, xr.__version__)\n",
    "\n",
    "mpl.rcParams['xtick.labelsize']='small'"
   ]
  },
  {
   "cell_type": "code",
   "execution_count": null,
   "metadata": {},
   "outputs": [],
   "source": [
    "from cmip5_oconus import print_date\n",
    "print_date()\n",
    "\n",
    "from cmip5_oconus.data_catalog import load_monthly_historical_hydro_datasets, resample_data\n",
    "from cmip5_oconus.data_catalog import load_monthly_cmip5_hydro_datasets\n",
    "from cmip5_oconus.plot import custom_div_cmap, MidpointNormalize, add_ylabel\n",
    "from cmip5_oconus.utils import calc_change"
   ]
  },
  {
   "cell_type": "code",
   "execution_count": null,
   "metadata": {},
   "outputs": [],
   "source": [
    "from dask_jobqueue import PBSCluster\n",
    "cluster = PBSCluster(processes=9, threads=4, memory=\"108GB\",queue='casper', \n",
    "                     walltime='00:40:00')\n",
    "cluster.scale(jobs=3)"
   ]
  },
  {
   "cell_type": "code",
   "execution_count": null,
   "metadata": {
    "scrolled": true
   },
   "outputs": [],
   "source": [
    "from dask.distributed import Client\n",
    "client = Client(cluster)"
   ]
  },
  {
   "cell_type": "code",
   "execution_count": null,
   "metadata": {},
   "outputs": [],
   "source": [
    "client"
   ]
  },
  {
   "cell_type": "markdown",
   "metadata": {},
   "source": [
    "-------------------------\n",
    "## Setup "
   ]
  },
  {
   "cell_type": "code",
   "execution_count": null,
   "metadata": {},
   "outputs": [],
   "source": [
    "figSave = True"
   ]
  },
  {
   "cell_type": "code",
   "execution_count": null,
   "metadata": {},
   "outputs": [],
   "source": [
    "region          = 'HI'\n",
    "gcms            = [\"ACCESS1-3\",\"CanESM2\",\"CCSM4\",\"CSIRO-Mk3-6-0\",\"GFDL-ESM2M\",\"HadGEM2-ES\",\"inmcm4\",\"MIROC5\",\"MPI-ESM-MR\",\"MRI-CGCM3\"]\n",
    "hydro_flux_vars = ['PRCP', 'EVAP', 'total_runoff']\n",
    "period_hist     = slice('1970-01-01', '1999-12-31')\n",
    "period_futr     = {'early' : slice('2010-01-01', '2039-12-31'),\n",
    "                   'middle': slice('2040-01-01', '2069-12-31'),\n",
    "                   'late'  : slice('2070-01-01', '2099-12-31')}"
   ]
  },
  {
   "cell_type": "markdown",
   "metadata": {},
   "source": [
    "## Load the data"
   ]
  },
  {
   "cell_type": "code",
   "execution_count": null,
   "metadata": {},
   "outputs": [],
   "source": [
    "xr.set_options(file_cache_maxsize=12000)\n",
    "histo_data = load_monthly_historical_hydro_datasets(models=gcms, variables=hydro_flux_vars, region=region, parallel=False)\n",
    "rcp45_data = load_monthly_cmip5_hydro_datasets(scen='rcp45', models=gcms, variables=hydro_flux_vars, region=region, parallel=False)\n",
    "rcp85_data = load_monthly_cmip5_hydro_datasets(scen='rcp85', models=gcms, variables=hydro_flux_vars, region=region, parallel=False)"
   ]
  },
  {
   "cell_type": "code",
   "execution_count": null,
   "metadata": {},
   "outputs": [],
   "source": []
  },
  {
   "cell_type": "markdown",
   "metadata": {},
   "source": [
    "## Compute 30-yr annual mean for 4 periods - historical, early, mid and late"
   ]
  },
  {
   "cell_type": "code",
   "execution_count": null,
   "metadata": {},
   "outputs": [],
   "source": [
    "%%time\n",
    "histo_hydro_means = resample_data(histo_data['gcm'].sel(time=period_hist), region=region, freq='AS').mean('time').compute()\n",
    "\n",
    "rcp45_hydro_means = {}\n",
    "rcp85_hydro_means = {}\n",
    "for key, futr_period in period_futr.items():\n",
    "    rcp45_hydro_means[key] = resample_data(rcp45_data.sel(time=futr_period), region=region, freq='AS').mean('time').compute()\n",
    "    rcp85_hydro_means[key] = resample_data(rcp85_data.sel(time=futr_period), region=region, freq='AS').mean('time').compute()"
   ]
  },
  {
   "cell_type": "markdown",
   "metadata": {},
   "source": [
    "## Compute 30-yr annual runoff ratio and  Evaporation ratio"
   ]
  },
  {
   "cell_type": "code",
   "execution_count": null,
   "metadata": {},
   "outputs": [],
   "source": [
    "%%time\n",
    "histo_hydro_means['er'] = histo_hydro_means['EVAP']/histo_hydro_means['PRCP']\n",
    "histo_hydro_means['rr']   = histo_hydro_means['total_runoff']/histo_hydro_means['PRCP']\n",
    "for key, futr_period in period_futr.items():\n",
    "    rcp45_hydro_means[key]['er'] = rcp45_hydro_means[key]['EVAP']/rcp45_hydro_means[key]['PRCP']\n",
    "    rcp45_hydro_means[key]['rr'] = rcp45_hydro_means[key]['total_runoff']/rcp45_hydro_means[key]['PRCP']\n",
    "    \n",
    "    rcp85_hydro_means[key]['er'] = rcp85_hydro_means[key]['EVAP']/rcp85_hydro_means[key]['PRCP']\n",
    "    rcp85_hydro_means[key]['rr'] = rcp85_hydro_means[key]['total_runoff']/rcp85_hydro_means[key]['PRCP']    "
   ]
  },
  {
   "cell_type": "code",
   "execution_count": null,
   "metadata": {},
   "outputs": [],
   "source": []
  },
  {
   "cell_type": "markdown",
   "metadata": {},
   "source": [
    "## Compute difference in 30-yr annual mean between historical and future"
   ]
  },
  {
   "cell_type": "code",
   "execution_count": null,
   "metadata": {},
   "outputs": [],
   "source": [
    "# future change from historical [mm] \n",
    "rcp45_hydro_30yr_diff = {}\n",
    "rcp85_hydro_30yr_diff = {}\n",
    "diff_rcp_hydro_30yr_change ={}\n",
    "for key, futr_period in period_futr.items():\n",
    "    rcp45_hydro_30yr_diff[key] = calc_change(histo_hydro_means, rcp45_hydro_means[key], pct=False).persist()\n",
    "    rcp85_hydro_30yr_diff[key] = calc_change(histo_hydro_means, rcp85_hydro_means[key], pct=False).persist()\n",
    "\n",
    "    diff_rcp_hydro_30yr_change[key] =rcp85_hydro_30yr_diff[key] - rcp45_hydro_30yr_diff[key]"
   ]
  },
  {
   "cell_type": "code",
   "execution_count": null,
   "metadata": {},
   "outputs": [],
   "source": []
  },
  {
   "cell_type": "markdown",
   "metadata": {},
   "source": [
    "## Plotting"
   ]
  },
  {
   "cell_type": "code",
   "execution_count": null,
   "metadata": {},
   "outputs": [],
   "source": [
    "# create colormap\n",
    "# ---------------\n",
    "from matplotlib.colors import LinearSegmentedColormap\n",
    "# create a colormap that consists of\n",
    "# - 1/5 : custom colormap, ranging from white to the first color of the colormap\n",
    "# - 4/5 : existing colormap\n",
    "\n",
    "# set upper part: 4 * 256/4 entries\n",
    "upper = mpl.cm.Spectral_r(np.arange(256))\n",
    "\n",
    "# set lower part: 1 * 256/4 entries\n",
    "# - initialize all entries to 1 to make sure that the alpha channel (4th column) is 1\n",
    "lower = np.ones((int(256/4),4))\n",
    "# - modify the first three columns (RGB):\n",
    "#   range linearly between white (1,1,1) and the first color of the upper colormap\n",
    "for i in range(3):\n",
    "    lower[:,i] = np.linspace(0.9, upper[0,i], lower.shape[0])\n",
    "\n",
    "# combine parts of colormap\n",
    "cmap = np.vstack(( lower, upper ))\n",
    "\n",
    "# convert to matplotlib colormap\n",
    "cmap = mpl.colors.ListedColormap(cmap, name='myColorMap', N=cmap.shape[0])\n",
    "\n",
    "# option1\n",
    "cmap1 = mpl.cm.YlGnBu\n",
    "cmap1.set_under('xkcd:light grey')\n",
    "\n",
    "\n",
    "# option 2\n",
    "cmap2 = LinearSegmentedColormap.from_list('custom1', \n",
    "                                          [(0.00, 'xkcd:very light green'),\n",
    "                                           (0.20, 'xkcd:light blue'),\n",
    "                                           (0.50, 'xkcd:lightish blue'),\n",
    "                                           (0.70, 'xkcd:blue'),\n",
    "                                           (1.00, 'xkcd:purple')], N=256)\n",
    "cmap2.set_over('xkcd:dark purple')\n",
    "cmap2.set_under('xkcd:light grey')"
   ]
  },
  {
   "cell_type": "markdown",
   "metadata": {},
   "source": [
    "------------\n",
    " - Change in 30yr mean annual total fluxes between historical and three future periods in 21st century (mid, and late) "
   ]
  },
  {
   "cell_type": "code",
   "execution_count": null,
   "metadata": {},
   "outputs": [],
   "source": [
    "cm = {'history'   : cmap2,\n",
    "      'change_PR' : custom_div_cmap(numcolors=255, mincol='xkcd:red', midcol='xkcd:light grey', maxcol='xkcd:blue'),\n",
    "      'change_ET' : custom_div_cmap(numcolors=255, mincol='xkcd:red', midcol='xkcd:light grey', maxcol='xkcd:blue'),\n",
    "      'change_RO' : custom_div_cmap(numcolors=255, mincol='xkcd:red', midcol='xkcd:light grey', maxcol='xkcd:blue'),}\n",
    "\n",
    "sfmt = mpl.ticker.ScalarFormatter(useMathText=True)\n",
    "sfmt.set_powerlimits((-5, 5))\n",
    "\n",
    "cbar_kwrgs = {'mean':   {\"orientation\":\"horizontal\", \"shrink\":0.990, \"pad\":0.03, 'format':sfmt},\n",
    "              'change': {\"orientation\":\"horizontal\", \"shrink\":0.990, \"pad\":0.03}}\n",
    "\n",
    "style_kwargs = {'mean':   {'add_labels': False, 'xticks':[], 'yticks':[], 'cbar_kwargs': cbar_kwrgs['mean']},\n",
    "                'change': {'add_labels': False, 'xticks':[], 'yticks':[], 'cbar_kwargs': cbar_kwrgs['change']}\n",
    "               }\n",
    "#'PRCP':                {'levels': 9, 'vmin':0, 'vmax':4000, 'cmap':cm['history'], 'extend':'max',  **style_kwargs['mean']}, #'levels': 41,\n",
    "kwargs = {'change-PRCP':         {'levels': 9, 'vmin':-100, 'vmax':100, 'cmap':cm['change_PR'], 'extend':'both', **style_kwargs['change']},\n",
    "          'change-EVAP':         {'levels': 9, 'vmin':-100, 'vmax':100, 'cmap':cm['change_ET'], 'extend':'both', **style_kwargs['change']},\n",
    "          'change-total_runoff': {'levels': 9, 'vmin':-100, 'vmax':100, 'cmap':cm['change_RO'], 'extend':'both', **style_kwargs['change']},\n",
    "          'PRCP':                {'levels': 21, 'vmin':0, 'vmax':4000, 'cmap':cm['history'], 'extend':'max',  **style_kwargs['mean']}, #'levels': 41, \n",
    "          'EVAP':                {'levels': 11,'vmin':0, 'vmax':1000,  'cmap':cm['history'], 'extend':'both', **style_kwargs['mean']}, #'levels': 46, \n",
    "          'total_runoff':        {'levels': 21, 'vmin':0, 'vmax':4000, 'cmap':cm['history'], 'extend':'max',  **style_kwargs['mean']}} #'levels': 11, \n",
    "\n",
    "var_title = {'PRCP':'Precipitation', 'EVAP':'Evapotranspiration', 'total_runoff':'Runoff'}\n",
    "\n",
    "fig, axes = plt.subplots(nrows=3, ncols=3, sharex=True, sharey=True, figsize=(8.125,8.75))\n",
    "plt.subplots_adjust(left=0.045, bottom=0.0125, right=0.985, top=0.975, hspace=0.075, wspace=0.075)\n",
    "\n",
    "for col, var in enumerate(['PRCP','EVAP','total_runoff']):\n",
    "    histo_hydro_means.mean(dim='gcm')[var].plot.pcolormesh(ax=axes[0, col], **kwargs[var])\n",
    "    rcp85_hydro_30yr_diff['middle'].mean(dim='gcm')[var].plot.pcolormesh(ax=axes[1, col], **kwargs[f'change-{var}'])\n",
    "    rcp85_hydro_30yr_diff['late'].mean(dim='gcm')[var].plot.pcolormesh(ax=axes[2, col],   **kwargs[f'change-{var}'])\n",
    "    \n",
    "    add_ylabel(axes[0, 0], 'historical [mm/yr]', fontsize=11)\n",
    "    add_ylabel(axes[1, 0], 'changes 2040-2069 [mm/yr]', fontsize=11)\n",
    "    add_ylabel(axes[2, 0], 'changes 2070-2099 [mm/yr]', fontsize=11)\n",
    "    axes[0, col].set_title(var_title[var], fontsize=12)\n",
    "    \n",
    "#plt.tight_layout()\n",
    "if figSave:\n",
    "    plt.savefig(f'NB-HI4_Fig1_annual_mean_change_mid_late_rcp85.png', dpi=300)"
   ]
  },
  {
   "cell_type": "markdown",
   "metadata": {},
   "source": [
    "## Runnoff ratio and evaporation ratio - historical ensemble mean and changes"
   ]
  },
  {
   "cell_type": "code",
   "execution_count": null,
   "metadata": {},
   "outputs": [],
   "source": [
    "cmap_change_ratio = custom_div_cmap(numcolors=255, mincol='xkcd:red', midcol='xkcd:light grey', maxcol='xkcd:blue')\n",
    "cmap_change_ratio.set_over('xkcd:blue blue')\n",
    "cmap_change_ratio.set_under('xkcd:magenta')\n",
    "\n",
    "cm = {'history'   : cmap2,\n",
    "      'change_er' : cmap_change_ratio,\n",
    "      'change_rr' : cmap_change_ratio}\n",
    "\n",
    "sfmt = mpl.ticker.ScalarFormatter(useMathText=True)\n",
    "sfmt.set_powerlimits((-5, 5))\n",
    "\n",
    "cbar_kwrgs = {'mean':   {\"orientation\":\"horizontal\", \"shrink\":0.990, \"pad\":0.03, 'format':sfmt},\n",
    "              'change': {\"orientation\":\"horizontal\", \"shrink\":0.990, \"pad\":0.03}}\n",
    "\n",
    "style_kwargs = {'mean':   {'add_labels': False, 'xticks':[], 'yticks':[], 'cbar_kwargs': cbar_kwrgs['mean']},\n",
    "                'change': {'add_labels': False, 'xticks':[], 'yticks':[], 'cbar_kwargs': cbar_kwrgs['change']}\n",
    "               }\n",
    "\n",
    "kwargs = {'change-er':  {'levels': 11, 'vmin':-0.05, 'vmax':0.05, 'cmap':cm['change_er'], 'extend':'both',    **style_kwargs['change']},\n",
    "          'change-rr':  {'levels': 11, 'vmin':-0.05, 'vmax':0.05, 'cmap':cm['change_rr'], 'extend':'both',    **style_kwargs['change']},\n",
    "          'er':         {'levels': 11, 'vmin':0.0, 'vmax':1.0,  'cmap':cm['history'],   'extend':'neither', **style_kwargs['mean']}, #'levels': 46, \n",
    "          'rr':         {'levels': 11, 'vmin':0.0, 'vmax':1.0,  'cmap':cm['history'],   'extend':'neither', **style_kwargs['mean']}} #'levels': 11, \n",
    "\n",
    "var_title = {'er':'Evaporation Efficiency', 'rr':'Runoff Efficiency'}\n",
    "\n",
    "fig, axes = plt.subplots(nrows=3, ncols=2, sharex=True, sharey=True, figsize=(6.50,8.75))\n",
    "plt.subplots_adjust(left=0.045, bottom=0.0125, right=0.985, top=0.975, hspace=0.075, wspace=0.125)\n",
    "\n",
    "for col, var in enumerate(['er','rr']):\n",
    "    histo_hydro_means.mean(dim='gcm')[var].plot.pcolormesh(ax=axes[0, col], **kwargs[var])\n",
    "    rcp85_hydro_30yr_diff['middle'].mean(dim='gcm')[var].plot.pcolormesh(ax=axes[1, col], **kwargs[f'change-{var}'])\n",
    "    rcp85_hydro_30yr_diff['late'].mean(dim='gcm')[var].plot.pcolormesh(ax=axes[2, col],   **kwargs[f'change-{var}'])\n",
    "    \n",
    "    add_ylabel(axes[0, 0], 'historical [-]', fontsize=11)\n",
    "    add_ylabel(axes[1, 0], 'changes 2040-2069 [-]', fontsize=11)\n",
    "    add_ylabel(axes[2, 0], 'changes 2070-2099 [-]', fontsize=11)\n",
    "    axes[0, col].set_title(var_title[var], fontsize=12)\n",
    "    \n",
    "#plt.tight_layout()\n",
    "if figSave:\n",
    "    plt.savefig(f'NB-HI4_Fig13_annual_mean_change_efficiency_mid_late_rcp85.png', dpi=300)"
   ]
  },
  {
   "cell_type": "markdown",
   "metadata": {},
   "source": [
    "------------\n",
    " - Difference between two RCPs in change in 30yr mean annual total for late 21st century"
   ]
  },
  {
   "cell_type": "code",
   "execution_count": null,
   "metadata": {},
   "outputs": [],
   "source": [
    "cm = {'change' : custom_div_cmap(numcolors=255, mincol='xkcd:red', midcol='xkcd:light grey', maxcol='xkcd:blue')}\n",
    "\n",
    "style_kwargs = {'add_labels': False, 'xticks':[], 'yticks':[], 'cbar_kwargs': dict(orientation=\"horizontal\", shrink=0.995, pad=0.03)}\n",
    "\n",
    "kwargs       = {'change-rcp_PRCP':         {'levels':9, 'vmin':-200, 'vmax':200,  'cmap':cm['change'], 'extend':'both', **style_kwargs},\n",
    "                'change-rcp_EVAP':         {'levels':9, 'vmin':-100, 'vmax':100,  'cmap':cm['change'], 'extend':'both', **style_kwargs},\n",
    "                'change-rcp_total_runoff': {'levels':9, 'vmin':-200, 'vmax':200,  'cmap':cm['change'], 'extend':'both', **style_kwargs},\n",
    "               }\n",
    "\n",
    "var_title = {'PRCP':'Precipitation', 'EVAP':'Evapotranspiration', 'total_runoff':'Runoff'}\n",
    "\n",
    "fig, axes = plt.subplots(nrows=1, ncols=3, sharex=True, sharey=True, figsize=(8.125,3))\n",
    "plt.subplots_adjust(left=0.040, bottom=0.0125, right=0.990, top=0.900, hspace=0.060, wspace=0.060)\n",
    "\n",
    "for col, var in enumerate(['PRCP','EVAP','total_runoff']):\n",
    "    diff_rcp_hydro_30yr_change['late'].mean(dim='gcm')[var].plot.pcolormesh(ax=axes[col], **kwargs[f'change-rcp_{var}'])\n",
    "    \n",
    "    add_ylabel(axes[0], 'RCP85 - RCP45[mm/yr]', fontsize=11)\n",
    "    axes[col].set_title(var_title[var], fontsize=12)\n",
    "    \n",
    "if figSave:\n",
    "    plt.savefig(f'NB-HI4_Fig2_annual_mean_change_late_diff_rcp.png', dpi=300)"
   ]
  },
  {
   "cell_type": "markdown",
   "metadata": {},
   "source": [
    "--------\n",
    "- Climate changes for individual GCMs for late 21st century are plotted below"
   ]
  },
  {
   "cell_type": "markdown",
   "metadata": {},
   "source": [
    "--------------------\n",
    "### Precipitation"
   ]
  },
  {
   "cell_type": "markdown",
   "metadata": {},
   "source": [
    "#### rcp45"
   ]
  },
  {
   "cell_type": "code",
   "execution_count": null,
   "metadata": {},
   "outputs": [],
   "source": [
    "var=\"PRCP\"\n",
    "\n",
    "cm = {'mean': custom_div_cmap(numcolors=255, mincol='xkcd:red', midcol='xkcd:light grey', maxcol='xkcd:blue'),\n",
    "      'std' : custom_div_cmap(numcolors=255, mincol='xkcd:light grey', midcol='xkcd:light light blue', maxcol='xkcd:blue')}\n",
    "\n",
    "style_kwargs =  {'add_labels': False, 'xticks':[], 'yticks':[], 'cbar_kwargs': dict(orientation=\"horizontal\", shrink=0.975, pad=0.03)}\n",
    "\n",
    "kwargs = {'mean': {'levels': 7, 'vmin':-300, 'vmax':300, 'cmap':cm['mean'], 'extend':'both', **style_kwargs},\n",
    "          'std':  {'levels': 11, 'vmin':0,    'vmax':500, 'cmap':cm['std'],  'extend':'max',  **style_kwargs}}\n",
    "\n",
    "fig, axes = plt.subplots(nrows=3, ncols=4, sharex=True, sharey=True, figsize=(11.375, 10.5)) # used to be figsize=(14,11)\n",
    "plt.subplots_adjust(left=0.0125, bottom=0.0125, right=0.99, top=0.935, hspace=0.075, wspace=0.075)\n",
    "\n",
    "for ix, gcm in enumerate(gcms+['ensemble-mean','ensemble-std']):\n",
    "    row = ix // 4\n",
    "    col = ix % 4\n",
    "    if ix < 10:\n",
    "        rcp45_hydro_30yr_diff['late'][var].sel(gcm=gcm).plot.pcolormesh(ax=axes[row, col], **kwargs['mean'])\n",
    "    elif ix == 10:\n",
    "        rcp45_hydro_30yr_diff['late'].mean(dim='gcm')[var].plot.pcolormesh(ax=axes[row, col], **kwargs['mean'])\n",
    "    elif ix == 11:\n",
    "        rcp45_hydro_30yr_diff['late'].std(dim='gcm')[var].plot.pcolormesh(ax=axes[row, col], **kwargs['std'])\n",
    "    axes[row, col].set_title(gcm, fontsize=12)\n",
    "    \n",
    "#plt.tight_layout()\n",
    "fig.suptitle('Change in 30yr mean annual precipitation [mm/yr] - late 21st century', fontsize=14, y=0.985)\n",
    "\n",
    "if figSave:\n",
    "    plt.savefig(f'NB-HI4_Fig3_annual_mean_change_late_{var}_rcp45.png', dpi=300)"
   ]
  },
  {
   "cell_type": "markdown",
   "metadata": {},
   "source": [
    "#### rcp85"
   ]
  },
  {
   "cell_type": "code",
   "execution_count": null,
   "metadata": {},
   "outputs": [],
   "source": [
    "var=\"PRCP\"\n",
    "\n",
    "cm = {'mean': custom_div_cmap(numcolors=255, mincol='xkcd:red', midcol='xkcd:light grey', maxcol='xkcd:blue'),\n",
    "      'std' : custom_div_cmap(numcolors=255, mincol='xkcd:light grey', midcol='xkcd:light light blue', maxcol='xkcd:blue')}\n",
    "\n",
    "style_kwargs =  {'add_labels': False, 'xticks':[], 'yticks':[], 'cbar_kwargs': dict(orientation=\"horizontal\", shrink=0.975, pad=0.03)}\n",
    "\n",
    "kwargs = {'mean': {'levels': 7, 'vmin':-300, 'vmax':300, 'cmap':cm['mean'], 'extend':'both', **style_kwargs},\n",
    "          'std':  {'levels': 11, 'vmin':0,    'vmax':500, 'cmap':cm['std'],  'extend':'max',  **style_kwargs}}\n",
    "\n",
    "fig, axes = plt.subplots(nrows=3, ncols=4, sharex=True, sharey=True, figsize=(11.375, 10.5))  # used to be figsize=(14,11)\n",
    "plt.subplots_adjust(left=0.0125, bottom=0.0125, right=0.99, top=0.935, hspace=0.075, wspace=0.075)\n",
    "\n",
    "for ix, gcm in enumerate(gcms+['ensemble-mean','ensemble-std']):\n",
    "    row = ix // 4\n",
    "    col = ix % 4\n",
    "    if ix < 10:\n",
    "        rcp85_hydro_30yr_diff['late'][var].sel(gcm=gcm).plot.pcolormesh(ax=axes[row, col], **kwargs['mean'])\n",
    "    elif ix == 10:\n",
    "        rcp85_hydro_30yr_diff['late'].mean(dim='gcm')[var].plot.pcolormesh(ax=axes[row, col], **kwargs['mean'])\n",
    "    elif ix == 11:\n",
    "        rcp85_hydro_30yr_diff['late'].std(dim='gcm')[var].plot.pcolormesh(ax=axes[row, col], **kwargs['std'])\n",
    "    axes[row, col].set_title(gcm, fontsize=12)\n",
    "    \n",
    "fig.suptitle('Change in 30yr mean annual precipitation [mm/yr]- late 21st century', fontsize=14, y=0.985)\n",
    "\n",
    "if figSave:\n",
    "    plt.savefig(f'NB-HI4_Fig4_annual_mean_change_late_{var}_rcp85.png', dpi=300)"
   ]
  },
  {
   "cell_type": "code",
   "execution_count": null,
   "metadata": {},
   "outputs": [],
   "source": [
    "var=\"PRCP\"\n",
    "\n",
    "cm = {'mean': custom_div_cmap(numcolors=255, mincol='xkcd:red', midcol='xkcd:light grey', maxcol='xkcd:blue'),\n",
    "      'std' : custom_div_cmap(numcolors=255, mincol='xkcd:light grey', midcol='xkcd:light light blue', maxcol='xkcd:blue')}\n",
    "\n",
    "style_kwargs =  {'add_labels': False, 'xticks':[], 'yticks':[], 'cbar_kwargs': dict(orientation=\"horizontal\", shrink=0.975, pad=0.03)}\n",
    "\n",
    "kwargs = {'mean': {'levels': 7, 'vmin':-300, 'vmax':300, 'cmap':cm['mean'], 'extend':'both', **style_kwargs},\n",
    "          'std':  {'levels': 11, 'vmin':0,   'vmax':500, 'cmap':cm['std'],  'extend':'max',  **style_kwargs}}\n",
    "\n",
    "fig, axes = plt.subplots(nrows=3, ncols=4, sharex=True, sharey=True, figsize=(11.375, 10.5))  # used to be figsize=(14,11)\n",
    "plt.subplots_adjust(left=0.0125, bottom=0.0125, right=0.99, top=0.935, hspace=0.075, wspace=0.075)\n",
    "\n",
    "for ix, gcm in enumerate(gcms+['ensemble-mean','ensemble-std']):\n",
    "    row = ix // 4\n",
    "    col = ix % 4\n",
    "    if ix < 10:\n",
    "        diff_rcp_hydro_30yr_change['late'][var].sel(gcm=gcm).plot.pcolormesh(ax=axes[row, col], **kwargs['mean'])\n",
    "    elif ix == 10:\n",
    "        diff_rcp_hydro_30yr_change['late'].mean(dim='gcm')[var].plot.pcolormesh(ax=axes[row, col], **kwargs['mean'])\n",
    "    elif ix == 11:\n",
    "        diff_rcp_hydro_30yr_change['late'].std(dim='gcm')[var].plot.pcolormesh(ax=axes[row, col], **kwargs['std'])\n",
    "    axes[row, col].set_title(gcm, fontsize=14)\n",
    "    \n",
    "fig.suptitle('RCP85 vs RCP 45: Change in 30yr mean annual precipitation [mm/yr] - late 21st century', fontsize=14, y=0.985)\n",
    "\n",
    "if figSave:\n",
    "    plt.savefig(f'NB-HI4_Fig5_annual_mean_change_late_{var}_rcp_diff.png', dpi=300)"
   ]
  },
  {
   "cell_type": "markdown",
   "metadata": {},
   "source": [
    "--------------------\n",
    "### total runoff"
   ]
  },
  {
   "cell_type": "markdown",
   "metadata": {},
   "source": [
    "#### rcp45"
   ]
  },
  {
   "cell_type": "code",
   "execution_count": null,
   "metadata": {},
   "outputs": [],
   "source": [
    "var=\"total_runoff\"\n",
    "\n",
    "cm = {'mean': custom_div_cmap(numcolors=255, mincol='xkcd:red', midcol='xkcd:light grey', maxcol='xkcd:blue'),\n",
    "      'std' : custom_div_cmap(numcolors=255, mincol='xkcd:light grey', midcol='xkcd:light light blue', maxcol='xkcd:blue')}\n",
    "\n",
    "style_kwargs =  {'add_labels': False, 'xticks':[], 'yticks':[], 'cbar_kwargs': dict(orientation=\"horizontal\", shrink=0.975, pad=0.03)}\n",
    "\n",
    "kwargs = {'mean': {'levels': 7, 'vmin':-300, 'vmax':300, 'cmap':cm['mean'], 'extend':'both', **style_kwargs},\n",
    "          'std':  {'levels': 11, 'vmin':0,    'vmax':500, 'cmap':cm['std'],  'extend':'max',  **style_kwargs}}\n",
    "\n",
    "fig, axes = plt.subplots(nrows=3, ncols=4, sharex=True, sharey=True, figsize=(11.375, 10.5)) # used to be figsize=(14,11)\n",
    "plt.subplots_adjust(left=0.0125, bottom=0.0125, right=0.99, top=0.935, hspace=0.075, wspace=0.075)\n",
    "\n",
    "for ix, gcm in enumerate(gcms+['ensemble-mean','ensemble-std']):\n",
    "    row = ix // 4\n",
    "    col = ix % 4\n",
    "    if ix < 10:\n",
    "        rcp45_hydro_30yr_diff['late'][var].sel(gcm=gcm).plot.pcolormesh(ax=axes[row, col], **kwargs['mean'])\n",
    "    elif ix == 10:\n",
    "        rcp45_hydro_30yr_diff['late'].mean(dim='gcm')[var].plot.pcolormesh(ax=axes[row, col], **kwargs['mean'])\n",
    "    elif ix == 11:\n",
    "        rcp45_hydro_30yr_diff['late'].std(dim='gcm')[var].plot.pcolormesh(ax=axes[row, col], **kwargs['std'])\n",
    "    axes[row, col].set_title(gcm, fontsize=12)\n",
    "    \n",
    "fig.suptitle('Change in 30yr mean annual total runoff [mm/yr] - late 21st century', fontsize=14, y=0.985)\n",
    "\n",
    "if figSave:\n",
    "    plt.savefig(f'NB-HI4_Fig6_annual_mean_change_late_{var}_rcp45.png', dpi=300)"
   ]
  },
  {
   "cell_type": "markdown",
   "metadata": {},
   "source": [
    "#### rcp85"
   ]
  },
  {
   "cell_type": "code",
   "execution_count": null,
   "metadata": {},
   "outputs": [],
   "source": [
    "var=\"total_runoff\"\n",
    "\n",
    "cm = {'mean': custom_div_cmap(numcolors=255, mincol='xkcd:red', midcol='xkcd:light grey', maxcol='xkcd:blue'),\n",
    "      'std' : custom_div_cmap(numcolors=255, mincol='xkcd:light grey', midcol='xkcd:light light blue', maxcol='xkcd:blue')}\n",
    "\n",
    "style_kwargs =  {'add_labels': False, 'xticks':[], 'yticks':[], 'cbar_kwargs': dict(orientation=\"horizontal\", shrink=0.975, pad=0.03)}\n",
    "\n",
    "kwargs = {'mean': {'levels': 7, 'vmin':-300, 'vmax':300, 'cmap':cm['mean'], 'extend':'both', **style_kwargs},\n",
    "          'std':  {'levels': 11, 'vmin':0,    'vmax':500, 'cmap':cm['std'],  'extend':'max',  **style_kwargs}}\n",
    "\n",
    "fig, axes = plt.subplots(nrows=3, ncols=4, sharex=True, sharey=True, figsize=(11.375, 10.5))  # used to be figsize=(14,11)\n",
    "plt.subplots_adjust(left=0.0125, bottom=0.0125, right=0.99, top=0.935, hspace=0.075, wspace=0.075)\n",
    "\n",
    "for ix, gcm in enumerate(gcms+['ensemble-mean','ensemble-std']):\n",
    "    row = ix // 4\n",
    "    col = ix % 4\n",
    "    if ix < 10:\n",
    "        rcp85_hydro_30yr_diff['late'][var].sel(gcm=gcm).plot.pcolormesh(ax=axes[row, col], **kwargs['mean'])\n",
    "    elif ix == 10:\n",
    "        rcp85_hydro_30yr_diff['late'].mean(dim='gcm')[var].plot.pcolormesh(ax=axes[row, col], **kwargs['mean'])\n",
    "    elif ix == 11:\n",
    "        rcp85_hydro_30yr_diff['late'].std(dim='gcm')[var].plot.pcolormesh(ax=axes[row, col], **kwargs['std'])\n",
    "    axes[row, col].set_title(gcm, fontsize=12)\n",
    "    \n",
    "fig.suptitle('Change in 30yr mean annual total runoff [mm/yr] - late 21st century', fontsize=14, y=0.985)\n",
    "\n",
    "if figSave:\n",
    "    plt.savefig(f'NB-HI4_Fig7_annual_mean_change_late_{var}_rcp85.png', dpi=300)"
   ]
  },
  {
   "cell_type": "markdown",
   "metadata": {},
   "source": [
    "#### rcp85 - rcp45"
   ]
  },
  {
   "cell_type": "code",
   "execution_count": null,
   "metadata": {},
   "outputs": [],
   "source": [
    "var=\"total_runoff\"\n",
    "\n",
    "cm = {'mean': custom_div_cmap(numcolors=255, mincol='xkcd:red', midcol='xkcd:light grey', maxcol='xkcd:blue'),\n",
    "      'std' : custom_div_cmap(numcolors=255, mincol='xkcd:light grey', midcol='xkcd:light light blue', maxcol='xkcd:blue')}\n",
    "\n",
    "style_kwargs =  {'add_labels': False, 'xticks':[], 'yticks':[], 'cbar_kwargs': dict(orientation=\"horizontal\", shrink=0.975, pad=0.03)}\n",
    "\n",
    "kwargs = {'mean': {'levels': 7, 'vmin':-300, 'vmax':300, 'cmap':cm['mean'], 'extend':'both', **style_kwargs},\n",
    "          'std':  {'levels': 11, 'vmin':0,    'vmax':500, 'cmap':cm['std'],  'extend':'max',  **style_kwargs}}\n",
    "fig, axes = plt.subplots(nrows=3, ncols=4, sharex=True, sharey=True, figsize=(11.375, 10.5))  # used to be figsize=(14,11)\n",
    "plt.subplots_adjust(left=0.0125, bottom=0.0125, right=0.99, top=0.935, hspace=0.075, wspace=0.075)\n",
    "\n",
    "for ix, gcm in enumerate(gcms+['ensemble-mean','ensemble-std']):\n",
    "    row = ix // 4\n",
    "    col = ix % 4\n",
    "    if ix < 10:\n",
    "        diff_rcp_hydro_30yr_change['late'][var].sel(gcm=gcm).plot.pcolormesh(ax=axes[row, col], **kwargs['mean'])\n",
    "    elif ix == 10:\n",
    "        diff_rcp_hydro_30yr_change['late'].mean(dim='gcm')[var].plot.pcolormesh(ax=axes[row, col], **kwargs['mean'])\n",
    "    elif ix == 11:\n",
    "        diff_rcp_hydro_30yr_change['late'].std(dim='gcm')[var].plot.pcolormesh(ax=axes[row, col], **kwargs['std'])\n",
    "    axes[row, col].set_title(gcm, fontsize=14)\n",
    "    \n",
    "fig.suptitle('RCP85 vs RCP 45: Change in 30yr mean annual total runoff [mm/yr] - late 21st century', fontsize=14, y=0.985)\n",
    "\n",
    "if figSave:\n",
    "    plt.savefig(f'NB-HI4_Fig8_annual_mean_change_late_{var}_rcp_diff.png', dpi=300)"
   ]
  },
  {
   "cell_type": "markdown",
   "metadata": {},
   "source": [
    "-------------------------\n",
    "### Evapotranspiration"
   ]
  },
  {
   "cell_type": "markdown",
   "metadata": {},
   "source": [
    "#### rcp45"
   ]
  },
  {
   "cell_type": "code",
   "execution_count": null,
   "metadata": {},
   "outputs": [],
   "source": [
    "var=\"EVAP\"\n",
    "\n",
    "cm = {'mean': custom_div_cmap(numcolors=255, mincol='xkcd:red', midcol='xkcd:light grey', maxcol='xkcd:blue'),\n",
    "      'std' : custom_div_cmap(numcolors=255, mincol='xkcd:light grey', midcol='xkcd:light light blue', maxcol='xkcd:blue')}\n",
    "\n",
    "style_kwargs =  {'add_labels': False, 'xticks':[], 'yticks':[], 'cbar_kwargs': dict(orientation=\"horizontal\", shrink=0.975, pad=0.03)}\n",
    "\n",
    "kwargs = {'mean': {'levels': 9, 'vmin':-100, 'vmax':100, 'cmap':cm['mean'], 'extend':'both', **style_kwargs},\n",
    "          'std':  {'levels': 11, 'vmin':0,    'vmax':50, 'cmap':cm['std'],  'extend':'max',  **style_kwargs}}\n",
    "\n",
    "fig, axes = plt.subplots(nrows=3, ncols=4, sharex=True, sharey=True, figsize=(11.375, 10.5))\n",
    "plt.subplots_adjust(left=0.0125, bottom=0.0125, right=0.99, top=0.935, hspace=0.075, wspace=0.075)\n",
    "\n",
    "for ix, gcm in enumerate(gcms+['ensemble-mean','ensemble-std']):\n",
    "    row = ix // 4\n",
    "    col = ix % 4\n",
    "    if ix < 10:\n",
    "        rcp45_hydro_30yr_diff['late'][var].sel(gcm=gcm).plot.pcolormesh(ax=axes[row, col], **kwargs['mean'])\n",
    "    elif ix == 10:\n",
    "        rcp45_hydro_30yr_diff['late'].mean(dim='gcm')[var].plot.pcolormesh(ax=axes[row, col], **kwargs['mean'])\n",
    "    elif ix == 11:\n",
    "        rcp45_hydro_30yr_diff['late'].std(dim='gcm')[var].plot.pcolormesh(ax=axes[row, col], **kwargs['std'])\n",
    "    axes[row, col].set_title(gcm, fontsize=12)\n",
    "    \n",
    "fig.suptitle('Change in 30yr mean annual evapotranspiration [mm/yr] - late 21st century', fontsize=14, y=0.985)\n",
    "\n",
    "if figSave:\n",
    "    plt.savefig(f'NB-HI4_Fig9_annual_mean_change_late_{var}_rcp45.png', dpi=300)"
   ]
  },
  {
   "cell_type": "markdown",
   "metadata": {},
   "source": [
    "#### rcp85"
   ]
  },
  {
   "cell_type": "code",
   "execution_count": null,
   "metadata": {},
   "outputs": [],
   "source": [
    "var=\"EVAP\"\n",
    "\n",
    "cm = {'mean': custom_div_cmap(numcolors=255, mincol='xkcd:red', midcol='xkcd:light grey', maxcol='xkcd:blue'),\n",
    "      'std' : custom_div_cmap(numcolors=255, mincol='xkcd:light grey', midcol='xkcd:light light blue', maxcol='xkcd:blue')}\n",
    "\n",
    "style_kwargs =  {'add_labels': False, 'xticks':[], 'yticks':[], 'cbar_kwargs': dict(orientation=\"horizontal\", shrink=0.975, pad=0.03)}\n",
    "\n",
    "kwargs = {'mean': {'levels': 9, 'vmin':-100, 'vmax':100, 'cmap':cm['mean'], 'extend':'both', **style_kwargs},\n",
    "          'std':  {'levels': 11, 'vmin':0,    'vmax':50, 'cmap':cm['std'],  'extend':'max',  **style_kwargs}}\n",
    "\n",
    "fig, axes = plt.subplots(nrows=3, ncols=4, sharex=True, sharey=True, figsize=(11.375, 10.5))\n",
    "plt.subplots_adjust(left=0.0125, bottom=0.0125, right=0.99, top=0.935, hspace=0.075, wspace=0.075)\n",
    "\n",
    "for ix, gcm in enumerate(gcms+['ensemble-mean','ensemble-std']):\n",
    "    row = ix // 4\n",
    "    col = ix % 4\n",
    "    if ix < 10:\n",
    "        rcp85_hydro_30yr_diff['late'][var].sel(gcm=gcm).plot.pcolormesh(ax=axes[row, col], **kwargs['mean'])\n",
    "    elif ix == 10:\n",
    "        rcp85_hydro_30yr_diff['late'].mean(dim='gcm')[var].plot.pcolormesh(ax=axes[row, col], **kwargs['mean'])\n",
    "    elif ix == 11:\n",
    "        rcp85_hydro_30yr_diff['late'].std(dim='gcm')[var].plot.pcolormesh(ax=axes[row, col], **kwargs['std'])\n",
    "    axes[row, col].set_title(gcm, fontsize=12)\n",
    "    \n",
    "fig.suptitle('Change in 30yr mean annual evapotransipiration [mm/yr] - late 21st century', fontsize=14, y=0.985)\n",
    "\n",
    "if figSave:\n",
    "    plt.savefig(f'NB-HI4_Fig10_annual_mean_change_late_{var}_rcp85.png', dpi=300)"
   ]
  },
  {
   "cell_type": "markdown",
   "metadata": {},
   "source": [
    "#### RCP85 - RCP45"
   ]
  },
  {
   "cell_type": "code",
   "execution_count": null,
   "metadata": {},
   "outputs": [],
   "source": [
    "var=\"EVAP\"\n",
    "\n",
    "cm = {'mean': custom_div_cmap(numcolors=255, mincol='xkcd:red', midcol='xkcd:light grey', maxcol='xkcd:blue'),\n",
    "      'std' : custom_div_cmap(numcolors=255, mincol='xkcd:light grey', midcol='xkcd:light light blue', maxcol='xkcd:blue')}\n",
    "\n",
    "style_kwargs =  {'add_labels': False, 'xticks':[], 'yticks':[], 'cbar_kwargs': dict(orientation=\"horizontal\", shrink=0.975, pad=0.03)}\n",
    "\n",
    "kwargs = {'mean': {'levels': 9, 'vmin':-100, 'vmax':100, 'cmap':cm['mean'], 'extend':'both', **style_kwargs},\n",
    "          'std':  {'levels': 11, 'vmin':0,    'vmax':50, 'cmap':cm['std'],  'extend':'max',  **style_kwargs}}\n",
    "\n",
    "fig, axes = plt.subplots(nrows=3, ncols=4, sharex=True, sharey=True, figsize=(11.375, 10.5))\n",
    "plt.subplots_adjust(left=0.0125, bottom=0.0125, right=0.99, top=0.935, hspace=0.075, wspace=0.075)\n",
    "\n",
    "for ix, gcm in enumerate(gcms+['ensemble-mean','ensemble-std']):\n",
    "    row = ix // 4\n",
    "    col = ix % 4\n",
    "    if ix < 10:\n",
    "        diff_rcp_hydro_30yr_change['late'][var].sel(gcm=gcm).plot.pcolormesh(ax=axes[row, col], **kwargs['mean'])\n",
    "    elif ix == 10:\n",
    "        diff_rcp_hydro_30yr_change['late'].mean(dim='gcm')[var].plot.pcolormesh(ax=axes[row, col], **kwargs['mean'])\n",
    "    elif ix == 11:\n",
    "        diff_rcp_hydro_30yr_change['late'].std(dim='gcm')[var].plot.pcolormesh(ax=axes[row, col], **kwargs['std'])\n",
    "    axes[row, col].set_title(gcm, fontsize=12)\n",
    "    \n",
    "fig.suptitle('RCP85 vs RCP 45: Change in 30yr mean annual evapotransipiration [mm/yr] - late 21st century', fontsize=14, y=0.985)\n",
    "\n",
    "if figSave:\n",
    "    plt.savefig(f'NB-HI4_Fig11_annual_mean_change_late_{var}_rcp_diff.png', dpi=300)"
   ]
  },
  {
   "cell_type": "markdown",
   "metadata": {},
   "source": [
    "## Histogram to show sign and magnitude of the change across the GCMs"
   ]
  },
  {
   "cell_type": "code",
   "execution_count": null,
   "metadata": {},
   "outputs": [],
   "source": [
    "fig, ax = plt.subplots(figsize=(6.5, 4.5))\n",
    "plt.axhline(y=0, color=\"black\", linestyle=\"--\", linewidth=1)\n",
    "rcp85_hydro_30yr_diff['late'].mean(dim=['lat','lon']).to_dataframe().drop(columns=['er','rr']).plot.bar(ax=ax)\n",
    "\n",
    "h,l = ax.get_legend_handles_labels()\n",
    "# Add some text for labels, title and custom x-axis tick labels, etc.\n",
    "ax.set_ylabel('change signal [mm/yr]')\n",
    "ax.set_ylim([-300, 600])\n",
    "ax.set_xlabel('')\n",
    "ax.set_xticklabels(gcms, rotation = 60)\n",
    "ax.legend(h[:3],['precipitation','evapotranspiration','runoff'],loc=9)\n",
    "\n",
    "plt.tight_layout()\n",
    "if figSave:\n",
    "    plt.savefig(f'NB-HI4_Fig13_annual_mean_change_late_all_gcm_bar.png', dpi=300)"
   ]
  },
  {
   "cell_type": "code",
   "execution_count": null,
   "metadata": {},
   "outputs": [],
   "source": []
  },
  {
   "cell_type": "markdown",
   "metadata": {},
   "source": [
    "## Cofficient of variation of future changes for each variables"
   ]
  },
  {
   "cell_type": "code",
   "execution_count": null,
   "metadata": {},
   "outputs": [],
   "source": [
    "# uncertainty\n",
    "cm = {'cv': cmap}\n",
    "\n",
    "style_kwargs =  {'add_labels': False, 'xticks':[], 'yticks':[], 'cbar_kwargs': dict(orientation=\"horizontal\", pad=0.03)}\n",
    "kwargs = {'cv': {'levels': 21,'vmin':0, 'vmax':10.0, 'cmap':cm['cv'], 'extend':'max', **style_kwargs}}\n",
    "\n",
    "var_title = {'PRCP':'Precipitation', 'EVAP':'Evapotranspiration', 'total_runoff':'Runoff'}\n",
    "\n",
    "fig, axes = plt.subplots(nrows=2, ncols=3, sharex=True, sharey=True, figsize=(6.5, 5.25)) # used to be figsize=(14,11)\n",
    "plt.subplots_adjust(left=0.050, bottom=0.005, right=0.995, top=0.900, hspace=0.1, wspace=0.1)\n",
    "\n",
    "mean ={}; std={}; cv={}\n",
    "for ix, var in enumerate(hydro_flux_vars):\n",
    "    \n",
    "    mean[var] = {45: rcp45_hydro_30yr_diff['late'].mean(dim='gcm')[var],\n",
    "                 85: rcp85_hydro_30yr_diff['late'].mean(dim='gcm')[var]}\n",
    "    \n",
    "    std[var]  = {45: rcp45_hydro_30yr_diff['late'].std(dim='gcm')[var],\n",
    "                 85: rcp85_hydro_30yr_diff['late'].std(dim='gcm')[var]}\n",
    "    \n",
    "    cv[var]   = {45: std[var][45]/abs(mean[var][45]),\n",
    "                 85: std[var][85]/abs(mean[var][85])}\n",
    "    \n",
    "    cv[var][45].plot.pcolormesh(ax=axes[0,ix], **kwargs['cv'])\n",
    "    cv[var][85].plot.pcolormesh(ax=axes[1,ix], **kwargs['cv'])\n",
    "    axes[0,0].set_ylabel('RCP-4.5', fontsize=11)\n",
    "    axes[1,0].set_ylabel('RCP-8.5', fontsize=11)\n",
    "    axes[0,ix].set_title('%s'%var_title[var], fontsize=11)\n",
    "    \n",
    "    \n",
    "fig.suptitle('GCM ensemble CV of flux changes for late-21st century', fontsize=12, y=0.985)\n",
    "if figSave:\n",
    "    plt.savefig(f'NB-HI4_Fig12_cv_change_rcp85.png', dpi=300)"
   ]
  },
  {
   "cell_type": "code",
   "execution_count": null,
   "metadata": {},
   "outputs": [],
   "source": [
    "class AutoVivification(dict):\n",
    "    \"\"\"Implementation of perl's autovivification feature to initialize structure.\"\"\"\n",
    "    def __getitem__(self, item):\n",
    "        try:\n",
    "            return dict.__getitem__(self, item)\n",
    "        except KeyError:\n",
    "            value = self[item] = type(self)()\n",
    "        return value"
   ]
  },
  {
   "cell_type": "code",
   "execution_count": null,
   "metadata": {},
   "outputs": [],
   "source": [
    "# Get std and cv stats over the domain\n",
    "quantile_list = [0.02,0.1,0.2,0.5,0.8,0.9,0.98]\n",
    "mean_list = AutoVivification() \n",
    "std_list  = AutoVivification()  \n",
    "cv_list   = AutoVivification() \n",
    "\n",
    "for jx, rcp in enumerate([45,85]):\n",
    "    for ix, var in enumerate(hydro_flux_vars):\n",
    "    \n",
    "        #mask out grid boxes with small mean values (< median)\n",
    "        med = np.nanquantile(mean[var][rcp].values,0.5)\n",
    "        masked_mean = mean[var][rcp].where(mean[var][rcp]>med)\n",
    "        masked_std  = std[var][rcp].where(mean[var][rcp]>med)\n",
    "        masked_cv   = cv[var][rcp].where(mean[var][rcp]>med)\n",
    "    \n",
    "        mean_list[var][rcp] = np.nanquantile(mean[var][rcp].values, quantile_list).tolist()\n",
    "        std_list[var][rcp]  = np.nanquantile(std[var][rcp].values, quantile_list).tolist()\n",
    "        cv_list[var][rcp]   = np.nanquantile(cv[var][rcp].values,  quantile_list).tolist()"
   ]
  },
  {
   "cell_type": "code",
   "execution_count": null,
   "metadata": {},
   "outputs": [],
   "source": [
    "for rcp in [45,85]:\n",
    "    print(f'rcp-{rcp}')\n",
    "    for ix, var in enumerate(hydro_flux_vars):\n",
    "        print(f'{var}')\n",
    "        print('quantile:', *quantile_list)\n",
    "        print('mean    :', *mean_list[var][rcp])\n",
    "        print('std.dev :', *std_list[var][rcp])\n",
    "        print('C.V.    :', *cv_list[var][rcp])\n",
    "        print('\\n')"
   ]
  },
  {
   "cell_type": "markdown",
   "metadata": {},
   "source": [
    "## domain-wide mean change and spread among GCM"
   ]
  },
  {
   "cell_type": "code",
   "execution_count": null,
   "metadata": {},
   "outputs": [],
   "source": [
    "domain_wide_mean = {}\n",
    "domain_wide_std  = {}\n",
    "for ix, var in enumerate(hydro_flux_vars):\n",
    "    \n",
    "    domain_wide_mean[var] = {45: rcp45_hydro_30yr_diff['late'][var].median(dim=['lon','lat']).mean(dim='gcm').values,\n",
    "                             85: rcp85_hydro_30yr_diff['late'][var].median(dim=['lon','lat']).mean(dim='gcm').values}\n",
    "    \n",
    "    domain_wide_std[var] = {45: rcp45_hydro_30yr_diff['late'][var].median(dim=['lon','lat']).std(dim='gcm').values,\n",
    "                            85: rcp85_hydro_30yr_diff['late'][var].median(dim=['lon','lat']).std(dim='gcm').values}\n"
   ]
  },
  {
   "cell_type": "code",
   "execution_count": null,
   "metadata": {},
   "outputs": [],
   "source": [
    "for rcp in [45,85]:\n",
    "    print(f'rcp-{rcp}')\n",
    "    for ix, var in enumerate(hydro_flux_vars):\n",
    "        print(f'{var}')\n",
    "        print('mean    : ', domain_wide_mean[var][rcp])\n",
    "        print('std.dev : ', domain_wide_std[var][rcp])\n",
    "        print('\\n')"
   ]
  },
  {
   "cell_type": "code",
   "execution_count": null,
   "metadata": {},
   "outputs": [],
   "source": []
  },
  {
   "cell_type": "code",
   "execution_count": null,
   "metadata": {},
   "outputs": [],
   "source": []
  },
  {
   "cell_type": "code",
   "execution_count": null,
   "metadata": {},
   "outputs": [],
   "source": []
  }
 ],
 "metadata": {
  "kernelspec": {
   "display_name": "Python [conda env:cmip5_oconus]",
   "language": "python",
   "name": "conda-env-cmip5_oconus-py"
  },
  "language_info": {
   "codemirror_mode": {
    "name": "ipython",
    "version": 3
   },
   "file_extension": ".py",
   "mimetype": "text/x-python",
   "name": "python",
   "nbconvert_exporter": "python",
   "pygments_lexer": "ipython3",
   "version": "3.7.0"
  }
 },
 "nbformat": 4,
 "nbformat_minor": 4
}
