{
 "cells": [
  {
   "cell_type": "markdown",
   "metadata": {},
   "source": [
    "# NB-HI8: Plot of PET and dryness over three 30yr period for each GCM"
   ]
  },
  {
   "cell_type": "markdown",
   "metadata": {},
   "source": [
    "## module loading..."
   ]
  },
  {
   "cell_type": "code",
   "execution_count": null,
   "metadata": {},
   "outputs": [],
   "source": [
    "%matplotlib inline  \n",
    "import os\n",
    "import sys\n",
    "import xarray as xr\n",
    "import pandas as pd\n",
    "import numpy as np\n",
    "import matplotlib.pyplot as plt\n",
    "import matplotlib as mpl\n",
    "from timeit import default_timer as timer\n",
    "\n",
    "print(\"\\nThe Python version: %s.%s.%s\" % sys.version_info[:3])\n",
    "print(xr.__name__, xr.__version__)\n",
    "print(pd.__name__, pd.__version__)\n",
    "\n",
    "mpl.rcParams['xtick.labelsize']='small'"
   ]
  },
  {
   "cell_type": "code",
   "execution_count": null,
   "metadata": {},
   "outputs": [],
   "source": [
    "from cmip5_oconus import print_date\n",
    "print_date()\n",
    "\n",
    "from cmip5_oconus.data_catalog import load_monthly_historical_hydro_datasets, resample_data\n",
    "from cmip5_oconus.data_catalog import load_monthly_cmip5_hydro_datasets\n",
    "from cmip5_oconus.plot import custom_div_cmap, MidpointNormalize"
   ]
  },
  {
   "cell_type": "markdown",
   "metadata": {},
   "source": []
  },
  {
   "cell_type": "code",
   "execution_count": null,
   "metadata": {},
   "outputs": [],
   "source": [
    "#from dask_jobqueue import PBSCluster\n",
    "#cluster = PBSCluster(processes=9, threads=4, memory=\"108GB\",\n",
    "#                  walltime='00:40:00')\n",
    "#cluster.scale(jobs=3)\n"
   ]
  },
  {
   "cell_type": "code",
   "execution_count": null,
   "metadata": {
    "scrolled": true
   },
   "outputs": [],
   "source": [
    "#from dask.distributed import Client\n",
    "#client = Client(cluster)"
   ]
  },
  {
   "cell_type": "code",
   "execution_count": null,
   "metadata": {},
   "outputs": [],
   "source": [
    "#client"
   ]
  },
  {
   "cell_type": "markdown",
   "metadata": {},
   "source": [
    "-------------------------\n",
    "## Setup "
   ]
  },
  {
   "cell_type": "code",
   "execution_count": null,
   "metadata": {},
   "outputs": [],
   "source": [
    "figSave = True"
   ]
  },
  {
   "cell_type": "code",
   "execution_count": null,
   "metadata": {},
   "outputs": [],
   "source": [
    "region           = 'HI'\n",
    "gcms             = [\"ACCESS1-3\",\"CanESM2\",\"CCSM4\",\"CSIRO-Mk3-6-0\",\"GFDL-ESM2M\",\"HadGEM2-ES\",\"inmcm4\",\"MIROC5\",\"MPI-ESM-MR\",\"MRI-CGCM3\"]\n",
    "period_hist      = slice('1970-01-01', '1999-12-31')\n",
    "period_10yr_hist = slice('1990-01-01', '1999-12-31')\n",
    "pet_vars  = ['PRCP', 'OUT_PET_NATVEG']"
   ]
  },
  {
   "cell_type": "markdown",
   "metadata": {},
   "source": [
    "## Load the data"
   ]
  },
  {
   "cell_type": "code",
   "execution_count": null,
   "metadata": {},
   "outputs": [],
   "source": [
    "xr.set_options(file_cache_maxsize=12000)\n",
    "histo_data = load_monthly_historical_hydro_datasets(models=gcms, variables=pet_vars, region=region, parallel=False)"
   ]
  },
  {
   "cell_type": "code",
   "execution_count": null,
   "metadata": {},
   "outputs": [],
   "source": []
  },
  {
   "cell_type": "markdown",
   "metadata": {},
   "source": [
    "## 30 year (1970-1999) annual mean"
   ]
  },
  {
   "cell_type": "code",
   "execution_count": null,
   "metadata": {},
   "outputs": [],
   "source": [
    "%%time\n",
    "histo_means = {}\n",
    "for name in ['obs', 'gcm']:\n",
    "    histo_means[name] = resample_data(histo_data[name].sel(time=period_hist), region=region, freq='AS').mean('time').compute()"
   ]
  },
  {
   "cell_type": "markdown",
   "metadata": {},
   "source": [
    "## 10 year (1990-1999) annual mean"
   ]
  },
  {
   "cell_type": "code",
   "execution_count": null,
   "metadata": {},
   "outputs": [],
   "source": [
    "histo_10yr_means = {}\n",
    "for name in ['obs', 'gcm']:\n",
    "    histo_10yr_means[name] = resample_data(histo_data[name].sel(time=period_10yr_hist), region=region, freq='AS').mean('time').compute()"
   ]
  },
  {
   "cell_type": "code",
   "execution_count": null,
   "metadata": {},
   "outputs": [],
   "source": []
  },
  {
   "cell_type": "markdown",
   "metadata": {},
   "source": [
    "## Additional process - compute dryness index, and cleanup"
   ]
  },
  {
   "cell_type": "code",
   "execution_count": null,
   "metadata": {},
   "outputs": [],
   "source": [
    "# compute dryness\n",
    "for name in ['obs', 'gcm']:\n",
    "    histo_means[name]['dryness'] = histo_means[name]['OUT_PET_NATVEG']/histo_means[name]['PRCP']\n",
    "    histo_10yr_means[name]['dryness'] = histo_10yr_means[name]['OUT_PET_NATVEG']/histo_10yr_means[name]['PRCP']"
   ]
  },
  {
   "cell_type": "markdown",
   "metadata": {},
   "source": [
    "### Plot"
   ]
  },
  {
   "cell_type": "code",
   "execution_count": null,
   "metadata": {},
   "outputs": [],
   "source": [
    "# create colormap\n",
    "# ---------------\n",
    "\n",
    "# create a colormap that consists of\n",
    "# - 1/5 : custom colormap, ranging from white to the first color of the colormap\n",
    "# - 4/5 : existing colormap\n",
    "\n",
    "# set upper part: 4 * 256/4 entries\n",
    "upper = mpl.cm.Spectral_r(np.arange(256))\n",
    "\n",
    "# set lower part: 1 * 256/4 entries\n",
    "# - initialize all entries to 1 to make sure that the alpha channel (4th column) is 1\n",
    "lower = np.ones((int(256/4),4))\n",
    "# - modify the first three columns (RGB):\n",
    "#   range linearly between white (1,1,1) and the first color of the upper colormap\n",
    "for i in range(3):\n",
    "    lower[:,i] = np.linspace(0.9, upper[0,i], lower.shape[0])\n",
    "\n",
    "# combine parts of colormap\n",
    "cmap = np.vstack(( lower, upper ))\n",
    "\n",
    "# convert to matplotlib colormap\n",
    "cmap = mpl.colors.ListedColormap(cmap, name='myColorMap', N=cmap.shape[0])"
   ]
  },
  {
   "cell_type": "markdown",
   "metadata": {},
   "source": [
    "## 30 year (1970-1999) annual mean plot"
   ]
  },
  {
   "cell_type": "code",
   "execution_count": null,
   "metadata": {},
   "outputs": [],
   "source": [
    "var=\"OUT_PET_NATVEG\"\n",
    "\n",
    "cm = {'mean': cmap,\n",
    "      'std' : custom_div_cmap(mincol='xkcd:light grey', midcol='xkcd:light light blue', maxcol='xkcd:blue')}\n",
    "\n",
    "sfmt = mpl.ticker.ScalarFormatter(useMathText=True)\n",
    "sfmt.set_powerlimits((0, 0))\n",
    "\n",
    "cbar_kwrgs = {'mean':   {\"orientation\":\"horizontal\", \"shrink\":0.990, \"pad\":0.03, 'format':sfmt},\n",
    "              'std':    {\"orientation\":\"horizontal\", \"shrink\":0.990, \"pad\":0.03}}\n",
    "\n",
    "style_kwargs = {'mean': {'add_labels': False, 'xticks':[], 'yticks':[], 'cbar_kwargs': cbar_kwrgs['mean']},\n",
    "                'std':  {'add_labels': False, 'xticks':[], 'yticks':[], 'cbar_kwargs': cbar_kwrgs['std']}}\n",
    "\n",
    "kwargs = {'mean': {'levels': 21, 'vmin':0, 'vmax':2000, 'cmap':cm['mean'], 'extend':'max', **style_kwargs['mean']},\n",
    "          'std':  {'levels': 6, 'vmin':0, 'vmax':50,  'cmap':cm['std'],  'extend':'max', **style_kwargs['std']}}\n",
    "\n",
    "fig, axes = plt.subplots(nrows=3, ncols=4, sharex=True, sharey=True, figsize=(11.375, 10.5)) # used to be figsize=(14,11)\n",
    "plt.subplots_adjust(left=0.012, bottom=0.0125, right=0.99, top=0.935, hspace=0.125, wspace=0.075)\n",
    "\n",
    "for ix, gcm in enumerate(gcms+['UH (1990-1999)','GCM ensemble std']):\n",
    "    row = ix // 4\n",
    "    col = ix % 4\n",
    "    if ix < 10:\n",
    "        histo_means['gcm'][var].sel(gcm=gcm).plot.pcolormesh(ax=axes[row, col], **kwargs['mean'])\n",
    "    elif ix == 10:\n",
    "        histo_means['obs'][var].plot.pcolormesh(ax=axes[row, col], **kwargs['mean'])\n",
    "    elif ix == 11:\n",
    "        histo_means['gcm'].std(dim='gcm')[var].plot.pcolormesh(ax=axes[row, col], **kwargs['std'])\n",
    "    axes[row, col].set_title(gcm, fontsize=14)\n",
    "    \n",
    "#plt.tight_layout()\n",
    "fig.suptitle('1970-1999 mean annual PET [mm/yr]', fontsize=14, y=0.985)\n",
    "if figSave:\n",
    "    plt.savefig(f'NB-HI8_Fig1_annual_mean_{var}_hist.png', dpi=300)"
   ]
  },
  {
   "cell_type": "code",
   "execution_count": null,
   "metadata": {},
   "outputs": [],
   "source": [
    "var=\"dryness\"\n",
    "\n",
    "cm = {'mean': cmap,\n",
    "      'std' : custom_div_cmap(mincol='xkcd:light grey', midcol='xkcd:light light blue', maxcol='xkcd:blue')}\n",
    "\n",
    "sfmt = mpl.ticker.ScalarFormatter(useMathText=True)\n",
    "sfmt.set_powerlimits((0, 0))\n",
    "\n",
    "cbar_kwrgs = {'mean':   {\"orientation\":\"horizontal\", \"shrink\":0.990, \"pad\":0.03, 'format':sfmt},\n",
    "              'std':    {\"orientation\":\"horizontal\", \"shrink\":0.990, \"pad\":0.03}}\n",
    "\n",
    "style_kwargs = {'mean': {'add_labels': False, 'xticks':[], 'yticks':[], 'cbar_kwargs': cbar_kwrgs['mean']},\n",
    "                'std':  {'add_labels': False, 'xticks':[], 'yticks':[], 'cbar_kwargs': cbar_kwrgs['std']}}\n",
    "\n",
    "kwargs = {'mean': {'levels': 11, 'vmin':0, 'vmax':2.5, 'cmap':cm['mean'], 'extend':'max', **style_kwargs['mean']},\n",
    "          'std':  {'levels': 6, 'vmin':0, 'vmax':0.5, 'cmap':cm['std'],  'extend':'max', **style_kwargs['std']}}\n",
    "\n",
    "fig, axes = plt.subplots(nrows=3, ncols=4, sharex=True, sharey=True, figsize=(11.375, 10.5)) # used to be figsize=(14,11)\n",
    "plt.subplots_adjust(left=0.012, bottom=0.0125, right=0.99, top=0.935, hspace=0.125, wspace=0.075)\n",
    "\n",
    "for ix, gcm in enumerate(gcms+['UH (1990-1999)','GCM ensemble std']):\n",
    "    row = ix // 4\n",
    "    col = ix % 4\n",
    "    if ix < 10:\n",
    "        histo_means['gcm'][var].sel(gcm=gcm).plot.pcolormesh(ax=axes[row, col], **kwargs['mean'])\n",
    "    elif ix == 10:\n",
    "        histo_means['obs'][var].plot.pcolormesh(ax=axes[row, col], **kwargs['mean'])\n",
    "    elif ix == 11:\n",
    "        histo_means['gcm'].std(dim='gcm')[var].plot.pcolormesh(ax=axes[row, col], **kwargs['std'])\n",
    "    axes[row, col].set_title(gcm, fontsize=14)\n",
    "\n",
    "fig.suptitle('1970-1999 mean annual dryness index [-]', fontsize=14, y=0.985)\n",
    "if figSave:\n",
    "    plt.savefig(f'NB-HI8_Fig2_annual_mean_{var}_hist.png', dpi=300)"
   ]
  },
  {
   "cell_type": "code",
   "execution_count": null,
   "metadata": {},
   "outputs": [],
   "source": []
  },
  {
   "cell_type": "markdown",
   "metadata": {},
   "source": [
    "## 10 year (1990-1999) annual mean plot"
   ]
  },
  {
   "cell_type": "code",
   "execution_count": null,
   "metadata": {},
   "outputs": [],
   "source": [
    "var=\"OUT_PET_NATVEG\"\n",
    "\n",
    "cm = {'mean': cmap,\n",
    "      'std' : custom_div_cmap(mincol='xkcd:light grey', midcol='xkcd:light light blue', maxcol='xkcd:blue')}\n",
    "\n",
    "sfmt = mpl.ticker.ScalarFormatter(useMathText=True)\n",
    "sfmt.set_powerlimits((0, 0))\n",
    "\n",
    "cbar_kwrgs = {'mean':   {\"orientation\":\"horizontal\", \"shrink\":0.990, \"pad\":0.03, 'format':sfmt},\n",
    "              'std':    {\"orientation\":\"horizontal\", \"shrink\":0.990, \"pad\":0.03}}\n",
    "\n",
    "style_kwargs = {'mean': {'add_labels': False, 'xticks':[], 'yticks':[], 'cbar_kwargs': cbar_kwrgs['mean']},\n",
    "                'std':  {'add_labels': False, 'xticks':[], 'yticks':[], 'cbar_kwargs': cbar_kwrgs['std']}}\n",
    "\n",
    "kwargs = {'mean': {'levels': 21, 'vmin':0, 'vmax':2000, 'cmap':cm['mean'], 'extend':'max', **style_kwargs['mean']},\n",
    "          'std':  {'levels': 6, 'vmin':0, 'vmax':50,  'cmap':cm['std'],  'extend':'max', **style_kwargs['std']}}\n",
    "\n",
    "fig, axes = plt.subplots(nrows=3, ncols=4, sharex=True, sharey=True, figsize=(11.375, 10.5)) # used to be figsize=(14,11)\n",
    "plt.subplots_adjust(left=0.012, bottom=0.0125, right=0.99, top=0.935, hspace=0.125, wspace=0.075)\n",
    "\n",
    "for ix, gcm in enumerate(gcms+['UH (1990-1999)','GCM ensemble std']):\n",
    "    row = ix // 4\n",
    "    col = ix % 4\n",
    "    if ix < 10:\n",
    "        histo_10yr_means['gcm'][var].sel(gcm=gcm).plot.pcolormesh(ax=axes[row, col], **kwargs['mean'])\n",
    "    elif ix == 10:\n",
    "        histo_10yr_means['obs'][var].plot.pcolormesh(ax=axes[row, col], **kwargs['mean'])\n",
    "    elif ix == 11:\n",
    "        histo_10yr_means['gcm'].std(dim='gcm')[var].plot.pcolormesh(ax=axes[row, col], **kwargs['std'])\n",
    "    axes[row, col].set_title(gcm, fontsize=14)\n",
    "    \n",
    "#plt.tight_layout()\n",
    "fig.suptitle('1970-1999 mean annual PET [mm/yr]', fontsize=14, y=0.985)\n",
    "if figSave:\n",
    "    plt.savefig(f'NB-HI8_Fig3_annual_mean_{var}_10yr_hist.png', dpi=300)"
   ]
  },
  {
   "cell_type": "code",
   "execution_count": null,
   "metadata": {},
   "outputs": [],
   "source": [
    "var=\"dryness\"\n",
    "\n",
    "cm = {'mean': cmap,\n",
    "      'std' : custom_div_cmap(mincol='xkcd:light grey', midcol='xkcd:light light blue', maxcol='xkcd:blue')}\n",
    "\n",
    "sfmt = mpl.ticker.ScalarFormatter(useMathText=True)\n",
    "sfmt.set_powerlimits((0, 0))\n",
    "\n",
    "cbar_kwrgs = {'mean':   {\"orientation\":\"horizontal\", \"shrink\":0.990, \"pad\":0.03, 'format':sfmt},\n",
    "              'std':    {\"orientation\":\"horizontal\", \"shrink\":0.990, \"pad\":0.03}}\n",
    "\n",
    "style_kwargs = {'mean': {'add_labels': False, 'xticks':[], 'yticks':[], 'cbar_kwargs': cbar_kwrgs['mean']},\n",
    "                'std':  {'add_labels': False, 'xticks':[], 'yticks':[], 'cbar_kwargs': cbar_kwrgs['std']}}\n",
    "\n",
    "kwargs = {'mean': {'levels': 11, 'vmin':0, 'vmax':2.5, 'cmap':cm['mean'], 'extend':'max', **style_kwargs['mean']},\n",
    "          'std':  {'levels': 6, 'vmin':0, 'vmax':0.5, 'cmap':cm['std'],  'extend':'max', **style_kwargs['std']}}\n",
    "\n",
    "fig, axes = plt.subplots(nrows=3, ncols=4, sharex=True, sharey=True, figsize=(11.375, 10.5)) # used to be figsize=(14,11)\n",
    "plt.subplots_adjust(left=0.012, bottom=0.0125, right=0.99, top=0.935, hspace=0.125, wspace=0.075)\n",
    "\n",
    "for ix, gcm in enumerate(gcms+['UH','GCM ensemble std']):\n",
    "    row = ix // 4\n",
    "    col = ix % 4\n",
    "    if ix < 10:\n",
    "        histo_10yr_means['gcm'][var].sel(gcm=gcm).plot.pcolormesh(ax=axes[row, col], **kwargs['mean'])\n",
    "    elif ix == 10:\n",
    "        histo_10yr_means['obs'][var].plot.pcolormesh(ax=axes[row, col], **kwargs['mean'])\n",
    "    elif ix == 11:\n",
    "        histo_10yr_means['gcm'].std(dim='gcm')[var].plot.pcolormesh(ax=axes[row, col], **kwargs['std'])\n",
    "    axes[row, col].set_title(gcm, fontsize=14)\n",
    "    \n",
    "fig.suptitle('1990-1999 mean annual dryness [-]', fontsize=14, y=0.985)\n",
    "if figSave:\n",
    "    plt.savefig(f'NB-HI8_Fig4_annual_mean_{var}_10yr_hist.png', dpi=300)"
   ]
  },
  {
   "cell_type": "markdown",
   "metadata": {},
   "source": [
    "### Below is for checking random things"
   ]
  },
  {
   "cell_type": "code",
   "execution_count": null,
   "metadata": {},
   "outputs": [],
   "source": []
  }
 ],
 "metadata": {
  "kernelspec": {
   "display_name": "Python [conda env:cmip5_oconus]",
   "language": "python",
   "name": "conda-env-cmip5_oconus-py"
  },
  "language_info": {
   "codemirror_mode": {
    "name": "ipython",
    "version": 3
   },
   "file_extension": ".py",
   "mimetype": "text/x-python",
   "name": "python",
   "nbconvert_exporter": "python",
   "pygments_lexer": "ipython3",
   "version": "3.7.0"
  }
 },
 "nbformat": 4,
 "nbformat_minor": 4
}
