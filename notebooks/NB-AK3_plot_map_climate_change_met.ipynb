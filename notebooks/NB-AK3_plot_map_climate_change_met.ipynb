{
 "cells": [
  {
   "cell_type": "markdown",
   "metadata": {},
   "source": [
    "# NB-AK3: Long-term temperature changes for early, mid and late 21st century periods from historical period"
   ]
  },
  {
   "cell_type": "markdown",
   "metadata": {},
   "source": [
    "## module loading..."
   ]
  },
  {
   "cell_type": "code",
   "execution_count": null,
   "metadata": {},
   "outputs": [],
   "source": [
    "%matplotlib inline  \n",
    "import os\n",
    "import sys\n",
    "import xarray as xr\n",
    "import numpy as np\n",
    "import matplotlib.pyplot as plt\n",
    "import matplotlib as mpl\n",
    "from timeit import default_timer as timer\n",
    "\n",
    "print(\"\\nThe Python version: %s.%s.%s\" % sys.version_info[:3])\n",
    "print(xr.__name__, xr.__version__)\n",
    "\n",
    "mpl.rcParams['xtick.labelsize']='small'\n",
    "\n",
    "np.seterr(divide='ignore', invalid='ignore')"
   ]
  },
  {
   "cell_type": "code",
   "execution_count": null,
   "metadata": {},
   "outputs": [],
   "source": [
    "from cmip5_oconus import print_date\n",
    "print_date()\n",
    "\n",
    "from cmip5_oconus.data_catalog import load_monthly_historical_met_datasets, resample_data\n",
    "from cmip5_oconus.data_catalog import load_monthly_cmip5_met_datasets\n",
    "from cmip5_oconus.plot import custom_div_cmap, MidpointNormalize, add_ylabel\n",
    "from cmip5_oconus.utils import calc_change"
   ]
  },
  {
   "cell_type": "markdown",
   "metadata": {},
   "source": [
    "### dask jobque setup"
   ]
  },
  {
   "cell_type": "code",
   "execution_count": null,
   "metadata": {},
   "outputs": [],
   "source": [
    "from dask_jobqueue import PBSCluster\n",
    "cluster = PBSCluster(processes=9, threads=4, memory=\"108GB\",\n",
    "                  walltime='00:40:00')\n",
    "cluster.scale(jobs=3)"
   ]
  },
  {
   "cell_type": "code",
   "execution_count": null,
   "metadata": {
    "scrolled": true
   },
   "outputs": [],
   "source": [
    "from dask.distributed import Client\n",
    "client = Client(cluster)"
   ]
  },
  {
   "cell_type": "code",
   "execution_count": null,
   "metadata": {},
   "outputs": [],
   "source": [
    "client"
   ]
  },
  {
   "cell_type": "markdown",
   "metadata": {},
   "source": [
    "-------------------------\n",
    "## Setup "
   ]
  },
  {
   "cell_type": "code",
   "execution_count": null,
   "metadata": {},
   "outputs": [],
   "source": [
    "figSave = True"
   ]
  },
  {
   "cell_type": "code",
   "execution_count": null,
   "metadata": {},
   "outputs": [],
   "source": [
    "gcms        = [\"ACCESS1-3\",\"CanESM2\",\"CCSM4\",\"CSIRO-Mk3-6-0\",\"GFDL-ESM2M\",\"HadGEM2-ES\",\"inmcm4\",\"MIROC5\",\"MPI-ESM-MR\",\"MRI-CGCM3\"]\n",
    "met_vars    = ['tmean', 'dtr']\n",
    "period_hist = slice('1970-01-01', '1999-12-31')\n",
    "period_futr = {'early' : slice('2010-01-01', '2039-12-31'),\n",
    "               'middle': slice('2040-01-01', '2069-12-31'),\n",
    "               'late'  : slice('2070-01-01', '2099-12-31')}"
   ]
  },
  {
   "cell_type": "markdown",
   "metadata": {},
   "source": [
    "## Load the data"
   ]
  },
  {
   "cell_type": "code",
   "execution_count": null,
   "metadata": {},
   "outputs": [],
   "source": [
    "xr.set_options(file_cache_maxsize=12000)\n",
    "histo_data = load_monthly_historical_met_datasets(models=gcms, variables=met_vars, region='AK', parallel=False)\n",
    "rcp45_data = load_monthly_cmip5_met_datasets(scen='rcp45', models=gcms, variables=met_vars, region='AK', parallel=False)\n",
    "rcp85_data = load_monthly_cmip5_met_datasets(scen='rcp85', models=gcms, variables=met_vars, region='AK', parallel=False)"
   ]
  },
  {
   "cell_type": "markdown",
   "metadata": {},
   "source": [
    "## Compute 30-yr annual mean for 4 periods - historical, early, mid and late"
   ]
  },
  {
   "cell_type": "code",
   "execution_count": null,
   "metadata": {},
   "outputs": [],
   "source": [
    "histo_tair_ann = resample_data(histo_data['gcm'].sel(time=period_hist), region='AK', freq='AS').mean('time').compute()\n",
    "\n",
    "rcp45_tair_ann = {}\n",
    "rcp85_tair_ann = {}\n",
    "for key, futr_period in period_futr.items():\n",
    "    rcp45_tair_ann[key] = resample_data(rcp45_data.sel(time=futr_period), region='AK', freq='AS').mean('time').compute()\n",
    "    rcp85_tair_ann[key] = resample_data(rcp85_data.sel(time=futr_period), region='AK', freq='AS').mean('time').compute()"
   ]
  },
  {
   "cell_type": "markdown",
   "metadata": {},
   "source": [
    "## Compute difference in 30-yr annual mean between historical and future"
   ]
  },
  {
   "cell_type": "code",
   "execution_count": null,
   "metadata": {},
   "outputs": [],
   "source": [
    "rcp45_ann_tair_30yr_diff = {}\n",
    "rcp85_ann_tair_30yr_diff = {}\n",
    "diff_rcp_ann_tair_30yr_change ={}\n",
    "for key, futr_period in period_futr.items():\n",
    "    rcp45_ann_tair_30yr_diff[key] = calc_change(histo_tair_ann, rcp45_tair_ann[key], pct=False)\n",
    "    rcp85_ann_tair_30yr_diff[key] = calc_change(histo_tair_ann, rcp85_tair_ann[key], pct=False)\n",
    "    \n",
    "    diff_rcp_ann_tair_30yr_change[key] =rcp85_ann_tair_30yr_diff[key] - rcp45_ann_tair_30yr_diff[key]"
   ]
  },
  {
   "cell_type": "markdown",
   "metadata": {},
   "source": [
    "## Compute 30-yr seasonal mean for 4 periods - historical, early, mid and late"
   ]
  },
  {
   "cell_type": "code",
   "execution_count": null,
   "metadata": {},
   "outputs": [],
   "source": [
    "histo_tair_season = histo_data['gcm'].sel(time=period_hist).groupby('time.season').mean(dim=\"time\")\n",
    "\n",
    "rcp45_tair_season = {}\n",
    "rcp85_tair_season = {}\n",
    "for key, futr_period in period_futr.items():\n",
    "    rcp45_tair_season[key] = rcp45_data.sel(time=futr_period).groupby('time.season').mean('time')\n",
    "    rcp85_tair_season[key] = rcp85_data.sel(time=futr_period).groupby('time.season').mean('time')"
   ]
  },
  {
   "cell_type": "markdown",
   "metadata": {},
   "source": [
    "## Compute difference in 30-yr seasonal mean between historical and future"
   ]
  },
  {
   "cell_type": "code",
   "execution_count": null,
   "metadata": {},
   "outputs": [],
   "source": [
    "rcp45_season_tair_30yr_diff = {}\n",
    "rcp85_season_tair_30yr_diff = {}\n",
    "for key, futr_period in period_futr.items():\n",
    "    rcp45_season_tair_30yr_diff[key] = calc_change(histo_tair_season, rcp45_tair_season[key], pct=False)\n",
    "    rcp85_season_tair_30yr_diff[key] = calc_change(histo_tair_season, rcp85_tair_season[key], pct=False)"
   ]
  },
  {
   "cell_type": "markdown",
   "metadata": {},
   "source": [
    "## Plotting"
   ]
  },
  {
   "cell_type": "code",
   "execution_count": null,
   "metadata": {},
   "outputs": [],
   "source": [
    "# create colormap\n",
    "# ---------------\n",
    "\n",
    "from matplotlib.colors import LinearSegmentedColormap\n",
    "\n",
    "# create a colormap that consists of\n",
    "# - 1/5 : custom colormap, ranging from white to the first color of the colormap\n",
    "# - 4/5 : existing colormap\n",
    "\n",
    "# set upper part: 4 * 256/4 entries\n",
    "upper = mpl.cm.Spectral_r(np.arange(256))\n",
    "\n",
    "# set lower part: 1 * 256/4 entries\n",
    "# - initialize all entries to 1 to make sure that the alpha channel (4th column) is 1\n",
    "lower = np.ones((int(256/4),4))\n",
    "# - modify the first three columns (RGB):\n",
    "#   range linearly between white (1,1,1) and the first color of the upper colormap\n",
    "for i in range(3):\n",
    "    lower[:,i] = np.linspace(0.9, upper[0,i], lower.shape[0])\n",
    "\n",
    "# combine parts of colormap\n",
    "cmap = np.vstack(( lower, upper ))\n",
    "\n",
    "# convert to matplotlib colormap\n",
    "cmap = mpl.colors.ListedColormap(cmap, name='myColorMap', N=cmap.shape[0])\n",
    "\n",
    "cmap_change_tmean = LinearSegmentedColormap.from_list('custom1', \n",
    "                                             [(0.00, 'xkcd:light grey'),\n",
    "                                              (0.40,  'xkcd:light orange'),\n",
    "                                              (0.75,  'xkcd:light red'),\n",
    "                                              (1,    'xkcd:purple')], N=256)\n",
    "\n",
    "cmap_change_tseason = LinearSegmentedColormap.from_list('custom1', \n",
    "                                              [(0.00, 'xkcd:light grey'),\n",
    "                                              (0.40,  'xkcd:light orange'),\n",
    "                                              (0.75,   'xkcd:red'),\n",
    "                                              (1,    'xkcd:purple')], N=256)\n",
    "\n",
    "cmap_change_dtr = LinearSegmentedColormap.from_list('custom2', \n",
    "                                             [(0,    'xkcd:blue'),\n",
    "                                              (0.5,  'xkcd:light grey'),\n",
    "                                              (1,    'xkcd:red')], N=256)"
   ]
  },
  {
   "cell_type": "markdown",
   "metadata": {},
   "source": [
    "------------\n",
    " - Change in 30yr mean between historical and three future periods in 21st century (early, mid, and late) "
   ]
  },
  {
   "cell_type": "code",
   "execution_count": null,
   "metadata": {},
   "outputs": [],
   "source": [
    "# some local plot setups\n",
    "\n",
    "cm = {'history'      : cmap,\n",
    "      'change_tmean' : cmap_change_tmean,\n",
    "      'change_dtr'   : cmap_change_dtr}\n",
    "\n",
    "cbar_kwrgs = {'mean':   {\"orientation\":\"horizontal\", \"shrink\":0.990, \"pad\":0.03},\n",
    "              'change': {\"orientation\":\"horizontal\", \"shrink\":0.990, \"pad\":0.03}}\n",
    "\n",
    "style_kwargs = {'mean':   {'add_labels': False, 'xticks':[], 'yticks':[], 'cbar_kwargs': cbar_kwrgs['mean']},\n",
    "                'change': {'add_labels': False, 'xticks':[], 'yticks':[], 'cbar_kwargs': cbar_kwrgs['change']}\n",
    "               }\n",
    "\n",
    "kwargs = {'change_tmean': {'levels': 6,  'vmin':0,   'vmax':10, 'cmap':cm['change_tmean'], 'extend':'both', **style_kwargs['change']},\n",
    "          'change_dtr':   {'levels': 5, 'vmin':-2,   'vmax':2,  'cmap':cm['change_dtr'],   'extend':'both', **style_kwargs['change']},\n",
    "          'tmean':        {'levels': 22, 'vmin':-20, 'vmax':15, 'cmap':cm['history'],      'extend':'both', **style_kwargs['mean']},\n",
    "          'dtr':          {'levels': 21, 'vmin':0,   'vmax':20, 'cmap':cm['history'],      'extend':'max',  **style_kwargs['mean']}}\n",
    "\n",
    "var_title = {'tmean':'temperature', 'dtr':'dirunal temperature range'}"
   ]
  },
  {
   "cell_type": "code",
   "execution_count": null,
   "metadata": {},
   "outputs": [],
   "source": [
    "fig, axes = plt.subplots(nrows=4, ncols=2, sharex=True, sharey=True, figsize=(5.5, 11.25))\n",
    "plt.subplots_adjust(left=0.045, bottom=0.0125, right=0.985, top=0.975, hspace=0.075, wspace=0.075)\n",
    "\n",
    "for col, var in enumerate(['tmean','dtr']):\n",
    "    histo_tair_ann.mean(dim='gcm')[var].plot.pcolormesh(ax=axes[0, col], **kwargs[var])\n",
    "    rcp85_ann_tair_30yr_diff['early'].mean(dim='gcm')[var].plot.pcolormesh(ax=axes[1, col],  **kwargs[f'change_{var}'])\n",
    "    rcp85_ann_tair_30yr_diff['middle'].mean(dim='gcm')[var].plot.pcolormesh(ax=axes[2, col], **kwargs[f'change_{var}'])\n",
    "    rcp85_ann_tair_30yr_diff['late'].mean(dim='gcm')[var].plot.pcolormesh(ax=axes[3, col],   **kwargs[f'change_{var}'])\n",
    "    \n",
    "    add_ylabel(axes[0, 0], 'historical [C]', fontsize=11)\n",
    "    add_ylabel(axes[1, 0], 'changes 2010-2039 [C]', fontsize=11)\n",
    "    add_ylabel(axes[2, 0], 'changes 2040-2069 [C]', fontsize=11)\n",
    "    add_ylabel(axes[3, 0], 'changes 2070-2099 [C]', fontsize=11)\n",
    "    axes[0, col].set_title(var_title[var], fontsize=12)\n",
    "    \n",
    "#plt.tight_layout()\n",
    "if figSave:\n",
    "    plt.savefig(f'NB-AK3_Fig1_annual_mean_change_temperature_rcp85.png', dpi=300)"
   ]
  },
  {
   "cell_type": "markdown",
   "metadata": {},
   "source": [
    "------------\n",
    " - The same as above except for two future periods in 21st century (early, mid, and late) "
   ]
  },
  {
   "cell_type": "code",
   "execution_count": null,
   "metadata": {},
   "outputs": [],
   "source": [
    "fig, axes = plt.subplots(nrows=3, ncols=2, sharex=True, sharey=True, figsize=(5.5,8.75))\n",
    "plt.subplots_adjust(left=0.045, bottom=0.0125, right=0.985, top=0.975, hspace=0.075, wspace=0.075)\n",
    "\n",
    "for col, var in enumerate(['tmean','dtr']):\n",
    "    histo_tair_ann.mean(dim='gcm')[var].plot.pcolormesh(ax=axes[0, col], **kwargs[var])\n",
    "    rcp85_ann_tair_30yr_diff['middle'].mean(dim='gcm')[var].plot.pcolormesh(ax=axes[1, col], **kwargs[f'change_{var}'])\n",
    "    rcp85_ann_tair_30yr_diff['late'].mean(dim='gcm')[var].plot.pcolormesh(ax=axes[2, col],   **kwargs[f'change_{var}'])\n",
    "    \n",
    "    add_ylabel(axes[0, 0], 'historical [C]', fontsize=11)\n",
    "    add_ylabel(axes[1, 0], 'changes 2040-2069 [C]', fontsize=11)\n",
    "    add_ylabel(axes[2, 0], 'changes 2070-2099 [C]', fontsize=11)\n",
    "    axes[0, col].set_title(var_title[var], fontsize=12)\n",
    "    \n",
    "if figSave:\n",
    "    plt.savefig(f'NB-AK3_Fig2_annual_mean_change_temperature_mid_late_rcp85.png', dpi=300)"
   ]
  },
  {
   "cell_type": "markdown",
   "metadata": {},
   "source": [
    "------------\n",
    " - Difference between two RCPs in 30yr mean change for late 21st century"
   ]
  },
  {
   "cell_type": "code",
   "execution_count": null,
   "metadata": {},
   "outputs": [],
   "source": [
    "cm = {'change' : custom_div_cmap(numcolors=256, mincol='xkcd:blue', midcol='xkcd:light grey', maxcol='xkcd:red')}\n",
    "\n",
    "style_kwargs = {'add_labels': False, 'xticks':[], 'yticks':[], 'cbar_kwargs': dict(orientation=\"horizontal\", shrink=0.995, pad=0.03)}\n",
    "kwargs       = {'change-rcp': {'levels':9,'vmin':-4, 'vmax':4,  'cmap':cm['change'], 'extend':'both', **style_kwargs}}\n",
    "\n",
    "fig, axes = plt.subplots(nrows=1, ncols=2, sharex=True, sharey=True, figsize=(5.5,3))\n",
    "plt.subplots_adjust(left=0.040, bottom=0.0125, right=0.990, top=0.900, hspace=0.060, wspace=0.060)\n",
    "\n",
    "for col, var in enumerate(['tmean','dtr']):\n",
    "    diff_rcp_ann_tair_30yr_change['late'].mean(dim='gcm')[var].plot.pcolormesh(ax=axes[col], **kwargs['change-rcp'])\n",
    "    \n",
    "    add_ylabel(axes[0], 'RCP85 - RCP45[C]', fontsize=11)\n",
    "    axes[col].set_title(var_title[var], fontsize=12)\n",
    "    \n",
    "if figSave:\n",
    "    plt.savefig(f'NB-AK3_Fig3_annual_mean_temperature_late_diff_rcp.png', dpi=300)"
   ]
  },
  {
   "cell_type": "markdown",
   "metadata": {},
   "source": [
    "--------\n",
    "- annual temperature changes for individual GCMs for late 21st century are plotted below"
   ]
  },
  {
   "cell_type": "markdown",
   "metadata": {},
   "source": [
    "--------------------\n",
    "### mean temperature"
   ]
  },
  {
   "cell_type": "markdown",
   "metadata": {},
   "source": [
    "#### rcp45"
   ]
  },
  {
   "cell_type": "code",
   "execution_count": null,
   "metadata": {},
   "outputs": [],
   "source": [
    "var=\"tmean\"\n",
    "\n",
    "cm = {'mean': cmap_change_tmean,\n",
    "      'std' : custom_div_cmap(numcolors=16, mincol='xkcd:light grey', midcol='xkcd:light light blue', maxcol='xkcd:blue')}\n",
    "\n",
    "style_kwargs = {'add_labels': False, 'xticks':[], 'yticks':[], 'cbar_kwargs': {\"orientation\":\"horizontal\", \"shrink\":0.990, \"pad\":0.03}}\n",
    "\n",
    "#kwargs = {'mean': {'levels': 6, 'vmin':0, 'vmax':10, 'cmap':cm['mean'], 'extend':'both', **style_kwargs},\n",
    "#          'std':  {'levels': 7, 'vmin':0, 'vmax':3,  'cmap':cm['std'],  'extend':'max',  **style_kwargs}}\n",
    "\n",
    "kwargs = {'mean': {'levels': 21, 'vmin':0, 'vmax':10, 'cmap':cm['mean'], 'extend':'max', **style_kwargs},\n",
    "          'std':  {'levels': 7, 'vmin':0, 'vmax':3,  'cmap':cm['std'],  'extend':'max',  **style_kwargs}}\n",
    "\n",
    "fig, axes = plt.subplots(nrows=3, ncols=4, sharex=True, sharey=True, figsize=(11.375, 10.5)) # used to be figsize=(14,11)\n",
    "plt.subplots_adjust(left=0.0125, bottom=0.0125, right=0.99, top=0.935, hspace=0.075, wspace=0.075)\n",
    "\n",
    "for ix, gcm in enumerate(gcms+['ensemble-mean','ensemble-std']):\n",
    "    row = ix // 4\n",
    "    col = ix % 4\n",
    "    if ix < 10:\n",
    "        rcp45_ann_tair_30yr_diff['late'][var].sel(gcm=gcm).plot.pcolormesh(ax=axes[row, col], **kwargs['mean'])\n",
    "    elif ix == 10:\n",
    "        rcp45_ann_tair_30yr_diff['late'].mean(dim='gcm')[var].plot.pcolormesh(ax=axes[row, col], **kwargs['mean'])\n",
    "    elif ix == 11:\n",
    "        rcp45_ann_tair_30yr_diff['late'].std(dim='gcm')[var].plot.pcolormesh(ax=axes[row, col], **kwargs['std'])\n",
    "    axes[row, col].set_title(gcm, fontsize=12)\n",
    "    \n",
    "#plt.tight_layout()\n",
    "fig.suptitle('Change in 30yr mean temperature [$^\\circ$C] - late 21st century', fontsize=14, y=0.985)\n",
    "if figSave:\n",
    "    plt.savefig(f'NB-AK3_Fig4_annual_mean_temperature_late_{var}_rcp45.png', dpi=300)"
   ]
  },
  {
   "cell_type": "markdown",
   "metadata": {},
   "source": [
    "#### rcp85"
   ]
  },
  {
   "cell_type": "code",
   "execution_count": null,
   "metadata": {
    "tags": []
   },
   "outputs": [],
   "source": [
    "var=\"tmean\"\n",
    "\n",
    "cm = {'mean': cmap_change_tmean,\n",
    "      'std' : custom_div_cmap(numcolors=16, mincol='xkcd:light grey', midcol='xkcd:light light blue', maxcol='xkcd:blue')}\n",
    "\n",
    "style_kwargs = {'add_labels': False, 'xticks':[], 'yticks':[], 'cbar_kwargs': {\"orientation\":\"horizontal\", \"shrink\":0.990, \"pad\":0.03}}\n",
    "\n",
    "kwargs = {'mean': {'levels': 21, 'vmin':0, 'vmax':10, 'cmap':cm['mean'], 'extend':'max', **style_kwargs},\n",
    "          'std':  {'levels': 7, 'vmin':0, 'vmax':3,  'cmap':cm['std'],  'extend':'max',  **style_kwargs}}\n",
    "\n",
    "fig, axes = plt.subplots(nrows=3, ncols=4, sharex=True, sharey=True, figsize=(11.375, 10.5))  # used to be figsize=(14,11)\n",
    "\n",
    "plt.subplots_adjust(left=0.0125, bottom=0.0125, right=0.99, top=0.935, hspace=0.075, wspace=0.075)\n",
    "\n",
    "for ix, gcm in enumerate(gcms+['ensemble-mean','ensemble-std']):\n",
    "    row = ix // 4\n",
    "    col = ix % 4\n",
    "    if ix < 10:\n",
    "        rcp85_ann_tair_30yr_diff['late'][var].sel(gcm=gcm).plot.pcolormesh(ax=axes[row, col], **kwargs['mean'])\n",
    "    elif ix == 10:\n",
    "        rcp85_ann_tair_30yr_diff['late'].mean(dim='gcm')[var].plot.pcolormesh(ax=axes[row, col], **kwargs['mean'])\n",
    "    elif ix == 11:\n",
    "        rcp85_ann_tair_30yr_diff['late'].std(dim='gcm')[var].plot.pcolormesh(ax=axes[row, col], **kwargs['std'])\n",
    "    axes[row, col].set_title(gcm, fontsize=12)\n",
    "    \n",
    "fig.suptitle('Change in 30yr mean annual temperature [$^\\circ$C] - late 21st century', fontsize=14, y=0.985)\n",
    "if figSave:\n",
    "    plt.savefig(f'NB-AK3_Fig5_annual_mean_temperature_late_{var}_rcp85.png', dpi=300)"
   ]
  },
  {
   "cell_type": "markdown",
   "metadata": {},
   "source": [
    "------------\n",
    " - Change in 30yr seasonal temperature between historical and three future periods in 21st century (early, mid, and late) "
   ]
  },
  {
   "cell_type": "code",
   "execution_count": null,
   "metadata": {},
   "outputs": [],
   "source": [
    "# some local plot setups\n",
    "\n",
    "cm = {'history' : cmap,\n",
    "      'change'  : cmap_change_tseason}\n",
    "\n",
    "cbar_kwrgs = {'mean':   {\"orientation\":\"horizontal\", \"shrink\":0.990, \"pad\":0.03},\n",
    "              'change': {\"orientation\":\"horizontal\", \"shrink\":0.990, \"pad\":0.03}}\n",
    "\n",
    "style_kwargs = {'mean':   {'add_labels': False, 'xticks':[], 'yticks':[], 'cbar_kwargs': cbar_kwrgs['mean']},\n",
    "                'change': {'add_labels': False, 'xticks':[], 'yticks':[], 'cbar_kwargs': cbar_kwrgs['change']}\n",
    "               }\n",
    "\n",
    "kwargs = {'change':    {'levels': 21, 'vmin':0,   'vmax':10,  'cmap':cm['change'],  'extend':'max', **style_kwargs['change']},\n",
    "          'tmean':     {'levels': 22, 'vmin':-20, 'vmax':15,  'cmap':cm['history'], 'extend':'both', **style_kwargs['mean']},\n",
    "          'tmean_DJF': {'levels': 28, 'vmin':-25, 'vmax':20,  'cmap':cm['history'], 'extend':'both', **style_kwargs['mean']},\n",
    "          'tmean_MAM': {'levels': 28, 'vmin':-25, 'vmax':20,  'cmap':cm['history'], 'extend':'both', **style_kwargs['mean']},\n",
    "          'tmean_JJA': {'levels': 28, 'vmin':-25, 'vmax':20,  'cmap':cm['history'], 'extend':'both', **style_kwargs['mean']},\n",
    "          'tmean_SON': {'levels': 28, 'vmin':-25, 'vmax':20,  'cmap':cm['history'], 'extend':'both', **style_kwargs['mean']},\n",
    "         }"
   ]
  },
  {
   "cell_type": "code",
   "execution_count": null,
   "metadata": {},
   "outputs": [],
   "source": [
    "fig, axes = plt.subplots(nrows=3, ncols=4, sharex=True, sharey=True, figsize=(11.37, 8.75))\n",
    "plt.subplots_adjust(left=0.045, bottom=0.0125, right=0.99, top=0.935, hspace=0.075, wspace=0.075)\n",
    "\n",
    "for col, season in enumerate(['DJF','MAM','JJA','SON']):\n",
    "    histo_tair_season.mean(dim='gcm')['tmean'].sel(season=season).plot.pcolormesh(ax=axes[0, col], **kwargs[f'tmean_{season}'])\n",
    "    rcp85_season_tair_30yr_diff['middle'].mean(dim='gcm')['tmean'].sel(season=season).plot.pcolormesh(ax=axes[1, col], **kwargs[f'change'])\n",
    "    rcp85_season_tair_30yr_diff['late'].mean(dim='gcm')['tmean'].sel(season=season).plot.pcolormesh(ax=axes[2, col],   **kwargs[f'change'])\n",
    "    \n",
    "    add_ylabel(axes[0, 0], 'historical mean [$^\\circ$C]', fontsize=11)\n",
    "    add_ylabel(axes[1, 0], 'changes 2040-2069 [$^\\circ$C]', fontsize=11)\n",
    "    add_ylabel(axes[2, 0], 'changes 2070-2099 [$^\\circ$C]', fontsize=11)\n",
    "    axes[0, col].set_title(season, fontsize=12)\n",
    "    \n",
    "fig.suptitle('Mean seasonal temperature [$^\\circ$C]', fontsize=14, y=0.985)\n",
    "if figSave:\n",
    "    plt.savefig(f'NB-AK3_Fig6_seasonal_mean_change_temperature_mid_late_rcp85.png', dpi=300)"
   ]
  },
  {
   "cell_type": "markdown",
   "metadata": {},
   "source": [
    "## Cofficient of variation of future changes for each variables"
   ]
  },
  {
   "cell_type": "code",
   "execution_count": null,
   "metadata": {},
   "outputs": [],
   "source": [
    "# uncertainty\n",
    "cm = {'cv': cmap}\n",
    "\n",
    "style_kwargs =  {'add_labels': False, 'xticks':[], 'yticks':[], 'cbar_kwargs': dict(orientation=\"horizontal\", pad=0.03)}\n",
    "\n",
    "kwargs = {'cv_tmean': {'levels': 11, 'vmin':0, 'vmax':0.5, 'cmap':cm['cv'], 'extend':'max', **style_kwargs},\n",
    "          'cv_dtr':   {'levels': 11, 'vmin':0, 'vmax':1.0, 'cmap':cm['cv'], 'extend':'max', **style_kwargs}}\n",
    "\n",
    "var_title = {'tmean':'mean temperature', 'dtr':'diurnal temperature range'}\n",
    "\n",
    "fig, axes = plt.subplots(nrows=2, ncols=2, sharex=True, sharey=True, figsize=(5.5, 5.25)) # used to be figsize=(14,11)\n",
    "plt.subplots_adjust(left=0.05, bottom=0.005, right=0.995, top=0.900, hspace=0.1, wspace=0.1)\n",
    "\n",
    "mean ={}; std={}; cv={}\n",
    "for ix, var in enumerate(met_vars):\n",
    "    \n",
    "    mean[var] = {45: rcp45_ann_tair_30yr_diff['late'].mean(dim='gcm')[var],\n",
    "                 85: rcp85_ann_tair_30yr_diff['late'].mean(dim='gcm')[var]}\n",
    "    \n",
    "    std[var]  = {45: rcp45_ann_tair_30yr_diff['late'].std(dim='gcm')[var],\n",
    "                 85: rcp85_ann_tair_30yr_diff['late'].std(dim='gcm')[var]}\n",
    "    \n",
    "    cv[var]   = {45: std[var][45]/abs(mean[var][45]),\n",
    "                 85: std[var][85]/abs(mean[var][85])}\n",
    "    \n",
    "    cv[var][45].plot.pcolormesh(ax=axes[0,ix], **kwargs[f'cv_{var}'])\n",
    "    cv[var][85].plot.pcolormesh(ax=axes[1,ix], **kwargs[f'cv_{var}'])\n",
    "    axes[0,0].set_ylabel('RCP-4.5', fontsize=11)\n",
    "    axes[1,0].set_ylabel('RCP-8.5', fontsize=11)\n",
    "    axes[0,ix].set_title('%s'%var_title[var], fontsize=11)    \n",
    "    \n",
    "fig.suptitle('GCM ensemble CV of temperature for late-21st century', fontsize=12, y=0.985)\n",
    "if figSave:\n",
    "    plt.savefig(f'NB-AK3_Fig7_cv_change_rcp85_d.png', dpi=300)"
   ]
  },
  {
   "cell_type": "code",
   "execution_count": null,
   "metadata": {},
   "outputs": [],
   "source": [
    "class AutoVivification(dict):\n",
    "    \"\"\"Implementation of perl's autovivification feature to initialize structure.\"\"\"\n",
    "    def __getitem__(self, item):\n",
    "        try:\n",
    "            return dict.__getitem__(self, item)\n",
    "        except KeyError:\n",
    "            value = self[item] = type(self)()\n",
    "        return value"
   ]
  },
  {
   "cell_type": "code",
   "execution_count": null,
   "metadata": {},
   "outputs": [],
   "source": [
    "# Get std and cv stats over the domain\n",
    "quantile_list = [0.02,0.1,0.2,0.5,0.8,0.9,0.98]\n",
    "mean_list = AutoVivification() \n",
    "std_list  = AutoVivification()  \n",
    "cv_list   = AutoVivification()\n",
    "\n",
    "for jx, rcp in enumerate([45,85]):\n",
    "    for ix, var in enumerate(met_vars):\n",
    "        \n",
    "        #mask out grid boxes with small mean values (< median)\n",
    "        med = np.nanquantile(mean[var][rcp].values,0.5)\n",
    "        masked_mean = mean[var][rcp].where(mean[var][rcp]>med)\n",
    "        masked_std  = std[var][rcp].where(mean[var][rcp]>med)\n",
    "        masked_cv   = cv[var][rcp].where(mean[var][rcp]>med)\n",
    "    \n",
    "        mean_list[var][rcp] = np.nanquantile(mean[var][rcp].values, quantile_list).tolist()\n",
    "        std_list[var][rcp]  = np.nanquantile(std[var][rcp].values,  quantile_list).tolist()\n",
    "        cv_list[var][rcp]   = np.nanquantile(cv[var][rcp].values,   quantile_list).tolist()"
   ]
  },
  {
   "cell_type": "code",
   "execution_count": null,
   "metadata": {},
   "outputs": [],
   "source": [
    "for rcp in [45,85]:\n",
    "    print(f'rcp-{rcp}')\n",
    "    for ix, var in enumerate(met_vars):\n",
    "        print(f'{var}')\n",
    "        print('quantile:', *quantile_list)\n",
    "        print('mean    :', *mean_list[var][rcp])\n",
    "        print('std.dev :', *std_list[var][rcp])\n",
    "        print('C.V.    :', *cv_list[var][rcp])\n",
    "        print('\\n')"
   ]
  },
  {
   "cell_type": "markdown",
   "metadata": {
    "tags": []
   },
   "source": [
    "## domain-wide mean change and spread among GCM"
   ]
  },
  {
   "cell_type": "code",
   "execution_count": null,
   "metadata": {},
   "outputs": [],
   "source": [
    "domain_wide_mean = {}\n",
    "domain_wide_std  = {}\n",
    "for ix, var in enumerate(met_vars):\n",
    "    \n",
    "    domain_wide_mean[var] = {45: rcp45_ann_tair_30yr_diff['late'][var].median(dim=['x','y']).mean(dim='gcm').values,\n",
    "                             85: rcp85_ann_tair_30yr_diff['late'][var].median(dim=['x','y']).mean(dim='gcm').values}\n",
    "    \n",
    "    domain_wide_std[var] = {45: rcp45_ann_tair_30yr_diff['late'][var].median(dim=['x','y']).std(dim='gcm').values,\n",
    "                            85: rcp85_ann_tair_30yr_diff['late'][var].median(dim=['x','y']).std(dim='gcm').values}\n"
   ]
  },
  {
   "cell_type": "code",
   "execution_count": null,
   "metadata": {},
   "outputs": [],
   "source": [
    "for rcp in [45,85]:\n",
    "    print(f'rcp-{rcp}')\n",
    "    for ix, var in enumerate(met_vars):\n",
    "        print(f'{var}')\n",
    "        print('mean    : ', domain_wide_mean[var][rcp])\n",
    "        print('std.dev : ', domain_wide_std[var][rcp])\n",
    "        print('\\n')"
   ]
  },
  {
   "cell_type": "code",
   "execution_count": null,
   "metadata": {},
   "outputs": [],
   "source": []
  },
  {
   "cell_type": "code",
   "execution_count": null,
   "metadata": {},
   "outputs": [],
   "source": []
  },
  {
   "cell_type": "code",
   "execution_count": null,
   "metadata": {},
   "outputs": [],
   "source": []
  },
  {
   "cell_type": "code",
   "execution_count": null,
   "metadata": {},
   "outputs": [],
   "source": []
  },
  {
   "cell_type": "code",
   "execution_count": null,
   "metadata": {},
   "outputs": [],
   "source": []
  }
 ],
 "metadata": {
  "kernelspec": {
   "display_name": "Python [conda env:cmip5_oconus]",
   "language": "python",
   "name": "conda-env-cmip5_oconus-py"
  },
  "language_info": {
   "codemirror_mode": {
    "name": "ipython",
    "version": 3
   },
   "file_extension": ".py",
   "mimetype": "text/x-python",
   "name": "python",
   "nbconvert_exporter": "python",
   "pygments_lexer": "ipython3",
   "version": "3.7.0"
  }
 },
 "nbformat": 4,
 "nbformat_minor": 4
}
