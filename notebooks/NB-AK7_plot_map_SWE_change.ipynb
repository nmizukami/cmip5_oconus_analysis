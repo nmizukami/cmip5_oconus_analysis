{
 "cells": [
  {
   "cell_type": "markdown",
   "metadata": {},
   "source": [
    "# NB-AK6: Changes in Long-term snow and ice water equivanent for 21st early, mid and late period from historical period"
   ]
  },
  {
   "cell_type": "markdown",
   "metadata": {},
   "source": [
    "## module loading..."
   ]
  },
  {
   "cell_type": "code",
   "execution_count": null,
   "metadata": {},
   "outputs": [],
   "source": [
    "%matplotlib inline  \n",
    "import os\n",
    "import sys\n",
    "import xarray as xr\n",
    "import numpy as np\n",
    "import matplotlib.pyplot as plt\n",
    "import matplotlib as mpl\n",
    "from matplotlib.colors import LinearSegmentedColormap\n",
    "from timeit import default_timer as timer\n",
    "\n",
    "print(\"\\nThe Python version: %s.%s.%s\" % sys.version_info[:3])\n",
    "print(xr.__name__, xr.__version__)\n",
    "\n",
    "mpl.rcParams['xtick.labelsize']='small'"
   ]
  },
  {
   "cell_type": "code",
   "execution_count": null,
   "metadata": {},
   "outputs": [],
   "source": [
    "from cmip5_oconus import print_date\n",
    "print_date()\n",
    "\n",
    "from cmip5_oconus.data_catalog import load_monthly_historical_hydro_datasets, resample_data\n",
    "from cmip5_oconus.data_catalog import load_monthly_cmip5_hydro_datasets\n",
    "from cmip5_oconus.plot import custom_div_cmap, MidpointNormalize, add_ylabel\n",
    "from cmip5_oconus.utils import calc_change\n",
    "from cmip5_oconus.data_catalog import DOMAIN"
   ]
  },
  {
   "cell_type": "code",
   "execution_count": null,
   "metadata": {
    "tags": []
   },
   "outputs": [],
   "source": [
    "from dask_jobqueue import PBSCluster\n",
    "cluster = PBSCluster(processes=9, threads=4, memory=\"108GB\", queue='casper',\n",
    "                  walltime='00:40:00')\n",
    "cluster.scale(jobs=3)"
   ]
  },
  {
   "cell_type": "code",
   "execution_count": null,
   "metadata": {
    "scrolled": true
   },
   "outputs": [],
   "source": [
    "from dask.distributed import Client\n",
    "client = Client(cluster)"
   ]
  },
  {
   "cell_type": "code",
   "execution_count": null,
   "metadata": {},
   "outputs": [],
   "source": [
    "client"
   ]
  },
  {
   "cell_type": "markdown",
   "metadata": {},
   "source": [
    "-------------------------\n",
    "## Setup "
   ]
  },
  {
   "cell_type": "code",
   "execution_count": null,
   "metadata": {},
   "outputs": [],
   "source": [
    "figSave = True"
   ]
  },
  {
   "cell_type": "code",
   "execution_count": null,
   "metadata": {},
   "outputs": [],
   "source": [
    "gcms            = [\"ACCESS1-3\",\"CanESM2\",\"CCSM4\",\"CSIRO-Mk3-6-0\",\"GFDL-ESM2M\",\"HadGEM2-ES\",\"inmcm4\",\"MIROC5\",\"MPI-ESM-MR\",\"MRI-CGCM3\"]\n",
    "hydro_flux_vars = ['SWE', 'IWE']\n",
    "period_hist     = slice('1970-01-01', '1999-12-31')\n",
    "period_futr     = {'early' : slice('2010-01-01', '2039-12-31'),\n",
    "                   'middle': slice('2040-01-01', '2069-12-31'),\n",
    "                   'late'  : slice('2070-01-01', '2099-12-31')}"
   ]
  },
  {
   "cell_type": "markdown",
   "metadata": {},
   "source": [
    "## Load the data"
   ]
  },
  {
   "cell_type": "code",
   "execution_count": null,
   "metadata": {},
   "outputs": [],
   "source": [
    "ds1 = xr.open_dataset(DOMAIN['AK'])\n",
    "mask = ds1['mask'].where(ds1['mask']==1).notnull()"
   ]
  },
  {
   "cell_type": "code",
   "execution_count": null,
   "metadata": {},
   "outputs": [],
   "source": [
    "xr.set_options(file_cache_maxsize=12000)\n",
    "histo_data = load_monthly_historical_hydro_datasets(models=gcms, variables=hydro_flux_vars, region='AK', parallel=False)\n",
    "rcp45_data = load_monthly_cmip5_hydro_datasets(scen='rcp45', models=gcms, variables=hydro_flux_vars, region='AK', parallel=False)\n",
    "rcp85_data = load_monthly_cmip5_hydro_datasets(scen='rcp85', models=gcms, variables=hydro_flux_vars, region='AK', parallel=False)"
   ]
  },
  {
   "cell_type": "code",
   "execution_count": null,
   "metadata": {},
   "outputs": [],
   "source": [
    "# Select only winter months - 1 through 6\n",
    "histo_data_winter = {}\n",
    "for key, val in histo_data.items():\n",
    "    histo_data_winter[key] = histo_data[key].where(histo_data[key].time.dt.month.isin([1,2,3,4,5,6]), drop=True)\n",
    "rcp45_data_winter = rcp45_data.where(rcp45_data.time.dt.month.isin([1,2,3,4,5,6]), drop=True)\n",
    "rcp85_data_winter = rcp85_data.where(rcp85_data.time.dt.month.isin([1,2,3,4,5,6]), drop=True)"
   ]
  },
  {
   "cell_type": "markdown",
   "metadata": {},
   "source": [
    "## Compute 30 year annual mean for 4 periods - historical, early, mid and late"
   ]
  },
  {
   "cell_type": "code",
   "execution_count": null,
   "metadata": {},
   "outputs": [],
   "source": [
    "histo_hydro_means = resample_data(histo_data['gcm'].sel(time=period_hist), region='AK', freq='AS', chunks=365).persist().mean('time')\n",
    "\n",
    "rcp45_hydro_means = {}\n",
    "rcp85_hydro_means = {}\n",
    "for key, futr_period in period_futr.items():\n",
    "    rcp45_hydro_means[key] = resample_data(rcp45_data.sel(time=futr_period), region='AK', freq='AS', chunks=365).persist().mean('time')\n",
    "    rcp85_hydro_means[key] = resample_data(rcp85_data.sel(time=futr_period), region='AK', freq='AS', chunks=365).persist().mean('time')"
   ]
  },
  {
   "cell_type": "code",
   "execution_count": null,
   "metadata": {},
   "outputs": [],
   "source": [
    "# non-glacier pixels are zero, computing change in percent cause those pixes are filled with nan and plots get strange. so fill non zero (0.001) at non-glacier pixels.  \n",
    "histo_hydro_means['IWE'] = histo_hydro_means['IWE'].where((histo_hydro_means['IWE']>0) | (np.isnan(histo_hydro_means['IWE'])), -0.001)\n",
    "\n",
    "for key, futr_period in period_futr.items():\n",
    "    rcp45_hydro_means[key]['IWE'] = rcp45_hydro_means[key]['IWE'].where((rcp45_hydro_means[key]['IWE']>0) | (np.isnan(rcp45_hydro_means[key]['IWE'])), -0.001)\n",
    "    rcp85_hydro_means[key]['IWE'] = rcp85_hydro_means[key]['IWE'].where((rcp85_hydro_means[key]['IWE']>0) | (np.isnan(rcp85_hydro_means[key]['IWE'])), -0.001)"
   ]
  },
  {
   "cell_type": "markdown",
   "metadata": {},
   "source": [
    "## Compute 30 year mean annual max SWE for 4 periods - historical, early, mid and late"
   ]
  },
  {
   "cell_type": "code",
   "execution_count": null,
   "metadata": {},
   "outputs": [],
   "source": [
    "hist_SWEmax_means  = histo_data['gcm']['SWE'].resample(time='AS').max('time', skipna=False).persist().mean('time')\n",
    "hist_SWEmax_means = hist_SWEmax_means.rename('SWEmax')\n",
    "\n",
    "rcp45_SWEmax_means = {}\n",
    "rcp85_SWEmax_means = {}\n",
    "for key, futr_period in period_futr.items():\n",
    "    rcp45_SWEmax_means[key] = rcp45_data['SWE'].sel(time=futr_period).resample(time='AS').max('time', skipna=False).persist().mean('time')\n",
    "    rcp85_SWEmax_means[key] = rcp85_data['SWE'].sel(time=futr_period).resample(time='AS').max('time', skipna=False).persist().mean('time')\n",
    "    \n",
    "    rcp45_SWEmax_means[key] = rcp45_SWEmax_means[key].rename('SWEmax')\n",
    "    rcp85_SWEmax_means[key] = rcp85_SWEmax_means[key].rename('SWEmax')"
   ]
  },
  {
   "cell_type": "markdown",
   "metadata": {},
   "source": [
    "## Combine SWEmax DataArray and SWE/IWE DataArray"
   ]
  },
  {
   "cell_type": "code",
   "execution_count": null,
   "metadata": {},
   "outputs": [],
   "source": [
    "histo_hydro_means['SWEmax'] = hist_SWEmax_means\n",
    "for key, futr_period in period_futr.items():\n",
    "        rcp45_hydro_means[key]['SWEmax'] = rcp45_SWEmax_means[key]\n",
    "        rcp85_hydro_means[key]['SWEmax'] = rcp85_SWEmax_means[key]"
   ]
  },
  {
   "cell_type": "code",
   "execution_count": null,
   "metadata": {},
   "outputs": [],
   "source": []
  },
  {
   "cell_type": "markdown",
   "metadata": {},
   "source": [
    "## Compute difference in 30 year annual mean between historical and future"
   ]
  },
  {
   "cell_type": "code",
   "execution_count": null,
   "metadata": {},
   "outputs": [],
   "source": [
    "rcp45_hydro_30yr_diff = {}\n",
    "rcp85_hydro_30yr_diff = {}\n",
    "diff_rcp_hydro_30yr_change ={}\n",
    "for key, futr_period in period_futr.items():\n",
    "    rcp45_hydro_30yr_diff[key] = calc_change(histo_hydro_means, rcp45_hydro_means[key], pct=True).persist()\n",
    "    rcp85_hydro_30yr_diff[key] = calc_change(histo_hydro_means, rcp85_hydro_means[key], pct=True).persist()\n",
    "    \n",
    "    diff_rcp_hydro_30yr_change[key] =rcp85_hydro_30yr_diff[key] - rcp45_hydro_30yr_diff[key]"
   ]
  },
  {
   "cell_type": "code",
   "execution_count": null,
   "metadata": {},
   "outputs": [],
   "source": [
    "# mask pecent change is less than -99%  \n",
    "for key, futr_period in period_futr.items():\n",
    "    rcp45_hydro_30yr_diff[key] = rcp45_hydro_30yr_diff[key].where(rcp45_hydro_30yr_diff[key]>-99)\n",
    "    rcp85_hydro_30yr_diff[key] = rcp85_hydro_30yr_diff[key].where(rcp85_hydro_30yr_diff[key]>-99)"
   ]
  },
  {
   "cell_type": "code",
   "execution_count": null,
   "metadata": {},
   "outputs": [],
   "source": [
    "upper[0,:]"
   ]
  },
  {
   "cell_type": "markdown",
   "metadata": {},
   "source": [
    "## Plotting"
   ]
  },
  {
   "cell_type": "code",
   "execution_count": null,
   "metadata": {},
   "outputs": [],
   "source": [
    "# create colormap for SWE and IWE\n",
    "# ---------------\n",
    "# option 0\n",
    "# create a colormap that consists of\n",
    "# - 1/5 : custom colormap, ranging from white to the first color of the colormap\n",
    "# - 4/5 : existing colormap\n",
    "\n",
    "# set upper part: 4 * 256/4 entries\n",
    "upper = mpl.cm.YlGnBu(np.arange(256)) #upper = mpl.cm.Spectral(np.arange(256))\n",
    "\n",
    "# set lower part: 1 * 256/4 entries\n",
    "# - initialize all entries to 1 to make sure that the alpha channel (4th column) is 1\n",
    "lower = np.ones((int(256/4),4))\n",
    "# - modify the first three columns (RGB):\n",
    "#   range linearly between white (1,1,1) and the first color of the upper colormap\n",
    "for i in range(3):\n",
    "    lower[:,i] = np.linspace(0.9, upper[0,i], lower.shape[0])\n",
    "\n",
    "# combine parts of colormap\n",
    "cmap0 = np.vstack(( lower, upper ))\n",
    "\n",
    "# convert to matplotlib colormap\n",
    "cmap0 = mpl.colors.ListedColormap(cmap, name='myColorMap', N=cmap0.shape[0])\n",
    "cmap0.set_under('xkcd:light grey')\n",
    "\n",
    "# option1\n",
    "cmap1 = mpl.cm.GnBu\n",
    "cmap1.set_under('xkcd:light grey')\n",
    "\n",
    "# option 2\n",
    "cmap2 = LinearSegmentedColormap.from_list('custom1', \n",
    "                                          [(0.00, 'xkcd:very light blue'),\n",
    "                                           (0.25, 'xkcd:light blue'),\n",
    "                                           (0.50, 'xkcd:lightish blue'),\n",
    "                                           (0.75, 'xkcd:blue'),\n",
    "                                           (1.00, 'xkcd:dark blue')], N=256)\n",
    "cmap2.set_over('xkcd:dark purple')\n",
    "cmap2.set_under('xkcd:light grey')\n",
    "\n",
    "# create colormap for SWE and IWE change\n",
    "# ---------------\n",
    "# create a colormap that consists of\n",
    "# 25 descrete colormap from red to blue\n",
    "\n",
    "#cmap3 = custom_div_cmap(numcolors=15, mincol='xkcd:red', midcol='xkcd:light grey', maxcol='xkcd:blue')\n",
    "cmap3 = LinearSegmentedColormap.from_list('custom1', \n",
    "                                          [(0.00, 'xkcd:tomato red'),\n",
    "                                           (0.50, 'xkcd:light grey'),\n",
    "                                           (1.00, 'xkcd:blue')], N=17)\n",
    "cmap3.set_over('xkcd:dark purple')"
   ]
  },
  {
   "cell_type": "code",
   "execution_count": null,
   "metadata": {},
   "outputs": [],
   "source": [
    "cm = {'mean': cmap1}\n",
    "\n",
    "sfmt = mpl.ticker.ScalarFormatter(useMathText=True)\n",
    "sfmt.set_powerlimits((0, 0))\n",
    "\n",
    "style_kwargs = {'add_labels': False, 'xticks':[], 'yticks':[], \n",
    "                'cbar_kwargs': {'orientation':\"horizontal\", 'shrink':0.975, 'pad':0.03, 'format':sfmt}}\n",
    "kwargs = {'SWE': {'levels':21, 'vmin':10,   'vmax':1010,   'cmap':cm['mean'], 'extend':'both', **style_kwargs},\n",
    "          'IWE': {'levels':21, 'vmin':1000, 'vmax':201000, 'cmap':cm['mean'], 'extend':'both', **style_kwargs}\n",
    "          }\n",
    "\n",
    "var_title = {'SWE':'Snow Water Equivalent', 'IWE':'Ice Water Equivalent'}\n",
    "\n",
    "fig, axes = plt.subplots(nrows=3, ncols=2, sharex=True, sharey=True, figsize=(6.5,7.75))\n",
    "plt.subplots_adjust(left=0.075, bottom=0.020, right=0.975, top=0.970, hspace=0.100)\n",
    "\n",
    "for col, var in enumerate(['SWE','IWE']):\n",
    "    histo_hydro_means.mean(dim='gcm')[var].plot.pcolormesh(ax=axes[0, col], **kwargs[var])\n",
    "    rcp85_hydro_means['middle'].mean(dim='gcm')[var].plot.pcolormesh(ax=axes[1, col], **kwargs[var])\n",
    "    rcp85_hydro_means['late'].mean(dim='gcm')[var].plot.pcolormesh(ax=axes[2, col], **kwargs[var])\n",
    "    \n",
    "    add_ylabel(axes[0, 0], 'historical [mm]', fontsize=12)\n",
    "    add_ylabel(axes[1, 0], '2040-2069 [mm]', fontsize=12)\n",
    "    add_ylabel(axes[2, 0], '2070-2099 [mm]', fontsize=12)\n",
    "    axes[0, col].set_title(var_title[var], fontsize=12)\n",
    "\n",
    "if figSave:\n",
    "    plt.savefig(f'NB-AK7_Fig1_winter_mean_snow_ice_hist_mid_late_rcp85.png', dpi=300)"
   ]
  },
  {
   "cell_type": "markdown",
   "metadata": {},
   "source": [
    "------------\n",
    " - Change in 30yr mean annual total between historical and late 21st century"
   ]
  },
  {
   "cell_type": "code",
   "execution_count": null,
   "metadata": {},
   "outputs": [],
   "source": [
    "cm = {'history': cmap1,\n",
    "      'change' : custom_div_cmap(numcolors=25, mincol='xkcd:red', midcol='xkcd:light grey', maxcol='xkcd:blue')}\n",
    "\n",
    "sfmt = mpl.ticker.ScalarFormatter(useMathText=True)\n",
    "sfmt.set_powerlimits((0, 0))\n",
    "\n",
    "cbar_kwrgs = {'history':{\"orientation\":\"horizontal\", \"shrink\":0.980, \"pad\":0.03, 'format':sfmt},\n",
    "              'change': {\"orientation\":\"horizontal\", \"shrink\":0.980, \"pad\":0.03}}\n",
    "\n",
    "style_kwargs = {'history':{'add_labels': False, 'xticks':[], 'yticks':[], 'cbar_kwargs': cbar_kwrgs['history']},\n",
    "                'change': {'add_labels': False, 'xticks':[], 'yticks':[], 'cbar_kwargs': cbar_kwrgs['change']}\n",
    "               }\n",
    "\n",
    "kwargs = {'change':  {'vmin':-100, 'vmax':100,    'cmap':cm['change'],  'extend':'max', **style_kwargs['change']},\n",
    "          'SWEmax':     {'levels':26, 'vmin':10,   'vmax':1010,   'cmap':cm['history'], 'extend':'both', **style_kwargs['history']},\n",
    "          'IWE':     {'levels':21, 'vmin':1000, 'vmax':201000, 'cmap':cm['history'], 'extend':'both', **style_kwargs['history']}\n",
    "         }\n",
    "\n",
    "var_title = {'SWEmax':'Snow water equivalent', 'IWE':'Ice water equivalent'}\n",
    "\n",
    "fig, axes = plt.subplots(nrows=4, ncols=2, sharex=True, sharey=True, figsize=(6.5,9))\n",
    "plt.subplots_adjust(left=0.075, bottom=0.020, right=0.975, top=0.975, hspace=0.175)\n",
    "\n",
    "for col, var in enumerate(['SWEmax','IWE']):\n",
    "    histo_hydro_means.mean(dim='gcm')[var].plot.pcolormesh(ax=axes[0, col], **kwargs[var])\n",
    "    \n",
    "    early  = rcp85_hydro_30yr_diff['early'].mean(dim='gcm')[var].where(rcp85_hydro_30yr_diff['early'].mean(dim='gcm')[var]>-99)\n",
    "    middle = rcp85_hydro_30yr_diff['middle'].mean(dim='gcm')[var].where(rcp85_hydro_30yr_diff['middle'].mean(dim='gcm')[var]>-99)\n",
    "    late   = rcp85_hydro_30yr_diff['late'].mean(dim='gcm')[var].where(rcp85_hydro_30yr_diff['late'].mean(dim='gcm')[var]>-99)\n",
    "    early.plot.pcolormesh(ax=axes[1, col], **kwargs['change'])\n",
    "    middle.plot.pcolormesh(ax=axes[2, col], **kwargs['change'])\n",
    "    late.plot.pcolormesh(ax=axes[3, col],   **kwargs['change'])\n",
    "    \n",
    "    add_ylabel(axes[0, 0], 'historical [mm]', fontsize=11)\n",
    "    add_ylabel(axes[1, 0], 'changes 2010-2039 [%]', fontsize=11)\n",
    "    add_ylabel(axes[2, 0], 'changes 2040-2069 [%]', fontsize=11)\n",
    "    add_ylabel(axes[3, 0], 'changes 2070-2099 [%]', fontsize=11)\n",
    "    axes[0, col].set_title(var_title[var], fontsize=12)\n",
    "    \n",
    "#plt.tight_layout()\n",
    "if figSave:\n",
    "    plt.savefig(f'NB-AK7_Fig2_winter_mean_snow_ice_pchange_rcp85.png', dpi=300)"
   ]
  },
  {
   "cell_type": "markdown",
   "metadata": {},
   "source": [
    "------------\n",
    "-  The same as above except for two future periods in 21st century (mid, and late)"
   ]
  },
  {
   "cell_type": "code",
   "execution_count": null,
   "metadata": {},
   "outputs": [],
   "source": [
    "cm = {'history': cmap2,\n",
    "      'change' : cmap3}\n",
    "\n",
    "sfmt = mpl.ticker.ScalarFormatter(useMathText=False)\n",
    "#sfmt.set_powerlimits((0, 0))\n",
    "\n",
    "cbar_kwrgs = {'history':{\"orientation\":\"horizontal\", \"shrink\":0.980, \"pad\":0.03, 'format':sfmt},\n",
    "              'change': {\"orientation\":\"horizontal\", \"shrink\":0.980, \"pad\":0.03}}\n",
    "\n",
    "style_kwargs = {'history':{'add_labels': False, 'xticks':[], 'yticks':[], 'cbar_kwargs': cbar_kwrgs['history']},\n",
    "                'change': {'add_labels': False, 'xticks':[], 'yticks':[], 'cbar_kwargs': cbar_kwrgs['change']}\n",
    "               }\n",
    "\n",
    "kwargs = {'change':  {'vmin':-100, 'vmax':100, 'cmap':cm['change'], 'extend':'max', **style_kwargs['change']},\n",
    "          'SWEmax':  {'levels':21, 'vmin':0,  'vmax':2.0,   'cmap':cm['history'], 'extend':'max', **style_kwargs['history']},\n",
    "          'IWE':     {'levels':21, 'vmin':0, 'vmax':200, 'cmap':cm['history'], 'extend':'max', **style_kwargs['history']}\n",
    "         }\n",
    "\n",
    "var_title = {'SWEmax':'Snow water equivalent', 'IWE':'Ice water equivalent'}\n",
    "\n",
    "fig, axes = plt.subplots(nrows=3, ncols=2, sharex=True, sharey=True, figsize=(6.5,7.75))\n",
    "plt.subplots_adjust(left=0.075, bottom=0.020, right=0.975, top=0.970, hspace=0.100)\n",
    "\n",
    "for col, var in enumerate(['SWEmax','IWE']):\n",
    "    (histo_hydro_means/1000).mean(dim='gcm')[var].plot.pcolormesh(ax=axes[0, col], **kwargs[var])\n",
    "    \n",
    "    middle = rcp85_hydro_30yr_diff['middle'].mean(dim='gcm')[var].where(rcp85_hydro_30yr_diff['middle'].mean(dim='gcm')[var]>-99)\n",
    "    late   = rcp85_hydro_30yr_diff['late'].mean(dim='gcm')[var].where(rcp85_hydro_30yr_diff['late'].mean(dim='gcm')[var]>-99)\n",
    "    middle.plot.pcolormesh(ax=axes[1, col], **kwargs['change'])\n",
    "    late.plot.pcolormesh(ax=axes[2, col],   **kwargs['change'])\n",
    "    \n",
    "    add_ylabel(axes[0, 0], 'historical [m]', fontsize=11)\n",
    "    add_ylabel(axes[1, 0], 'changes 2040-2069 [%]', fontsize=11)\n",
    "    add_ylabel(axes[2, 0], 'changes 2070-2099 [%]', fontsize=11)\n",
    "    axes[0, col].set_title(var_title[var], fontsize=12)\n",
    "    \n",
    "if figSave:\n",
    "    plt.savefig(f'NB-AK7_Fig3_winter_mean_snow_ice_pchange_mid_late_rcp85.png', dpi=300)"
   ]
  },
  {
   "cell_type": "code",
   "execution_count": null,
   "metadata": {},
   "outputs": [],
   "source": []
  }
 ],
 "metadata": {
  "kernelspec": {
   "display_name": "Python [conda env:cmip5_oconus]",
   "language": "python",
   "name": "conda-env-cmip5_oconus-py"
  },
  "language_info": {
   "codemirror_mode": {
    "name": "ipython",
    "version": 3
   },
   "file_extension": ".py",
   "mimetype": "text/x-python",
   "name": "python",
   "nbconvert_exporter": "python",
   "pygments_lexer": "ipython3",
   "version": "3.7.0"
  }
 },
 "nbformat": 4,
 "nbformat_minor": 4
}
