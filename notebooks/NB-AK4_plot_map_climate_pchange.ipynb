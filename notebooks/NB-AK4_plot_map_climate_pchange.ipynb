{
 "cells": [
  {
   "cell_type": "markdown",
   "metadata": {},
   "source": [
    "# NB-AK4: Long-term annual total fluxes %changes for early, mid and late 21st century periods from historical period"
   ]
  },
  {
   "cell_type": "markdown",
   "metadata": {},
   "source": [
    "## module loading..."
   ]
  },
  {
   "cell_type": "code",
   "execution_count": null,
   "metadata": {},
   "outputs": [],
   "source": [
    "%matplotlib inline  \n",
    "import os\n",
    "import sys\n",
    "import xarray as xr\n",
    "import numpy as np\n",
    "import matplotlib.pyplot as plt\n",
    "import matplotlib as mpl\n",
    "from timeit import default_timer as timer\n",
    "\n",
    "print(\"\\nThe Python version: %s.%s.%s\" % sys.version_info[:3])\n",
    "print(xr.__name__, xr.__version__)\n",
    "\n",
    "mpl.rcParams['xtick.labelsize']='small'"
   ]
  },
  {
   "cell_type": "code",
   "execution_count": null,
   "metadata": {},
   "outputs": [],
   "source": [
    "from cmip5_oconus import print_date\n",
    "print_date()\n",
    "\n",
    "from cmip5_oconus.data_catalog import load_monthly_historical_hydro_datasets, resample_data\n",
    "from cmip5_oconus.data_catalog import load_monthly_cmip5_hydro_datasets\n",
    "from cmip5_oconus.plot import custom_div_cmap, MidpointNormalize, add_ylabel\n",
    "from cmip5_oconus.utils import calc_change"
   ]
  },
  {
   "cell_type": "markdown",
   "metadata": {},
   "source": []
  },
  {
   "cell_type": "code",
   "execution_count": null,
   "metadata": {},
   "outputs": [],
   "source": [
    "#from dask_jobqueue import PBSCluster\n",
    "#cluster = PBSCluster(processes=9, threads=4, memory=\"108GB\",\n",
    "#                  walltime='00:40:00')\n",
    "#cluster.scale(jobs=3)"
   ]
  },
  {
   "cell_type": "code",
   "execution_count": null,
   "metadata": {
    "scrolled": true
   },
   "outputs": [],
   "source": [
    "#from dask.distributed import Client\n",
    "#client = Client(cluster)"
   ]
  },
  {
   "cell_type": "code",
   "execution_count": null,
   "metadata": {},
   "outputs": [],
   "source": [
    "#client"
   ]
  },
  {
   "cell_type": "markdown",
   "metadata": {},
   "source": [
    "-------------------------\n",
    "## Setup "
   ]
  },
  {
   "cell_type": "code",
   "execution_count": null,
   "metadata": {},
   "outputs": [],
   "source": [
    "figSave = True"
   ]
  },
  {
   "cell_type": "code",
   "execution_count": null,
   "metadata": {},
   "outputs": [],
   "source": [
    "gcms            = [\"ACCESS1-3\",\"CanESM2\",\"CCSM4\",\"CSIRO-Mk3-6-0\",\"GFDL-ESM2M\",\"HadGEM2-ES\",\"inmcm4\",\"MIROC5\",\"MPI-ESM-MR\",\"MRI-CGCM3\"]\n",
    "hydro_flux_vars = ['PRCP', 'EVAP', 'total_runoff']\n",
    "period_hist     = slice('1970-01-01', '1999-12-31')\n",
    "period_futr     = {'early' : slice('2010-01-01', '2039-12-31'),\n",
    "                   'middle': slice('2040-01-01', '2069-12-31'),\n",
    "                   'late'  : slice('2070-01-01', '2099-12-31')}"
   ]
  },
  {
   "cell_type": "markdown",
   "metadata": {},
   "source": [
    "## Load the data"
   ]
  },
  {
   "cell_type": "code",
   "execution_count": null,
   "metadata": {},
   "outputs": [],
   "source": [
    "xr.set_options(file_cache_maxsize=12000)\n",
    "histo_data = load_monthly_historical_hydro_datasets(models=gcms, variables=hydro_flux_vars, region='AK', parallel=False)\n",
    "rcp45_data = load_monthly_cmip5_hydro_datasets(scen='rcp45', models=gcms, variables=hydro_flux_vars, region='AK', parallel=False)\n",
    "rcp85_data = load_monthly_cmip5_hydro_datasets(scen='rcp85', models=gcms, variables=hydro_flux_vars, region='AK', parallel=False)"
   ]
  },
  {
   "cell_type": "code",
   "execution_count": null,
   "metadata": {},
   "outputs": [],
   "source": []
  },
  {
   "cell_type": "markdown",
   "metadata": {},
   "source": [
    "## Compute 30-yr annual mean for 4 periods - historical, early, mid and late"
   ]
  },
  {
   "cell_type": "code",
   "execution_count": null,
   "metadata": {},
   "outputs": [],
   "source": [
    "histo_hydro_means = resample_data(histo_data['gcm'].sel(time=period_hist), region='AK', freq='AS').mean('time').compute()\n",
    "\n",
    "rcp45_hydro_means = {}\n",
    "rcp85_hydro_means = {}\n",
    "for key, futr_period in period_futr.items():\n",
    "    rcp45_hydro_means[key] = resample_data(rcp45_data.sel(time=futr_period), region='AK', freq='AS').mean('time').compute()\n",
    "    rcp85_hydro_means[key] = resample_data(rcp85_data.sel(time=futr_period), region='AK', freq='AS').mean('time').compute()"
   ]
  },
  {
   "cell_type": "code",
   "execution_count": null,
   "metadata": {},
   "outputs": [],
   "source": []
  },
  {
   "cell_type": "markdown",
   "metadata": {},
   "source": [
    "## Compute difference in 30-yr annual mean between historical and future"
   ]
  },
  {
   "cell_type": "code",
   "execution_count": null,
   "metadata": {},
   "outputs": [],
   "source": [
    "rcp45_hydro_30yr_diff = {}\n",
    "rcp85_hydro_30yr_diff = {}\n",
    "diff_rcp_hydro_30yr_change ={}\n",
    "for key, futr_period in period_futr.items():\n",
    "    rcp45_hydro_30yr_diff[key] = calc_change(histo_hydro_means, rcp45_hydro_means[key], pct=True)\n",
    "    rcp85_hydro_30yr_diff[key] = calc_change(histo_hydro_means, rcp85_hydro_means[key], pct=True)\n",
    "    \n",
    "    diff_rcp_hydro_30yr_change[key] =rcp85_hydro_30yr_diff[key] - rcp45_hydro_30yr_diff[key]"
   ]
  },
  {
   "cell_type": "code",
   "execution_count": null,
   "metadata": {},
   "outputs": [],
   "source": []
  },
  {
   "cell_type": "markdown",
   "metadata": {
    "jupyter": {
     "source_hidden": true
    },
    "tags": []
   },
   "source": [
    "## Plotting"
   ]
  },
  {
   "cell_type": "code",
   "execution_count": null,
   "metadata": {},
   "outputs": [],
   "source": [
    "# create colormap\n",
    "# ---------------\n",
    "\n",
    "# create a colormap that consists of\n",
    "# - 1/5 : custom colormap, ranging from white to the first color of the colormap\n",
    "# - 4/5 : existing colormap\n",
    "\n",
    "# set upper part: 4 * 256/4 entries\n",
    "upper = mpl.cm.Spectral_r(np.arange(256))\n",
    "\n",
    "# set lower part: 1 * 256/4 entries\n",
    "# - initialize all entries to 1 to make sure that the alpha channel (4th column) is 1\n",
    "lower = np.ones((int(256/4),4))\n",
    "# - modify the first three columns (RGB):\n",
    "#   range linearly between white (1,1,1) and the first color of the upper colormap\n",
    "for i in range(3):\n",
    "    lower[:,i] = np.linspace(0.9, upper[0,i], lower.shape[0])\n",
    "\n",
    "# combine parts of colormap\n",
    "cmap = np.vstack(( lower, upper ))\n",
    "\n",
    "# convert to matplotlib colormap\n",
    "cmap = mpl.colors.ListedColormap(cmap, name='myColorMap', N=cmap.shape[0])"
   ]
  },
  {
   "cell_type": "code",
   "execution_count": null,
   "metadata": {},
   "outputs": [],
   "source": [
    "# create colormap\n",
    "# ---------------\n",
    "\n",
    "from matplotlib.colors import LinearSegmentedColormap\n",
    "\n",
    "# create a colormap that consists of\n",
    "# - 1/5 : custom colormap, ranging from white to the first color of the colormap\n",
    "# - 4/5 : existing colormap\n",
    "\n",
    "# set upper part: 4 * 256/4 entries\n",
    "upper = mpl.cm.Spectral_r(np.arange(256))\n",
    "\n",
    "# set lower part: 1 * 256/4 entries\n",
    "# - initialize all entries to 1 to make sure that the alpha channel (4th column) is 1\n",
    "lower = np.ones((int(256/4),4))\n",
    "# - modify the first three columns (RGB):\n",
    "#   range linearly between white (1,1,1) and the first color of the upper colormap\n",
    "for i in range(3):\n",
    "    lower[:,i] = np.linspace(0.9, upper[0,i], lower.shape[0])\n",
    "\n",
    "# combine parts of colormap\n",
    "cmap = np.vstack(( lower, upper ))\n",
    "\n",
    "# convert to matplotlib colormap\n",
    "cmap = mpl.colors.ListedColormap(cmap, name='myColorMap', N=cmap.shape[0])\n",
    "\n",
    "cmap_change_RO = LinearSegmentedColormap.from_list('custom2', \n",
    "                                             [(0,    'xkcd:red'),\n",
    "                                              (0.4,  'xkcd:light grey'),\n",
    "                                              (1,    'xkcd:blue')], N=256)"
   ]
  },
  {
   "cell_type": "markdown",
   "metadata": {},
   "source": [
    "------------\n",
    " - Change in 30yr mean annual total fluxes between historical and three future periods in 21st century (early, mid, and late) "
   ]
  },
  {
   "cell_type": "code",
   "execution_count": null,
   "metadata": {},
   "outputs": [],
   "source": [
    "cm = {'history'   : cmap,\n",
    "      'change'    : custom_div_cmap(numcolors=255, mincol='xkcd:red', midcol='xkcd:light grey', maxcol='xkcd:blue'),\n",
    "      'change_RO' : cmap_change_RO}\n",
    "\n",
    "norm = {'PRCP': MidpointNormalize(vmin=-100, vmax=100, midpoint=0),\n",
    "        'EVAP': MidpointNormalize(vmin=-100, vmax=100, midpoint=0),\n",
    "        'ROFF': MidpointNormalize(vmin=-100, vmax=150, midpoint=0)}\n",
    "\n",
    "sfmt = mpl.ticker.ScalarFormatter(useMathText=True)\n",
    "sfmt.set_powerlimits((0, 0))\n",
    "\n",
    "cbar_kwrgs = {'mean':   {\"orientation\":\"horizontal\", \"shrink\":0.990, \"pad\":0.03, 'format':sfmt},\n",
    "              'change': {\"orientation\":\"horizontal\", \"shrink\":0.990, \"pad\":0.03}}\n",
    "\n",
    "style_kwargs = {'mean':   {'add_labels': False, 'xticks':[], 'yticks':[], 'cbar_kwargs': cbar_kwrgs['mean']},\n",
    "                'change': {'add_labels': False, 'xticks':[], 'yticks':[], 'cbar_kwargs': cbar_kwrgs['change']}\n",
    "               }\n",
    "\n",
    "kwargs = {'change-PRCP':         {'levels': 21, 'vmin':-100, 'vmax':100, 'cmap':cm['change'],    'extend':'max',  **style_kwargs['change']},\n",
    "          'change-EVAP':         {'levels': 21, 'vmin':-100, 'vmax':100, 'cmap':cm['change'],    'extend':'both', **style_kwargs['change']},\n",
    "          'change-total_runoff': {'levels': 26, 'vmin':-100, 'vmax':150, 'cmap':cm['change_RO'], 'extend':'max',  **style_kwargs['change']},\n",
    "          'PRCP':                {'levels': 31, 'vmin':0, 'vmax':3000, 'cmap':cm['history'], 'extend':'max',  **style_kwargs['mean']},\n",
    "          'EVAP':                {'levels': 17, 'vmin':0, 'vmax':400,  'cmap':cm['history'], 'extend':'both', **style_kwargs['mean']},\n",
    "          'total_runoff':        {'levels': 31, 'vmin':0, 'vmax':3000, 'cmap':cm['history'], 'extend':'max',  **style_kwargs['mean']}}\n",
    "\n",
    "var_title = {'PRCP':'Precipitation', 'EVAP':'Evapotranspiration', 'total_runoff':'Runoff'}\n",
    "\n",
    "fig, axes = plt.subplots(nrows=4, ncols=3, sharex=True, sharey=True, figsize=(8.125,11.25))\n",
    "plt.subplots_adjust(left=0.045, bottom=0.0125, right=0.985, top=0.975, hspace=0.075, wspace=0.075)\n",
    "\n",
    "for col, var in enumerate(['PRCP','EVAP','total_runoff']):\n",
    "    histo_hydro_means.mean(dim='gcm')[var].plot.pcolormesh(ax=axes[0, col], **kwargs[var])\n",
    "    rcp85_hydro_30yr_diff['early'].mean(dim='gcm')[var].plot.pcolormesh(ax=axes[1, col],  **kwargs[f'change-{var}'])\n",
    "    rcp85_hydro_30yr_diff['middle'].mean(dim='gcm')[var].plot.pcolormesh(ax=axes[2, col], **kwargs[f'change-{var}'])\n",
    "    rcp85_hydro_30yr_diff['late'].mean(dim='gcm')[var].plot.pcolormesh(ax=axes[3, col],   **kwargs[f'change-{var}'])\n",
    "    \n",
    "    add_ylabel(axes[0, 0], 'historical [mm/yr]', fontsize=11)\n",
    "    add_ylabel(axes[1, 0], 'changes 2010-2039 [%]', fontsize=11)\n",
    "    add_ylabel(axes[2, 0], 'changes 2040-2069 [%]', fontsize=11)\n",
    "    add_ylabel(axes[3, 0], 'changes 2070-2099 [%]', fontsize=11)\n",
    "    axes[0, col].set_title(var_title[var], fontsize=12)\n",
    "    \n",
    "#plt.tight_layout()\n",
    "if figSave:\n",
    "    plt.savefig(f'NB-AK4_Fig1_annual_mean_pchange_rcp85.png', dpi=300)"
   ]
  },
  {
   "cell_type": "markdown",
   "metadata": {},
   "source": [
    "------------\n",
    " - The same as above except for two future periods in 21st century (early, mid, and late) "
   ]
  },
  {
   "cell_type": "code",
   "execution_count": null,
   "metadata": {},
   "outputs": [],
   "source": [
    "cm = {'history'   : cmap,\n",
    "      'change'    : custom_div_cmap(numcolors=25, mincol='xkcd:red', midcol='xkcd:light grey', maxcol='xkcd:blue'),\n",
    "      'change_RO' : cmap_change_RO}\n",
    "\n",
    "sfmt = mpl.ticker.ScalarFormatter(useMathText=True)\n",
    "sfmt.set_powerlimits((0, 0))\n",
    "\n",
    "cbar_kwrgs = {'mean':   {\"orientation\":\"horizontal\", \"shrink\":0.990, \"pad\":0.03, 'format':sfmt},\n",
    "              'change': {\"orientation\":\"horizontal\", \"shrink\":0.990, \"pad\":0.03}}\n",
    "\n",
    "style_kwargs = {'mean':   {'add_labels': False, 'xticks':[], 'yticks':[], 'cbar_kwargs': cbar_kwrgs['mean']},\n",
    "                'change': {'add_labels': False, 'xticks':[], 'yticks':[], 'cbar_kwargs': cbar_kwrgs['change']}\n",
    "               }\n",
    "\n",
    "kwargs = {'change-PRCP':         {'levels': 21, 'vmin':-100, 'vmax':100, 'cmap':cm['change'],    'extend':'max',  **style_kwargs['change']},\n",
    "          'change-EVAP':         {'levels': 21, 'vmin':-100, 'vmax':100, 'cmap':cm['change'],    'extend':'both', **style_kwargs['change']},\n",
    "          'change-total_runoff': {'levels': 26, 'vmin':-100, 'vmax':150, 'cmap':cm['change_RO'], 'extend':'max',  **style_kwargs['change']},\n",
    "          'PRCP':                {'levels': 31, 'vmin':0, 'vmax':3000, 'cmap':cm['history'], 'extend':'max',  **style_kwargs['mean']},\n",
    "          'EVAP':                {'levels': 17, 'vmin':0, 'vmax':400,  'cmap':cm['history'], 'extend':'both', **style_kwargs['mean']},\n",
    "          'total_runoff':        {'levels': 31, 'vmin':0, 'vmax':3000, 'cmap':cm['history'], 'extend':'max',  **style_kwargs['mean']}}\n",
    "\n",
    "var_title = {'PRCP':'Precipitation', 'EVAP':'Evapotranspiration', 'total_runoff':'Runoff'}\n",
    "\n",
    "fig, axes = plt.subplots(nrows=3, ncols=3, sharex=True, sharey=True, figsize=(8.125,8.75))\n",
    "plt.subplots_adjust(left=0.045, bottom=0.0125, right=0.985, top=0.975, hspace=0.075, wspace=0.075)\n",
    "\n",
    "for col, var in enumerate(['PRCP','EVAP','total_runoff']):\n",
    "    histo_hydro_means.mean(dim='gcm')[var].plot.pcolormesh(ax=axes[0, col], **kwargs[var])\n",
    "    rcp85_hydro_30yr_diff['middle'].mean(dim='gcm')[var].plot.pcolormesh(ax=axes[1, col], **kwargs[f'change-{var}'])\n",
    "    rcp85_hydro_30yr_diff['late'].mean(dim='gcm')[var].plot.pcolormesh(ax=axes[2, col],   **kwargs[f'change-{var}'])\n",
    "    \n",
    "    add_ylabel(axes[0, 0], 'historical [mm/yr]', fontsize=11)\n",
    "    add_ylabel(axes[1, 0], 'changes 2040-2069 [%]', fontsize=11)\n",
    "    add_ylabel(axes[2, 0], 'changes 2070-2099 [%]', fontsize=11)\n",
    "    axes[0, col].set_title(var_title[var], fontsize=12)\n",
    "    \n",
    "if figSave:\n",
    "    plt.savefig(f'NB-AK4_Fig2_annual_mean_pchange_mid_late_rcp85.png', dpi=300)"
   ]
  },
  {
   "cell_type": "markdown",
   "metadata": {},
   "source": [
    "------------\n",
    " - Difference between two RCPs in change in 30yr mean annual total for late 21st century"
   ]
  },
  {
   "cell_type": "code",
   "execution_count": null,
   "metadata": {},
   "outputs": [],
   "source": [
    "cm = {'change' : custom_div_cmap(numcolors=25, mincol='xkcd:red', midcol='xkcd:light grey', maxcol='xkcd:blue')}\n",
    "\n",
    "style_kwargs = {'add_labels': False, 'xticks':[], 'yticks':[], 'cbar_kwargs': dict(orientation=\"horizontal\", shrink=0.995, pad=0.03)}\n",
    "kwargs       = {'change-rcp': {'vmin':-100, 'vmax':100,  'cmap':cm['change'], 'extend':'both', **style_kwargs},\n",
    "               }\n",
    "\n",
    "var_title = {'PRCP':'Precipitation', 'EVAP':'Evapotranspiration', 'total_runoff':'Runoff'}\n",
    "\n",
    "fig, axes = plt.subplots(nrows=1, ncols=3, sharex=True, sharey=True, figsize=(8.125,3))\n",
    "plt.subplots_adjust(left=0.040, bottom=0.0125, right=0.990, top=0.900, hspace=0.060, wspace=0.060)\n",
    "\n",
    "for col, var in enumerate(['PRCP','EVAP','total_runoff']):\n",
    "    diff_rcp_hydro_30yr_change['late'].mean(dim='gcm')[var].plot.pcolormesh(ax=axes[col], **kwargs['change-rcp'])\n",
    "    \n",
    "    add_ylabel(axes[0], 'RCP85 - RCP45[%]', fontsize=11)\n",
    "    axes[col].set_title(var_title[var], fontsize=12)\n",
    "    \n",
    "if figSave:\n",
    "    plt.savefig(f'NB-AK4_Fig3_annual_mean_pchange_late_diff_rcp.png', dpi=300)"
   ]
  },
  {
   "cell_type": "markdown",
   "metadata": {},
   "source": [
    "--------\n",
    "- Climate changes for individual GCMs for late 21st century are plotted below"
   ]
  },
  {
   "cell_type": "markdown",
   "metadata": {},
   "source": [
    "--------------------\n",
    "### Precipitation"
   ]
  },
  {
   "cell_type": "markdown",
   "metadata": {},
   "source": [
    "#### rcp45"
   ]
  },
  {
   "cell_type": "code",
   "execution_count": null,
   "metadata": {},
   "outputs": [],
   "source": [
    "var=\"PRCP\"\n",
    "\n",
    "cm = {'change': custom_div_cmap(numcolors=255, mincol='xkcd:red', midcol='xkcd:light grey', maxcol='xkcd:blue'),\n",
    "      'std'   : custom_div_cmap(numcolors=255, mincol='xkcd:light grey', midcol='xkcd:light light blue', maxcol='xkcd:blue')}\n",
    "\n",
    "style_kwargs =  {'add_labels': False, 'xticks':[], 'yticks':[], 'cbar_kwargs': dict(orientation=\"horizontal\", shrink=0.975, pad=0.03)}\n",
    "\n",
    "kwargs = {'change': {'levels': 21, 'vmin':-100, 'vmax':100, 'cmap':cm['change'], 'extend':'max',  **style_kwargs},\n",
    "          'std':    {'levels': 11,  'vmin':0,   'vmax':50,  'cmap':cm['std'],    'extend':'max',  **style_kwargs}}\n",
    "\n",
    "fig, axes = plt.subplots(nrows=3, ncols=4, sharex=True, sharey=True, figsize=(11.375, 10.5)) # used to be figsize=(14,11)\n",
    "plt.subplots_adjust(left=0.0125, bottom=0.0125, right=0.99, top=0.935, hspace=0.075, wspace=0.075)\n",
    "\n",
    "for ix, gcm in enumerate(gcms+['ensemble-mean','ensemble-std']):\n",
    "    row = ix // 4\n",
    "    col = ix % 4\n",
    "    if ix < 10:\n",
    "        rcp45_hydro_30yr_diff['late'][var].sel(gcm=gcm).plot.pcolormesh(ax=axes[row, col], **kwargs['change'])\n",
    "    elif ix == 10:\n",
    "        rcp45_hydro_30yr_diff['late'].mean(dim='gcm')[var].plot.pcolormesh(ax=axes[row, col], **kwargs['change'])\n",
    "    elif ix == 11:\n",
    "        rcp45_hydro_30yr_diff['late'].std(dim='gcm')[var].plot.pcolormesh(ax=axes[row, col], **kwargs['std'])\n",
    "    axes[row, col].set_title(gcm, fontsize=12)\n",
    "    \n",
    "#plt.tight_layout()\n",
    "fig.suptitle('%Change in 30yr mean annual precipitation - late 21st century', fontsize=14, y=0.985)\n",
    "if figSave:\n",
    "    plt.savefig(f'NB-AK4_Fig4_annual_mean_pchange_late_{var}_rcp45.png', dpi=300)"
   ]
  },
  {
   "cell_type": "code",
   "execution_count": null,
   "metadata": {},
   "outputs": [],
   "source": [
    "var=\"PRCP\"\n",
    "\n",
    "cm = {'change': custom_div_cmap(numcolors=255, mincol='xkcd:red', midcol='xkcd:light grey', maxcol='xkcd:blue'),\n",
    "      'std'   : custom_div_cmap(numcolors=255, mincol='xkcd:light grey', midcol='xkcd:light light blue', maxcol='xkcd:blue')}\n",
    "\n",
    "style_kwargs =  {'add_labels': False, 'xticks':[], 'yticks':[], 'cbar_kwargs': dict(orientation=\"horizontal\", shrink=0.975, pad=0.03)}\n",
    "\n",
    "kwargs = {'change': {'levels': 21, 'vmin':-100, 'vmax':100, 'cmap':cm['change'], 'extend':'max',  **style_kwargs},\n",
    "          'std':    {'levels': 11,  'vmin':0,   'vmax':50,  'cmap':cm['std'],    'extend':'max',  **style_kwargs}}\n",
    "\n",
    "fig, axes = plt.subplots(nrows=3, ncols=4, sharex=True, sharey=True, figsize=(11.375, 10.5))  # used to be figsize=(14,11)\n",
    "plt.subplots_adjust(left=0.0125, bottom=0.0125, right=0.99, top=0.935, hspace=0.075, wspace=0.075)\n",
    "\n",
    "for ix, gcm in enumerate(gcms+['ensemble-mean','ensemble-std']):\n",
    "    row = ix // 4\n",
    "    col = ix % 4\n",
    "    if ix < 10:\n",
    "        rcp85_hydro_30yr_diff['late'][var].sel(gcm=gcm).plot.pcolormesh(ax=axes[row, col], **kwargs['change'])\n",
    "    elif ix == 10:\n",
    "        rcp85_hydro_30yr_diff['late'].mean(dim='gcm')[var].plot.pcolormesh(ax=axes[row, col], **kwargs['change'])\n",
    "    elif ix == 11:\n",
    "        rcp85_hydro_30yr_diff['late'].std(dim='gcm')[var].plot.pcolormesh(ax=axes[row, col], **kwargs['std'])\n",
    "    axes[row, col].set_title(gcm, fontsize=12)\n",
    "    \n",
    "fig.suptitle('%Change in 30yr mean annual precipitation - late 21st century', fontsize=14, y=0.985)\n",
    "if figSave:\n",
    "    plt.savefig(f'NB-AK4_Fig5_annual_mean_pchange_late_{var}_rcp85.png', dpi=300)"
   ]
  },
  {
   "cell_type": "markdown",
   "metadata": {},
   "source": [
    "#### rcp85 - rcp45"
   ]
  },
  {
   "cell_type": "code",
   "execution_count": null,
   "metadata": {},
   "outputs": [],
   "source": [
    "var=\"PRCP\"\n",
    "\n",
    "cm = {'mean': custom_div_cmap(numcolors=25, mincol='xkcd:red', midcol='xkcd:light grey', maxcol='xkcd:blue'),\n",
    "      'std' : custom_div_cmap(numcolors=24, mincol='xkcd:light grey', midcol='xkcd:light light blue', maxcol='xkcd:blue')}\n",
    "\n",
    "style_kwargs =  {'add_labels': False, 'xticks':[], 'yticks':[], 'cbar_kwargs': dict(orientation=\"horizontal\", shrink=0.975, pad=0.03)}\n",
    "kwargs = {'mean': {'vmin':-100, 'vmax':100, 'cmap':cm['mean'], 'extend':'both', **style_kwargs},\n",
    "          'std':  {'levels': 7,  'vmin':0,   'vmax':60, 'cmap':cm['std'],  'extend':'max',  **style_kwargs}}\n",
    "\n",
    "fig, axes = plt.subplots(nrows=3, ncols=4, sharex=True, sharey=True, figsize=(11.375, 10.5))  # used to be figsize=(14,11)\n",
    "plt.subplots_adjust(left=0.0125, bottom=0.0125, right=0.99, top=0.935, hspace=0.075, wspace=0.075)\n",
    "\n",
    "for ix, gcm in enumerate(gcms+['ensemble-mean','ensemble-std']):\n",
    "    row = ix // 4\n",
    "    col = ix % 4\n",
    "    if ix < 10:\n",
    "        diff_rcp_hydro_30yr_change['late'][var].sel(gcm=gcm).plot.pcolormesh(ax=axes[row, col], **kwargs['mean'])\n",
    "    elif ix == 10:\n",
    "        diff_rcp_hydro_30yr_change['late'].mean(dim='gcm')[var].plot.pcolormesh(ax=axes[row, col], **kwargs['mean'])\n",
    "    elif ix == 11:\n",
    "        diff_rcp_hydro_30yr_change['late'].std(dim='gcm')[var].plot.pcolormesh(ax=axes[row, col], **kwargs['std'])\n",
    "    axes[row, col].set_title(gcm, fontsize=14)\n",
    "    \n",
    "fig.suptitle('RCP85 vs RCP 45: %Change in 30yr mean annual precipitation - late 21st century', fontsize=14, y=0.985)\n",
    "if figSave:\n",
    "    plt.savefig(f'NB-AK4_Fig6_annual_mean_pchange_late_{var}_rcp_diff.png', dpi=300)"
   ]
  },
  {
   "cell_type": "markdown",
   "metadata": {},
   "source": [
    "#### rcp85"
   ]
  },
  {
   "cell_type": "markdown",
   "metadata": {},
   "source": [
    "--------------------\n",
    "### total runoff"
   ]
  },
  {
   "cell_type": "markdown",
   "metadata": {},
   "source": [
    "#### rcp45"
   ]
  },
  {
   "cell_type": "code",
   "execution_count": null,
   "metadata": {},
   "outputs": [],
   "source": [
    "var=\"total_runoff\"\n",
    "\n",
    "cm = {'change': cmap_change_RO,\n",
    "      'std' :   custom_div_cmap(numcolors=21, mincol='xkcd:light grey', midcol='xkcd:light light blue', maxcol='xkcd:blue')}\n",
    "\n",
    "style_kwargs =  {'add_labels': False, 'xticks':[], 'yticks':[], 'cbar_kwargs': dict(orientation=\"horizontal\", shrink=0.975, pad=0.03)}\n",
    "\n",
    "kwargs = {'change': {'levels': 26, 'vmin':-100, 'vmax':150, 'cmap':cm['change'],'extend':'max', **style_kwargs},\n",
    "          'std':    {'levels': 10, 'vmin':0,    'vmax':100, 'cmap':cm['std'],   'extend':'max', **style_kwargs}}\n",
    "\n",
    "fig, axes = plt.subplots(nrows=3, ncols=4, sharex=True, sharey=True, figsize=(11.375, 10.5)) # used to be figsize=(14,11)\n",
    "plt.subplots_adjust(left=0.0125, bottom=0.0125, right=0.99, top=0.935, hspace=0.075, wspace=0.075)\n",
    "\n",
    "for ix, gcm in enumerate(gcms+['ensemble-mean','ensemble-std']):\n",
    "    row = ix // 4\n",
    "    col = ix % 4\n",
    "    if ix < 10:\n",
    "        rcp45_hydro_30yr_diff['late'][var].sel(gcm=gcm).plot.pcolormesh(ax=axes[row, col], **kwargs['change'])\n",
    "    elif ix == 10:\n",
    "        rcp45_hydro_30yr_diff['late'].mean(dim='gcm')[var].plot.pcolormesh(ax=axes[row, col], **kwargs['change'])\n",
    "    elif ix == 11:\n",
    "        rcp45_hydro_30yr_diff['late'].std(dim='gcm')[var].plot.pcolormesh(ax=axes[row, col], **kwargs['std'])\n",
    "    axes[row, col].set_title(gcm, fontsize=12)\n",
    "    \n",
    "#plt.tight_layout()\n",
    "fig.suptitle('%Change in 30yr mean annual total runoff - late 21st century', fontsize=14, y=0.985)\n",
    "if figSave:\n",
    "    plt.savefig(f'NB-AK4_Fig7_annual_mean_pchange_late_{var}_rcp45.png', dpi=300)"
   ]
  },
  {
   "cell_type": "markdown",
   "metadata": {},
   "source": [
    "#### rcp85"
   ]
  },
  {
   "cell_type": "code",
   "execution_count": null,
   "metadata": {},
   "outputs": [],
   "source": [
    "var=\"total_runoff\"\n",
    "\n",
    "cm = {'change': cmap_change_RO,\n",
    "      'std' :   custom_div_cmap(numcolors=21, mincol='xkcd:light grey', midcol='xkcd:light light blue', maxcol='xkcd:blue')}\n",
    "\n",
    "style_kwargs =  {'add_labels': False, 'xticks':[], 'yticks':[], 'cbar_kwargs': dict(orientation=\"horizontal\", shrink=0.975, pad=0.03)}\n",
    "\n",
    "kwargs = {'change': {'levels': 26, 'vmin':-100, 'vmax':150, 'cmap':cm['change'],'extend':'max', **style_kwargs},\n",
    "          'std':    {'levels': 10, 'vmin':0,    'vmax':100, 'cmap':cm['std'],   'extend':'max', **style_kwargs}}\n",
    "\n",
    "fig, axes = plt.subplots(nrows=3, ncols=4, sharex=True, sharey=True, figsize=(11.375, 10.5))  # used to be figsize=(14,11)\n",
    "plt.subplots_adjust(left=0.0125, bottom=0.0125, right=0.99, top=0.935, hspace=0.075, wspace=0.075)\n",
    "\n",
    "for ix, gcm in enumerate(gcms+['ensemble-mean','ensemble-std']):\n",
    "    row = ix // 4\n",
    "    col = ix % 4\n",
    "    if ix < 10:\n",
    "        rcp85_hydro_30yr_diff['late'][var].sel(gcm=gcm).plot.pcolormesh(ax=axes[row, col], **kwargs['change'])\n",
    "    elif ix == 10:\n",
    "        rcp85_hydro_30yr_diff['late'].mean(dim='gcm')[var].plot.pcolormesh(ax=axes[row, col], **kwargs['change'])\n",
    "    elif ix == 11:\n",
    "        rcp85_hydro_30yr_diff['late'].std(dim='gcm')[var].plot.pcolormesh(ax=axes[row, col], **kwargs['std'])\n",
    "    axes[row, col].set_title(gcm, fontsize=12)\n",
    "    \n",
    "fig.suptitle('%Change in 30yr mean annual total runoff - late 21st century', fontsize=14, y=0.985)\n",
    "if figSave:\n",
    "    plt.savefig(f'NB-AK4_Fig8_annual_mean_pchange_late_{var}_rcp85.png', dpi=300)"
   ]
  },
  {
   "cell_type": "markdown",
   "metadata": {},
   "source": [
    "#### rcp85 - rcp45"
   ]
  },
  {
   "cell_type": "code",
   "execution_count": null,
   "metadata": {},
   "outputs": [],
   "source": [
    "var=\"total_runoff\"\n",
    "\n",
    "cm = {'mean': custom_div_cmap(numcolors=25, mincol='xkcd:red', midcol='xkcd:light grey', maxcol='xkcd:blue'),\n",
    "      'std' : custom_div_cmap(numcolors=24, mincol='xkcd:light grey', midcol='xkcd:light light blue', maxcol='xkcd:blue')}\n",
    "\n",
    "style_kwargs =  {'add_labels': False, 'xticks':[], 'yticks':[], 'cbar_kwargs': dict(orientation=\"horizontal\", shrink=0.975, pad=0.03)}\n",
    "kwargs = {'mean': {'vmin':-100, 'vmax':100, 'cmap':cm['mean'], 'extend':'both', **style_kwargs},\n",
    "          'std':  {'levels': 7,  'vmin':0,   'vmax':60, 'cmap':cm['std'],  'extend':'max',  **style_kwargs}}\n",
    "\n",
    "fig, axes = plt.subplots(nrows=3, ncols=4, sharex=True, sharey=True, figsize=(11.375, 10.5))  # used to be figsize=(14,11)\n",
    "plt.subplots_adjust(left=0.0125, bottom=0.0125, right=0.99, top=0.935, hspace=0.075, wspace=0.075)\n",
    "\n",
    "for ix, gcm in enumerate(gcms+['ensemble-mean','ensemble-std']):\n",
    "    row = ix // 4\n",
    "    col = ix % 4\n",
    "    if ix < 10:\n",
    "        diff_rcp_hydro_30yr_change['late'][var].sel(gcm=gcm).plot.pcolormesh(ax=axes[row, col], **kwargs['mean'])\n",
    "    elif ix == 10:\n",
    "        diff_rcp_hydro_30yr_change['late'].mean(dim='gcm')[var].plot.pcolormesh(ax=axes[row, col], **kwargs['mean'])\n",
    "    elif ix == 11:\n",
    "        diff_rcp_hydro_30yr_change['late'].std(dim='gcm')[var].plot.pcolormesh(ax=axes[row, col], **kwargs['std'])\n",
    "    axes[row, col].set_title(gcm, fontsize=14)\n",
    "    \n",
    "fig.suptitle('RCP85 vs RCP 45: %Change in 30yr mean annual total runoff - late 21st century', fontsize=14, y=0.985)\n",
    "if figSave:\n",
    "    plt.savefig(f'NB-AK4_Fig9_annual_mean_pchange_late_{var}_rcp_diff.png', dpi=300)"
   ]
  },
  {
   "cell_type": "markdown",
   "metadata": {},
   "source": [
    "-------------------------\n",
    "### Evapotranspiration"
   ]
  },
  {
   "cell_type": "markdown",
   "metadata": {},
   "source": [
    "#### rcp45"
   ]
  },
  {
   "cell_type": "code",
   "execution_count": null,
   "metadata": {},
   "outputs": [],
   "source": [
    "var=\"EVAP\"\n",
    "\n",
    "cm = {'change': custom_div_cmap(numcolors=255, mincol='xkcd:red', midcol='xkcd:light grey', maxcol='xkcd:blue'),\n",
    "      'std'   : custom_div_cmap(numcolors=255, mincol='xkcd:light grey', midcol='xkcd:light light blue', maxcol='xkcd:blue')}\n",
    "\n",
    "style_kwargs =  {'add_labels': False, 'xticks':[], 'yticks':[], 'cbar_kwargs': dict(orientation=\"horizontal\", shrink=0.975, pad=0.03)}\n",
    "\n",
    "kwargs = {'change': {'levels': 21, 'vmin':-100, 'vmax':100, 'cmap':cm['change'], 'extend':'both',  **style_kwargs},\n",
    "          'std':    {'levels': 6,  'vmin':0,   'vmax':50,  'cmap':cm['std'],    'extend':'max',  **style_kwargs}}\n",
    "\n",
    "fig, axes = plt.subplots(nrows=3, ncols=4, sharex=True, sharey=True, figsize=(11.375, 10.5))\n",
    "plt.subplots_adjust(left=0.0125, bottom=0.0125, right=0.99, top=0.935, hspace=0.075, wspace=0.075)\n",
    "\n",
    "for ix, gcm in enumerate(gcms+['ensemble-mean','ensemble-std']):\n",
    "    row = ix // 4\n",
    "    col = ix % 4\n",
    "    if ix < 10:\n",
    "        rcp45_hydro_30yr_diff['late'][var].sel(gcm=gcm).plot.pcolormesh(ax=axes[row, col], **kwargs['change'])\n",
    "    elif ix == 10:\n",
    "        rcp45_hydro_30yr_diff['late'].mean(dim='gcm')[var].plot.pcolormesh(ax=axes[row, col], **kwargs['change'])\n",
    "    elif ix == 11:\n",
    "        rcp45_hydro_30yr_diff['late'].std(dim='gcm')[var].plot.pcolormesh(ax=axes[row, col], **kwargs['std'])\n",
    "    axes[row, col].set_title(gcm, fontsize=12)\n",
    "    \n",
    "fig.suptitle('%Change in 30yr mean annual evapotranspiration - late 21st century', fontsize=14, y=0.985)\n",
    "if figSave:\n",
    "    plt.savefig(f'NB-AK4_Fig10_annual_mean_pchange_late_{var}_rcp45.png', dpi=300)"
   ]
  },
  {
   "cell_type": "markdown",
   "metadata": {},
   "source": [
    "#### rcp85"
   ]
  },
  {
   "cell_type": "code",
   "execution_count": null,
   "metadata": {},
   "outputs": [],
   "source": [
    "var=\"EVAP\"\n",
    "\n",
    "cm = {'change': custom_div_cmap(numcolors=255, mincol='xkcd:red', midcol='xkcd:light grey', maxcol='xkcd:blue'),\n",
    "      'std'   : custom_div_cmap(numcolors=255, mincol='xkcd:light grey', midcol='xkcd:light light blue', maxcol='xkcd:blue')}\n",
    "\n",
    "style_kwargs =  {'add_labels': False, 'xticks':[], 'yticks':[], 'cbar_kwargs': dict(orientation=\"horizontal\", shrink=0.975, pad=0.03)}\n",
    "\n",
    "kwargs = {'change': {'levels': 21, 'vmin':-100, 'vmax':100, 'cmap':cm['change'], 'extend':'both',  **style_kwargs},\n",
    "          'std':    {'levels': 6,  'vmin':0,   'vmax':50,  'cmap':cm['std'],    'extend':'max',  **style_kwargs}}\n",
    "\n",
    "fig, axes = plt.subplots(nrows=3, ncols=4, sharex=True, sharey=True, figsize=(11.375, 10.5))\n",
    "plt.subplots_adjust(left=0.0125, bottom=0.0125, right=0.99, top=0.935, hspace=0.075, wspace=0.075)\n",
    "\n",
    "for ix, gcm in enumerate(gcms+['ensemble-mean','ensemble-std']):\n",
    "    row = ix // 4\n",
    "    col = ix % 4\n",
    "    if ix < 10:\n",
    "        rcp85_hydro_30yr_diff['late'][var].sel(gcm=gcm).plot.pcolormesh(ax=axes[row, col], **kwargs['change'])\n",
    "    elif ix == 10:\n",
    "        rcp85_hydro_30yr_diff['late'].mean(dim='gcm')[var].plot.pcolormesh(ax=axes[row, col], **kwargs['change'])\n",
    "    elif ix == 11:\n",
    "        rcp85_hydro_30yr_diff['late'].std(dim='gcm')[var].plot.pcolormesh(ax=axes[row, col], **kwargs['std'])\n",
    "    axes[row, col].set_title(gcm, fontsize=12)\n",
    "    \n",
    "fig.suptitle('%Change in 30yr mean annual evapotransipiration - late 21st century', fontsize=14, y=0.985)\n",
    "if figSave:\n",
    "    plt.savefig(f'NB-AK4_Fig11_annual_mean_pchange_late_{var}_rcp85.png', dpi=300)"
   ]
  },
  {
   "cell_type": "markdown",
   "metadata": {},
   "source": [
    "#### RCP85 - RCP45"
   ]
  },
  {
   "cell_type": "code",
   "execution_count": null,
   "metadata": {},
   "outputs": [],
   "source": [
    "var=\"EVAP\"\n",
    "\n",
    "cm = {'mean': custom_div_cmap(numcolors=25, mincol='xkcd:red', midcol='xkcd:light grey', maxcol='xkcd:blue'),\n",
    "      'std' : custom_div_cmap(numcolors=24, mincol='xkcd:light grey', midcol='xkcd:light light blue', maxcol='xkcd:blue')}\n",
    "\n",
    "style_kwargs =  {'add_labels': False, 'xticks':[], 'yticks':[], 'cbar_kwargs': dict(orientation=\"horizontal\", shrink=0.975, pad=0.03)}\n",
    "kwargs = {'mean': {'vmin':-100, 'vmax':100, 'cmap':cm['mean'], 'extend':'both', **style_kwargs},\n",
    "          'std':  {'levels': 9,  'vmin':0,   'vmax':40, 'cmap':cm['std'],  'extend':'max', **style_kwargs}}\n",
    "\n",
    "fig, axes = plt.subplots(nrows=3, ncols=4, sharex=True, sharey=True, figsize=(11.375, 10.5))\n",
    "plt.subplots_adjust(left=0.0125, bottom=0.0125, right=0.99, top=0.935, hspace=0.075, wspace=0.075)\n",
    "\n",
    "for ix, gcm in enumerate(gcms+['ensemble-mean','ensemble-std']):\n",
    "    row = ix // 4\n",
    "    col = ix % 4\n",
    "    if ix < 10:\n",
    "        diff_rcp_hydro_30yr_change['late'][var].sel(gcm=gcm).plot.pcolormesh(ax=axes[row, col], **kwargs['mean'])\n",
    "    elif ix == 10:\n",
    "        diff_rcp_hydro_30yr_change['late'].mean(dim='gcm')[var].plot.pcolormesh(ax=axes[row, col], **kwargs['mean'])\n",
    "    elif ix == 11:\n",
    "        diff_rcp_hydro_30yr_change['late'].std(dim='gcm')[var].plot.pcolormesh(ax=axes[row, col], **kwargs['std'])\n",
    "    axes[row, col].set_title(gcm, fontsize=12)\n",
    "    \n",
    "fig.suptitle('RCP85 vs RCP 45: %Change in 30yr mean annual evapotransipiration - late 21st century', fontsize=14, y=0.985)\n",
    "if figSave:\n",
    "    plt.savefig(f'NB-AK4_Fig12_annual_mean_pchange_late_{var}_rcp_diff.png', dpi=300)"
   ]
  },
  {
   "cell_type": "code",
   "execution_count": null,
   "metadata": {},
   "outputs": [],
   "source": []
  }
 ],
 "metadata": {
  "kernelspec": {
   "display_name": "Python [conda env:cmip5_oconus]",
   "language": "python",
   "name": "conda-env-cmip5_oconus-py"
  },
  "language_info": {
   "codemirror_mode": {
    "name": "ipython",
    "version": 3
   },
   "file_extension": ".py",
   "mimetype": "text/x-python",
   "name": "python",
   "nbconvert_exporter": "python",
   "pygments_lexer": "ipython3",
   "version": "3.7.0"
  }
 },
 "nbformat": 4,
 "nbformat_minor": 4
}
