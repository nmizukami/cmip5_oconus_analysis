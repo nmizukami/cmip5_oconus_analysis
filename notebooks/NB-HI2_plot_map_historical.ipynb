{
 "cells": [
  {
   "cell_type": "markdown",
   "metadata": {},
   "source": [
    "# NB-HI2: Plot of Runoff, ET, Precipt over three 30yr period for each GCM"
   ]
  },
  {
   "cell_type": "markdown",
   "metadata": {},
   "source": [
    "## module loading..."
   ]
  },
  {
   "cell_type": "code",
   "execution_count": null,
   "metadata": {},
   "outputs": [],
   "source": [
    "%matplotlib inline  \n",
    "import os\n",
    "import sys\n",
    "import xarray as xr\n",
    "import pandas as pd\n",
    "import numpy as np\n",
    "import matplotlib.pyplot as plt\n",
    "import matplotlib as mpl\n",
    "from timeit import default_timer as timer\n",
    "\n",
    "print(\"\\nThe Python version: %s.%s.%s\" % sys.version_info[:3])\n",
    "print(xr.__name__, xr.__version__)\n",
    "print(pd.__name__, pd.__version__)\n",
    "\n",
    "mpl.rcParams['xtick.labelsize']='small'"
   ]
  },
  {
   "cell_type": "code",
   "execution_count": null,
   "metadata": {},
   "outputs": [],
   "source": [
    "from cmip5_oconus import print_date\n",
    "print_date()\n",
    "\n",
    "from cmip5_oconus.data_catalog import load_monthly_historical_hydro_datasets, resample_data\n",
    "from cmip5_oconus.data_catalog import load_monthly_cmip5_hydro_datasets\n",
    "from cmip5_oconus.plot import custom_div_cmap, MidpointNormalize"
   ]
  },
  {
   "cell_type": "code",
   "execution_count": null,
   "metadata": {},
   "outputs": [],
   "source": [
    "#from dask_jobqueue import PBSCluster\n",
    "#cluster = PBSCluster(processes=9, threads=4, memory=\"108GB\",\n",
    "#                  walltime='00:40:00')\n",
    "#cluster.scale(jobs=3)\n",
    "\n",
    "#from dask_jobqueue import SLURMCluster\n",
    "#cluster = SLURMCluster()\n",
    "#cluster.scale(jobs=5)"
   ]
  },
  {
   "cell_type": "code",
   "execution_count": null,
   "metadata": {
    "scrolled": true
   },
   "outputs": [],
   "source": [
    "#from dask.distributed import Client\n",
    "#client = Client(cluster)"
   ]
  },
  {
   "cell_type": "code",
   "execution_count": null,
   "metadata": {},
   "outputs": [],
   "source": [
    "#client"
   ]
  },
  {
   "cell_type": "markdown",
   "metadata": {},
   "source": [
    "-------------------------\n",
    "## Setup "
   ]
  },
  {
   "cell_type": "code",
   "execution_count": null,
   "metadata": {},
   "outputs": [],
   "source": [
    "figSave = True"
   ]
  },
  {
   "cell_type": "code",
   "execution_count": null,
   "metadata": {},
   "outputs": [],
   "source": [
    "region           = 'HI'\n",
    "gcms             = [\"ACCESS1-3\",\"CanESM2\",\"CCSM4\",\"CSIRO-Mk3-6-0\",\"GFDL-ESM2M\",\"HadGEM2-ES\",\"inmcm4\",\"MIROC5\",\"MPI-ESM-MR\",\"MRI-CGCM3\"]\n",
    "period_hist      = slice('1970-01-01', '1999-12-31')\n",
    "period_10yr_hist = slice('1990-01-01', '1999-12-31')\n",
    "hydro_flux_vars  = ['PRCP','EVAP', 'total_runoff']"
   ]
  },
  {
   "cell_type": "markdown",
   "metadata": {},
   "source": [
    "## Load the data"
   ]
  },
  {
   "cell_type": "code",
   "execution_count": null,
   "metadata": {},
   "outputs": [],
   "source": [
    "xr.set_options(file_cache_maxsize=12000)\n",
    "histo_data = load_monthly_historical_hydro_datasets(models=gcms, variables=hydro_flux_vars, region=region, parallel=False)"
   ]
  },
  {
   "cell_type": "code",
   "execution_count": null,
   "metadata": {},
   "outputs": [],
   "source": []
  },
  {
   "cell_type": "markdown",
   "metadata": {},
   "source": [
    "## 30 year (1970-1999) annual mean"
   ]
  },
  {
   "cell_type": "code",
   "execution_count": null,
   "metadata": {},
   "outputs": [],
   "source": [
    "histo_hydro_means = {}\n",
    "for name in ['obs', 'gcm']:\n",
    "    histo_hydro_means[name] = resample_data(histo_data[name].sel(time=period_hist), region=region, freq='AS').mean('time').compute()"
   ]
  },
  {
   "cell_type": "markdown",
   "metadata": {},
   "source": [
    "## 10 year (1990-1999) annual mean"
   ]
  },
  {
   "cell_type": "code",
   "execution_count": null,
   "metadata": {},
   "outputs": [],
   "source": [
    "histo_hydro_10yr_means = {}\n",
    "for name in ['obs', 'gcm']:\n",
    "    histo_hydro_10yr_means[name] = resample_data(histo_data[name].sel(time=period_10yr_hist), region=region, freq='AS').mean('time').compute()"
   ]
  },
  {
   "cell_type": "code",
   "execution_count": null,
   "metadata": {},
   "outputs": [],
   "source": []
  },
  {
   "cell_type": "markdown",
   "metadata": {},
   "source": [
    "### Plot"
   ]
  },
  {
   "cell_type": "code",
   "execution_count": null,
   "metadata": {},
   "outputs": [],
   "source": [
    "# create colormap\n",
    "# ---------------\n",
    "from matplotlib.colors import LinearSegmentedColormap\n",
    "# create a colormap that consists of\n",
    "# - 1/5 : custom colormap, ranging from white to the first color of the colormap\n",
    "# - 4/5 : existing colormap\n",
    "\n",
    "# set upper part: 4 * 256/4 entries\n",
    "upper = mpl.cm.Spectral_r(np.arange(256))\n",
    "\n",
    "# set lower part: 1 * 256/4 entries\n",
    "# - initialize all entries to 1 to make sure that the alpha channel (4th column) is 1\n",
    "lower = np.ones((int(256/4),4))\n",
    "# - modify the first three columns (RGB):\n",
    "#   range linearly between white (1,1,1) and the first color of the upper colormap\n",
    "for i in range(3):\n",
    "    lower[:,i] = np.linspace(0.9, upper[0,i], lower.shape[0])\n",
    "\n",
    "# combine parts of colormap\n",
    "cmap = np.vstack(( lower, upper ))\n",
    "\n",
    "# convert to matplotlib colormap\n",
    "cmap = mpl.colors.ListedColormap(cmap, name='myColorMap', N=cmap.shape[0])\n",
    "\n",
    "# option 2\n",
    "cmap2 = LinearSegmentedColormap.from_list('custom1', \n",
    "                                          [(0.00, 'xkcd:very light green'),\n",
    "                                           (0.20, 'xkcd:light blue'),\n",
    "                                           (0.50, 'xkcd:lightish blue'),\n",
    "                                           (0.70, 'xkcd:blue'),\n",
    "                                           (1.00, 'xkcd:purple')], N=256)\n",
    "cmap2.set_over('xkcd:dark purple')\n",
    "cmap2.set_under('xkcd:light grey')"
   ]
  },
  {
   "cell_type": "markdown",
   "metadata": {},
   "source": [
    "## 30 year (1970-1999) annual mean plot"
   ]
  },
  {
   "cell_type": "code",
   "execution_count": null,
   "metadata": {},
   "outputs": [],
   "source": [
    "var=\"PRCP\"\n",
    "\n",
    "cm = {'mean': cmap2,\n",
    "      'std' : custom_div_cmap(mincol='xkcd:light grey', midcol='xkcd:light light blue', maxcol='xkcd:blue')}\n",
    "\n",
    "sfmt = mpl.ticker.ScalarFormatter(useMathText=True)\n",
    "sfmt.set_powerlimits((-5, 5))\n",
    "\n",
    "cbar_kwrgs = {'mean':   {\"orientation\":\"horizontal\", \"shrink\":0.990, \"pad\":0.03, 'format':sfmt},\n",
    "              'std':    {\"orientation\":\"horizontal\", \"shrink\":0.990, \"pad\":0.03}}\n",
    "\n",
    "style_kwargs = {'mean': {'add_labels': False, 'xticks':[], 'yticks':[], 'cbar_kwargs': cbar_kwrgs['mean']},\n",
    "                'std':  {'add_labels': False, 'xticks':[], 'yticks':[], 'cbar_kwargs': cbar_kwrgs['std']}}\n",
    "\n",
    "kwargs = {'mean': {'levels': 21, 'vmin':0, 'vmax':4000, 'cmap':cm['mean'], 'extend':'max', **style_kwargs['mean']},\n",
    "          'std':  {'levels': 7, 'vmin':0, 'vmax':300,  'cmap':cm['std'],  'extend':'max', **style_kwargs['std']}}\n",
    "\n",
    "fig, axes = plt.subplots(nrows=3, ncols=4, sharex=True, sharey=True, figsize=(11.375, 10.5)) # used to be figsize=(14,11)\n",
    "plt.subplots_adjust(left=0.012, bottom=0.0125, right=0.99, top=0.935, hspace=0.125, wspace=0.075)\n",
    "\n",
    "for ix, gcm in enumerate(gcms+['UH (1990-1999)','GCM ensemble std']):\n",
    "    row = ix // 4\n",
    "    col = ix % 4\n",
    "    if ix < 10:\n",
    "        histo_hydro_means['gcm'][var].sel(gcm=gcm).plot.pcolormesh(ax=axes[row, col], **kwargs['mean'])\n",
    "    elif ix == 10:\n",
    "        histo_hydro_means['obs'][var].plot.pcolormesh(ax=axes[row, col], **kwargs['mean'])\n",
    "    elif ix == 11:\n",
    "        histo_hydro_means['gcm'].std(dim='gcm')[var].plot.pcolormesh(ax=axes[row, col], **kwargs['std'])\n",
    "    axes[row, col].set_title(gcm, fontsize=14)\n",
    "    \n",
    "#plt.tight_layout()\n",
    "fig.suptitle('1970-1999 mean annual precipitation [mm/yr]', fontsize=14, y=0.985)\n",
    "if figSave:\n",
    "    plt.savefig(f'NB-HI2_Fig1_annual_mean_{var}_hist.png', dpi=300)"
   ]
  },
  {
   "cell_type": "code",
   "execution_count": null,
   "metadata": {},
   "outputs": [],
   "source": [
    "var=\"EVAP\"\n",
    "\n",
    "cm = {'mean': cmap2,\n",
    "      'std' : custom_div_cmap(mincol='xkcd:light grey', midcol='xkcd:light light blue', maxcol='xkcd:blue')}\n",
    "\n",
    "sfmt = mpl.ticker.ScalarFormatter(useMathText=True)\n",
    "sfmt.set_powerlimits((-5, 5))\n",
    "\n",
    "cbar_kwrgs = {'mean':   {\"orientation\":\"horizontal\", \"shrink\":0.990, \"pad\":0.03, 'format':sfmt},\n",
    "              'std':    {\"orientation\":\"horizontal\", \"shrink\":0.990, \"pad\":0.03}}\n",
    "\n",
    "style_kwargs = {'mean': {'add_labels': False, 'xticks':[], 'yticks':[], 'cbar_kwargs': cbar_kwrgs['mean']},\n",
    "                'std':  {'add_labels': False, 'xticks':[], 'yticks':[], 'cbar_kwargs': cbar_kwrgs['std']}}\n",
    "\n",
    "kwargs = {'mean': {'levels': 11, 'vmin':0, 'vmax':1000, 'cmap':cm['mean'], 'extend':'max', **style_kwargs['mean']},\n",
    "          'std':  {'levels': 6, 'vmin':0, 'vmax':20, 'cmap':cm['std'],  'extend':'max', **style_kwargs['std']}}\n",
    "\n",
    "fig, axes = plt.subplots(nrows=3, ncols=4, sharex=True, sharey=True, figsize=(11.375, 10.5)) # used to be figsize=(14,11)\n",
    "plt.subplots_adjust(left=0.012, bottom=0.0125, right=0.99, top=0.935, hspace=0.125, wspace=0.075)\n",
    "\n",
    "for ix, gcm in enumerate(gcms+['UH (1990-1999)','GCM ensemble std']):\n",
    "    row = ix // 4\n",
    "    col = ix % 4\n",
    "    if ix < 10:\n",
    "        histo_hydro_means['gcm'][var].sel(gcm=gcm).plot.pcolormesh(ax=axes[row, col], **kwargs['mean'])\n",
    "    elif ix == 10:\n",
    "        #histo_hydro_means['gcm'].mean(dim='gcm')[var].plot.pcolormesh(ax=axes[row, col], **kwargs['mean'])\n",
    "        histo_hydro_means['obs'][var].plot.pcolormesh(ax=axes[row, col], **kwargs['mean'])\n",
    "    elif ix == 11:\n",
    "        histo_hydro_means['gcm'].std(dim='gcm')[var].plot.pcolormesh(ax=axes[row, col], **kwargs['std'])\n",
    "    axes[row, col].set_title(gcm, fontsize=14)\n",
    "\n",
    "fig.suptitle('1970-1999 mean annual total evapotranspiration [mm/yr]', fontsize=14, y=0.985)\n",
    "if figSave:\n",
    "    plt.savefig(f'NB-HI2_Fig2_annual_mean_{var}_hist.png', dpi=300)"
   ]
  },
  {
   "cell_type": "code",
   "execution_count": null,
   "metadata": {},
   "outputs": [],
   "source": [
    "var=\"total_runoff\"\n",
    "\n",
    "cm = {'mean': cmap2,\n",
    "      'std' : custom_div_cmap(mincol='xkcd:light grey', midcol='xkcd:light light blue', maxcol='xkcd:blue')}\n",
    "\n",
    "sfmt = mpl.ticker.ScalarFormatter(useMathText=True)\n",
    "sfmt.set_powerlimits((-5, 5))\n",
    "\n",
    "cbar_kwrgs = {'mean':   {\"orientation\":\"horizontal\", \"shrink\":0.990, \"pad\":0.03, 'format':sfmt},\n",
    "              'std':    {\"orientation\":\"horizontal\", \"shrink\":0.990, \"pad\":0.03}}\n",
    "\n",
    "style_kwargs = {'mean': {'add_labels': False, 'xticks':[], 'yticks':[], 'cbar_kwargs': cbar_kwrgs['mean']},\n",
    "                'std':  {'add_labels': False, 'xticks':[], 'yticks':[], 'cbar_kwargs': cbar_kwrgs['std']}}\n",
    "\n",
    "kwargs = {'mean': {'levels': 21, 'vmin':0, 'vmax':4000, 'cmap':cm['mean'], 'extend':'max', **style_kwargs['mean']},\n",
    "          'std':  {'levels': 7, 'vmin':0, 'vmax':300,  'cmap':cm['std'],  'extend':'max', **style_kwargs['std']}}\n",
    "\n",
    "fig, axes = plt.subplots(nrows=3, ncols=4, sharex=True, sharey=True, figsize=(11.375, 10.5)) # used to be figsize=(14,11)\n",
    "plt.subplots_adjust(left=0.012, bottom=0.0125, right=0.99, top=0.935, hspace=0.125, wspace=0.075)\n",
    "\n",
    "for ix, gcm in enumerate(gcms+['UH (1990-1999)','GCM ensemble std']):\n",
    "    row = ix // 4\n",
    "    col = ix % 4\n",
    "    if ix < 10:\n",
    "        histo_hydro_means['gcm'][var].sel(gcm=gcm).plot.pcolormesh(ax=axes[row, col], **kwargs['mean'])\n",
    "    elif ix == 10:\n",
    "        histo_hydro_means['obs'][var].plot.pcolormesh(ax=axes[row, col], **kwargs['mean'])\n",
    "    elif ix == 11:\n",
    "        histo_hydro_means['gcm'].std(dim='gcm')[var].plot.pcolormesh(ax=axes[row, col], **kwargs['std'])\n",
    "    axes[row, col].set_title(gcm, fontsize=14)\n",
    "    \n",
    "fig.suptitle('1970-1999 mean annual total runoff [mm/yr]', fontsize=14, y=0.985)\n",
    "if figSave:\n",
    "    plt.savefig(f'NB-HI2_Fig3_annual_mean_{var}_hist.png', dpi=300)"
   ]
  },
  {
   "cell_type": "code",
   "execution_count": null,
   "metadata": {},
   "outputs": [],
   "source": []
  },
  {
   "cell_type": "markdown",
   "metadata": {},
   "source": [
    "## 10 year (1990-1999) annual mean plot"
   ]
  },
  {
   "cell_type": "code",
   "execution_count": null,
   "metadata": {},
   "outputs": [],
   "source": [
    "var=\"PRCP\"\n",
    "\n",
    "cm = {'mean': cmap,\n",
    "      'std' : custom_div_cmap(mincol='xkcd:light grey', midcol='xkcd:light light blue', maxcol='xkcd:blue')}\n",
    "\n",
    "sfmt = mpl.ticker.ScalarFormatter(useMathText=True)\n",
    "sfmt.set_powerlimits((0, 0))\n",
    "\n",
    "cbar_kwrgs = {'mean':   {\"orientation\":\"horizontal\", \"shrink\":0.990, \"pad\":0.03, 'format':sfmt},\n",
    "              'std':    {\"orientation\":\"horizontal\", \"shrink\":0.990, \"pad\":0.03}}\n",
    "\n",
    "style_kwargs = {'mean': {'add_labels': False, 'xticks':[], 'yticks':[], 'cbar_kwargs': cbar_kwrgs['mean']},\n",
    "                'std':  {'add_labels': False, 'xticks':[], 'yticks':[], 'cbar_kwargs': cbar_kwrgs['std']}}\n",
    "\n",
    "kwargs = {'mean': {'levels': 21, 'vmin':0, 'vmax':4000, 'cmap':cm['mean'], 'extend':'max', **style_kwargs['mean']},\n",
    "          'std':  {'levels': 16, 'vmin':0, 'vmax':300,  'cmap':cm['std'],  'extend':'max', **style_kwargs['std']}}\n",
    "\n",
    "fig, axes = plt.subplots(nrows=3, ncols=4, sharex=True, sharey=True, figsize=(11.375, 10.5)) # used to be figsize=(14,11)\n",
    "plt.subplots_adjust(left=0.012, bottom=0.0125, right=0.99, top=0.935, hspace=0.125, wspace=0.075)\n",
    "\n",
    "for ix, gcm in enumerate(gcms+['UH (1990-1999)','GCM ensemble std']):\n",
    "    row = ix // 4\n",
    "    col = ix % 4\n",
    "    if ix < 10:\n",
    "        histo_hydro_10yr_means['gcm'][var].sel(gcm=gcm).plot.pcolormesh(ax=axes[row, col], **kwargs['mean'])\n",
    "    elif ix == 10:\n",
    "        histo_hydro_10yr_means['obs'][var].plot.pcolormesh(ax=axes[row, col], **kwargs['mean'])\n",
    "    elif ix == 11:\n",
    "        histo_hydro_10yr_means['gcm'].std(dim='gcm')[var].plot.pcolormesh(ax=axes[row, col], **kwargs['std'])\n",
    "    axes[row, col].set_title(gcm, fontsize=14)\n",
    "    \n",
    "#plt.tight_layout()\n",
    "fig.suptitle('1970-1999 mean annual precipitation [mm/yr]', fontsize=14, y=0.985)\n",
    "if figSave:\n",
    "    plt.savefig(f'NB-HI2_Fig4_annual_mean_{var}_10yr_hist.png', dpi=300)"
   ]
  },
  {
   "cell_type": "code",
   "execution_count": null,
   "metadata": {},
   "outputs": [],
   "source": [
    "var=\"EVAP\"\n",
    "\n",
    "cm = {'mean': cmap,\n",
    "      'std' : custom_div_cmap(mincol='xkcd:light grey', midcol='xkcd:light light blue', maxcol='xkcd:blue')}\n",
    "\n",
    "sfmt = mpl.ticker.ScalarFormatter(useMathText=True)\n",
    "sfmt.set_powerlimits((0, 0))\n",
    "\n",
    "cbar_kwrgs = {'mean':   {\"orientation\":\"horizontal\", \"shrink\":0.990, \"pad\":0.03, 'format':sfmt},\n",
    "              'std':    {\"orientation\":\"horizontal\", \"shrink\":0.990, \"pad\":0.03}}\n",
    "\n",
    "style_kwargs = {'mean': {'add_labels': False, 'xticks':[], 'yticks':[], 'cbar_kwargs': cbar_kwrgs['mean']},\n",
    "                'std':  {'add_labels': False, 'xticks':[], 'yticks':[], 'cbar_kwargs': cbar_kwrgs['std']}}\n",
    "\n",
    "kwargs = {'mean': {'levels': 11, 'vmin':0, 'vmax':1000, 'cmap':cm['mean'], 'extend':'max', **style_kwargs['mean']},\n",
    "          'std':  {'levels': 6, 'vmin':0, 'vmax':20, 'cmap':cm['std'],  'extend':'max', **style_kwargs['std']}}\n",
    "\n",
    "fig, axes = plt.subplots(nrows=3, ncols=4, sharex=True, sharey=True, figsize=(11.375, 10.5)) # used to be figsize=(14,11)\n",
    "plt.subplots_adjust(left=0.012, bottom=0.0125, right=0.99, top=0.935, hspace=0.125, wspace=0.075)\n",
    "\n",
    "for ix, gcm in enumerate(gcms+['UH','GCM ensemble std']):\n",
    "    row = ix // 4\n",
    "    col = ix % 4\n",
    "    if ix < 10:\n",
    "        histo_hydro_10yr_means['gcm'][var].sel(gcm=gcm).plot.pcolormesh(ax=axes[row, col], **kwargs['mean'])\n",
    "    elif ix == 10:\n",
    "        histo_hydro_10yr_means['obs'][var].plot.pcolormesh(ax=axes[row, col], **kwargs['mean'])\n",
    "    elif ix == 11:\n",
    "        histo_hydro_10yr_means['gcm'].std(dim='gcm')[var].plot.pcolormesh(ax=axes[row, col], **kwargs['std'])\n",
    "    axes[row, col].set_title(gcm, fontsize=14)\n",
    "    \n",
    "fig.suptitle('1990-1999 mean annual evapotranspiration [mm/yr]', fontsize=14, y=0.985)\n",
    "if figSave:\n",
    "    plt.savefig(f'NB-HI2_Fig5_annual_mean_{var}_10yr_hist.png', dpi=300)"
   ]
  },
  {
   "cell_type": "code",
   "execution_count": null,
   "metadata": {},
   "outputs": [],
   "source": [
    "var=\"total_runoff\"\n",
    "\n",
    "cm = {'mean': cmap,\n",
    "      'std' : custom_div_cmap(mincol='xkcd:light grey', midcol='xkcd:light light blue', maxcol='xkcd:blue')}\n",
    "\n",
    "sfmt = mpl.ticker.ScalarFormatter(useMathText=True)\n",
    "sfmt.set_powerlimits((0, 0))\n",
    "\n",
    "cbar_kwrgs = {'mean':   {\"orientation\":\"horizontal\", \"shrink\":0.990, \"pad\":0.03, 'format':sfmt},\n",
    "              'std':    {\"orientation\":\"horizontal\", \"shrink\":0.990, \"pad\":0.03}}\n",
    "\n",
    "style_kwargs = {'mean': {'add_labels': False, 'xticks':[], 'yticks':[], 'cbar_kwargs': cbar_kwrgs['mean']},\n",
    "                'std':  {'add_labels': False, 'xticks':[], 'yticks':[], 'cbar_kwargs': cbar_kwrgs['std']}}\n",
    "\n",
    "kwargs = {'mean': {'levels': 21, 'vmin':0, 'vmax':4000, 'cmap':cm['mean'], 'extend':'max', **style_kwargs['mean']},\n",
    "          'std':  {'levels': 7, 'vmin':0, 'vmax':300,  'cmap':cm['std'],  'extend':'max', **style_kwargs['std']}}\n",
    "\n",
    "fig, axes = plt.subplots(nrows=3, ncols=4, sharex=True, sharey=True, figsize=(11.375, 10.5)) # used to be figsize=(14,11)\n",
    "plt.subplots_adjust(left=0.012, bottom=0.0125, right=0.99, top=0.935, hspace=0.125, wspace=0.075)\n",
    "\n",
    "for ix, gcm in enumerate(gcms+['UH','GCM ensemble std']):\n",
    "    row = ix // 4\n",
    "    col = ix % 4\n",
    "    if ix < 10:\n",
    "        histo_hydro_10yr_means['gcm'][var].sel(gcm=gcm).plot.pcolormesh(ax=axes[row, col], **kwargs['mean'])\n",
    "    elif ix == 10:\n",
    "        histo_hydro_10yr_means['obs'][var].plot.pcolormesh(ax=axes[row, col], **kwargs['mean'])\n",
    "    elif ix == 11:\n",
    "        histo_hydro_10yr_means['gcm'].std(dim='gcm')[var].plot.pcolormesh(ax=axes[row, col], **kwargs['std'])\n",
    "    axes[row, col].set_title(gcm, fontsize=14)\n",
    "    \n",
    "fig.suptitle('1990-1999 mean annual total runoff [mm/yr]', fontsize=14, y=0.985)\n",
    "if figSave:\n",
    "    plt.savefig(f'NB-HI2_Fig6_annual_mean_{var}_10yr_hist.png', dpi=300)"
   ]
  },
  {
   "cell_type": "markdown",
   "metadata": {},
   "source": [
    "## Cofficient of variation for each variables"
   ]
  },
  {
   "cell_type": "code",
   "execution_count": null,
   "metadata": {},
   "outputs": [],
   "source": [
    "# uncertainty\n",
    "cm = {'cv': cmap}\n",
    "\n",
    "style_kwargs =  {'add_labels': False, 'xticks':[], 'yticks':[], 'cbar_kwargs': dict(orientation=\"horizontal\", pad=0.03)}\n",
    "kwargs = {'cv': {'levels':11, 'vmin':0, 'vmax':0.5, 'cmap':cm['cv'], 'extend':'max', **style_kwargs}}\n",
    "\n",
    "var_title = {'PRCP':'Precipitation', 'EVAP':'Evapotranspiration', 'total_runoff':'Runoff'}\n",
    "\n",
    "fig, axes = plt.subplots(nrows=1, ncols=3, sharex=True, sharey=True, figsize=(6.5, 2.75)) # used to be figsize=(14,11)\n",
    "plt.subplots_adjust(left=0.015, bottom=0.005, right=0.995, top=0.825, hspace=0.1, wspace=0.1)\n",
    "\n",
    "for ix, var in enumerate(hydro_flux_vars):\n",
    "    mean = histo_hydro_means['gcm'].mean(dim='gcm')[var]\n",
    "    std  = histo_hydro_means['gcm'].std(dim='gcm')[var]\n",
    "    cv   = std/abs(mean)\n",
    "    cv.plot.pcolormesh(ax=axes[ix], **kwargs['cv'])\n",
    "    axes[ix].set_title('%s'%var_title[var], fontsize=11)\n",
    "    \n",
    "fig.suptitle('GCM ensemble CV of fluxes during historical period', fontsize=12, y=0.985)\n",
    "if figSave:\n",
    "    plt.savefig(f'NB-HI2_Fig7_cv_hist.png', dpi=300)"
   ]
  },
  {
   "cell_type": "code",
   "execution_count": null,
   "metadata": {},
   "outputs": [],
   "source": []
  },
  {
   "cell_type": "markdown",
   "metadata": {},
   "source": [
    "## obs vs GCM ensemble - 10 year (1990-1999) annual mean"
   ]
  },
  {
   "cell_type": "code",
   "execution_count": null,
   "metadata": {},
   "outputs": [],
   "source": [
    "mpl.rcParams['xtick.labelsize']='x-small'\n",
    "cm = {'diff' : custom_div_cmap(numcolors=25, mincol='xkcd:red', midcol='xkcd:light grey', maxcol='xkcd:blue')}\n",
    "\n",
    "style_kwargs =  {'add_labels': False, 'xticks':[], 'yticks':[], 'cbar_kwargs': dict(orientation=\"horizontal\", pad=0.03)}\n",
    "kwargs = {'diff': {'vmin':-500, 'vmax':500, 'cmap':cm['diff'], 'extend':'both', **style_kwargs},\n",
    "          'pdiff': {'vmin':-30, 'vmax':30, 'cmap':cm['diff'], 'extend':'both', **style_kwargs}}\n",
    "\n",
    "fig, axes = plt.subplots(nrows=2, ncols=3, sharex=True, sharey=True, figsize=(6.5, 5)) # used to be figsize=(14,11)\n",
    "plt.subplots_adjust(left=0.0075, bottom=0.005, right=0.995, top=0.895, hspace=0.1, wspace=0.1)\n",
    "\n",
    "for ix, var in enumerate(hydro_flux_vars):\n",
    "\n",
    "    diff  = histo_hydro_10yr_means['gcm'].mean(dim='gcm')[var] - histo_hydro_10yr_means['obs'][var]\n",
    "    ave   = (histo_hydro_10yr_means['gcm'].mean(dim='gcm')[var] + histo_hydro_10yr_means['obs'][var])/2.0\n",
    "    pdiff = 100 * (histo_hydro_10yr_means['gcm'].mean(dim='gcm')[var] - histo_hydro_10yr_means['obs'][var])/ave\n",
    "    \n",
    "    diff.plot.pcolormesh(ax=axes[0, ix], **kwargs['diff'])\n",
    "    pdiff.plot.pcolormesh(ax=axes[1, ix], **kwargs['pdiff'])\n",
    "    axes[0,ix].set_title('%s [mm/yr]'%var, fontsize=11)\n",
    "    axes[1,ix].set_title('%s [%%]'%var, fontsize=11)\n",
    "    \n",
    "fig.suptitle('Difference between GCM and Obs - 1990-1999 annual mean', fontsize=12, y=0.985)\n",
    "if figSave:\n",
    "    plt.savefig(f'NB-HI2_Fig8_obs_vs_gcm_10yr_hist.png', dpi=300)"
   ]
  },
  {
   "cell_type": "code",
   "execution_count": null,
   "metadata": {},
   "outputs": [],
   "source": [
    "var=\"runoffRatio\"\n",
    "\n",
    "notnull = pd.notnull(ds_hist_yr[var])\n",
    "\n",
    "fig, axes = plt.subplots(nrows=1, ncols=3, figsize=(14,3))\n",
    "\n",
    "ds_hist_yr[var].where(notnull).plot.pcolormesh(\n",
    "    ax=axes[0], vmin=0, vmax=1, cmap='Spectral_r',\n",
    "    add_colorbar=True, extend='both')\n",
    "\n",
    "ds_rcp85_yr[var].where(notnull).plot.pcolormesh(\n",
    "    ax=axes[1], vmin=0, vmax=1, cmap='Spectral_r',\n",
    "    add_colorbar=True, extend='both')\n",
    "\n",
    "ds_diff_yr[var].where(notnull).plot.pcolormesh(\n",
    "    ax=axes[2], vmin=-0.1, vmax=.1, cmap='RdBu',\n",
    "    add_colorbar=True, extend='both')\n",
    "\n",
    "axes[0].set_ylabel('')\n",
    "axes[1].set_ylabel('')\n",
    "axes[2].set_ylabel('')\n",
    "    \n",
    "for ax in axes.flat:\n",
    "    ax.axes.get_xaxis().set_ticklabels([])\n",
    "    ax.axes.get_yaxis().set_ticklabels([])\n",
    "    ax.axes.axis('tight')\n",
    "    ax.set_xlabel('')\n",
    "    \n",
    "axes[0].set_title('hist')\n",
    "axes[1].set_title('rcp85')\n",
    "axes[2].set_title('rcp85-hist')\n",
    "\n",
    "plt.tight_layout()\n",
    "fig.suptitle('Annual runoff ratio [-]', fontsize=16, y=1.02)\n",
    "plt.savefig(\"icar_access13_yr_roratio.png\", dpi=200)"
   ]
  },
  {
   "cell_type": "markdown",
   "metadata": {},
   "source": [
    "### Below is for checking random things"
   ]
  },
  {
   "cell_type": "code",
   "execution_count": null,
   "metadata": {},
   "outputs": [],
   "source": [
    "ds_rcp85_mon = ds_rcp85.groupby('time.month').mean(dim=\"time\")"
   ]
  },
  {
   "cell_type": "markdown",
   "metadata": {},
   "source": [
    "Long-term seasonal mean"
   ]
  },
  {
   "cell_type": "code",
   "execution_count": null,
   "metadata": {},
   "outputs": [],
   "source": [
    "ds_rcp85_season = ds_rcp85.groupby('time.season').mean(dim=\"time\")"
   ]
  }
 ],
 "metadata": {
  "kernelspec": {
   "display_name": "Python [conda env:cmip5_oconus]",
   "language": "python",
   "name": "conda-env-cmip5_oconus-py"
  },
  "language_info": {
   "codemirror_mode": {
    "name": "ipython",
    "version": 3
   },
   "file_extension": ".py",
   "mimetype": "text/x-python",
   "name": "python",
   "nbconvert_exporter": "python",
   "pygments_lexer": "ipython3",
   "version": "3.7.0"
  }
 },
 "nbformat": 4,
 "nbformat_minor": 4
}
