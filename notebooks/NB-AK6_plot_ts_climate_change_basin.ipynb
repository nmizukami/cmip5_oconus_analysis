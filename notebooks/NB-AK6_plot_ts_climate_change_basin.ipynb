{
 "cells": [
  {
   "cell_type": "markdown",
   "metadata": {},
   "source": [
    "# NB-AK5: Changes in monthly seasonality in total fluxes and states per basin"
   ]
  },
  {
   "cell_type": "markdown",
   "metadata": {},
   "source": [
    "## module loading..."
   ]
  },
  {
   "cell_type": "code",
   "execution_count": null,
   "metadata": {},
   "outputs": [],
   "source": [
    "%matplotlib inline  \n",
    "import os\n",
    "import sys\n",
    "import xarray as xr\n",
    "import pandas as pd\n",
    "import numpy as np\n",
    "import matplotlib.pyplot as plt\n",
    "import matplotlib as mpl\n",
    "from timeit import default_timer as timer\n",
    "\n",
    "print(\"\\nThe Python version: %s.%s.%s\" % sys.version_info[:3])\n",
    "print(xr.__name__, xr.__version__)\n",
    "\n",
    "mpl.rcParams['xtick.labelsize']='small'\n",
    "mpl.rcParams['ytick.labelsize']='small'"
   ]
  },
  {
   "cell_type": "code",
   "execution_count": null,
   "metadata": {},
   "outputs": [],
   "source": [
    "from cmip5_oconus import print_date\n",
    "print_date()\n",
    "\n",
    "from cmip5_oconus.data_catalog import load_monthly_historical_hydro_datasets, resample_data\n",
    "from cmip5_oconus.data_catalog import load_monthly_cmip5_hydro_datasets\n",
    "from cmip5_oconus.plot import custom_div_cmap, MidpointNormalize, add_ylabel\n",
    "from cmip5_oconus.utils import calc_change"
   ]
  },
  {
   "cell_type": "code",
   "execution_count": null,
   "metadata": {},
   "outputs": [],
   "source": [
    "#from dask_jobqueue import PBSCluster\n",
    "#cluster = PBSCluster(processes=9, threads=4, memory=\"108GB\",\n",
    "#                  walltime='00:40:00')\n",
    "#cluster.scale(jobs=3)\n",
    "\n",
    "#from dask_jobqueue import SLURMCluster\n",
    "#cluster = SLURMCluster()\n",
    "#cluster.scale(jobs=5)"
   ]
  },
  {
   "cell_type": "code",
   "execution_count": null,
   "metadata": {
    "scrolled": true
   },
   "outputs": [],
   "source": [
    "#from dask.distributed import Client\n",
    "#client = Client(cluster)"
   ]
  },
  {
   "cell_type": "code",
   "execution_count": null,
   "metadata": {},
   "outputs": [],
   "source": [
    "#client"
   ]
  },
  {
   "cell_type": "markdown",
   "metadata": {},
   "source": [
    "-------------------------\n",
    "## Setup "
   ]
  },
  {
   "cell_type": "code",
   "execution_count": null,
   "metadata": {},
   "outputs": [],
   "source": [
    "figSave = True"
   ]
  },
  {
   "cell_type": "code",
   "execution_count": null,
   "metadata": {},
   "outputs": [],
   "source": [
    "gcms            = [\"ACCESS1-3\",\"CanESM2\",\"CCSM4\",\"CSIRO-Mk3-6-0\",\"GFDL-ESM2M\",\"HadGEM2-ES\",\"inmcm4\",\"MIROC5\",\"MPI-ESM-MR\",\"MRI-CGCM3\"]\n",
    "hydro_flux_vars = ['PRCP', 'EVAP', 'total_runoff','GLACIER_MELT','SNOW_MELT','SM1','SM2','SM3','IWE','SWE']\n",
    "period_hist     = slice('1970-01-01', '1999-12-31')\n",
    "period_futr     = {'early' : slice('2010-01-01', '2039-12-31'),\n",
    "                   'middle': slice('2040-01-01', '2069-12-31'),\n",
    "                   'late'  : slice('2070-01-01', '2099-12-31')}\n",
    "\n",
    "basin_name = {776:'Copper', 784:'Tanana', 786:'Porcupine',7892:'White', 7897:'Teslin', 798:'Colville'}"
   ]
  },
  {
   "cell_type": "markdown",
   "metadata": {},
   "source": [
    "## Load the data"
   ]
  },
  {
   "cell_type": "code",
   "execution_count": null,
   "metadata": {},
   "outputs": [],
   "source": [
    "xr.set_options(file_cache_maxsize=12000)\n",
    "histo_data = load_monthly_historical_hydro_datasets(models=gcms, variables=hydro_flux_vars, region='AK', dataType='hrus', parallel=False)\n",
    "rcp45_data = load_monthly_cmip5_hydro_datasets(scen='rcp45', models=gcms, variables=hydro_flux_vars, region='AK', dataType='hrus', parallel=False)\n",
    "rcp85_data = load_monthly_cmip5_hydro_datasets(scen='rcp85', models=gcms, variables=hydro_flux_vars, region='AK',dataType='hrus',  parallel=False)"
   ]
  },
  {
   "cell_type": "markdown",
   "metadata": {},
   "source": [
    "## Compute monthly climatology during 30 year period - historical, early, mid and late"
   ]
  },
  {
   "cell_type": "code",
   "execution_count": null,
   "metadata": {},
   "outputs": [],
   "source": [
    "histo_data['gcm']['SM'] = histo_data['gcm']['SM1'] + histo_data['gcm']['SM2'] + histo_data['gcm']['SM2']\n",
    "histo_data['gcm']['dSM'] = histo_data['gcm']['SM'].diff(dim='time')\n",
    "histo_data['gcm']['dSWE'] = histo_data['gcm']['SWE'].diff(dim='time')\n",
    "histo_data['gcm']['dIWE'] = histo_data['gcm']['IWE'].diff(dim='time')\n",
    "histo_data['gcm'] = histo_data['gcm'].drop(['SM1','SM2','SM3'])\n",
    "\n",
    "rcp45_data['SM']  = rcp45_data['SM1'] + rcp45_data['SM2'] + rcp45_data['SM3']\n",
    "rcp45_data['dSM'] = rcp45_data['SM'].diff(dim='time')\n",
    "rcp45_data['dSWE'] = rcp45_data['SWE'].diff(dim='time')\n",
    "rcp45_data['dIWE'] = rcp45_data['IWE'].diff(dim='time')\n",
    "rcp45_data = rcp45_data.drop(['SM1','SM2','SM3'])\n",
    "\n",
    "rcp85_data['SM']  = rcp85_data['SM1'] + rcp85_data['SM2'] + rcp85_data['SM3']\n",
    "rcp85_data['dSM'] = rcp85_data['SM'].diff(dim='time')\n",
    "rcp85_data['dSWE'] = rcp85_data['SWE'].diff(dim='time')\n",
    "rcp85_data['dIWE'] = rcp85_data['IWE'].diff(dim='time')\n",
    "rcp85_data = rcp85_data.drop(['SM1','SM2','SM3'])"
   ]
  },
  {
   "cell_type": "code",
   "execution_count": null,
   "metadata": {},
   "outputs": [],
   "source": [
    "histo_hydro_season = histo_data['gcm'].sel(time=period_hist).groupby('time.month').mean(dim=\"time\").persist()\n",
    "\n",
    "rcp45_hydro_season = {}\n",
    "rcp85_hydro_season = {}\n",
    "for key, futr_period in period_futr.items():\n",
    "    rcp45_hydro_season[key] = rcp45_data.sel(time=futr_period).groupby('time.month').mean('time').persist()\n",
    "    rcp85_hydro_season[key] = rcp85_data.sel(time=futr_period).groupby('time.month').mean('time').persist()"
   ]
  },
  {
   "cell_type": "code",
   "execution_count": null,
   "metadata": {},
   "outputs": [],
   "source": [
    "rcp45_hydro_season"
   ]
  },
  {
   "cell_type": "markdown",
   "metadata": {},
   "source": [
    "## Plotting"
   ]
  },
  {
   "cell_type": "markdown",
   "metadata": {},
   "source": [
    "------------\n",
    " Long-term mean of annual flux annual cycles for historical vs futures\n",
    " \n",
    " PRCP, EVAP and RUNOFF"
   ]
  },
  {
   "cell_type": "code",
   "execution_count": null,
   "metadata": {},
   "outputs": [],
   "source": [
    "style_kwargs = {'ls': '-'}\n",
    "kwargs       = {'hist': {'mean':{'lw':2.0, 'color':'xkcd:dark grey', **style_kwargs}, 'ens':{'lw':0.7, 'color':'xkcd:grey', 'alpha':0.5, **style_kwargs}},\n",
    "                'rcp':  {'mean':{'lw':2.0, 'color':'xkcd:red', **style_kwargs}, 'ens':{'lw':0.7, 'color':'xkcd:red', 'alpha':0.5, **style_kwargs}}\n",
    "               }\n",
    "xlabel = []\n",
    "var_title = {'PRCP':'Precipitation', 'EVAP':'Evapotranspiration', 'total_runoff':'Runoff'}\n",
    "\n",
    "fig, axes = plt.subplots(nrows=3, ncols=3, sharex=True, sharey=False, figsize=(6.5,4.5))\n",
    "for row, basin in enumerate([798,7897,776]):\n",
    "    for col, var in enumerate(['PRCP','EVAP','total_runoff']):\n",
    "        \n",
    "        ax=axes[row, col]\n",
    "        histo_hydro_season.mean(dim='gcm')[var].sel(basinID=basin).plot.line(ax=ax, x='month', **kwargs['hist']['mean'])\n",
    "        histo_hydro_season[var].sel(basinID=basin).plot.line(ax=ax, x='month', **kwargs['hist']['ens'])\n",
    "\n",
    "        rcp85_hydro_season['late'].mean(dim='gcm')[var].sel(basinID=basin).plot.line(ax=ax, x='month', **kwargs['rcp']['mean'])\n",
    "        rcp85_hydro_season['late'][var].sel(basinID=basin).plot.line(ax=ax, x='month', **kwargs['rcp']['ens'])\n",
    "    \n",
    "        ax.set_xticks(np.arange(2, 13, step=2))\n",
    "        \n",
    "        if col==0:\n",
    "            ax.set_ylabel(f'{basin_name[basin]}\\n[mm/mon]', fontsize=11)\n",
    "        else:\n",
    "            ax.set_ylabel('')\n",
    "\n",
    "        if row==0:\n",
    "            ax.set_ylim([0, 120])\n",
    "            ax.set_xlabel('')\n",
    "            ax.set_title(var_title[var], fontsize=11)\n",
    "        elif row==1:\n",
    "            ax.set_ylim([0, 150])\n",
    "            ax.set_xlabel('')\n",
    "            ax.set_title('')           \n",
    "        elif row==2 and col!=2:\n",
    "            ax.set_ylim([0, 200])\n",
    "            ax.set_xlabel('Month',fontsize=11)\n",
    "            ax.set_title('')\n",
    "        elif row==2 and col==2:\n",
    "            ax.set_ylim([0, 550]) \n",
    "            ax.set_xlabel('Month',fontsize=11)\n",
    "            ax.set_title('')\n",
    "            \n",
    "        ax.get_legend().remove()\n",
    "    \n",
    "plt.tight_layout()\n",
    "plt.savefig(f'NB-AK6_Fig1_annual_cycle_three_basins.png', dpi=300)"
   ]
  },
  {
   "cell_type": "markdown",
   "metadata": {},
   "source": [
    "------------\n",
    " The same as above except for PRCP, EVAP, RUNOFF, ice+snow melt"
   ]
  },
  {
   "cell_type": "code",
   "execution_count": null,
   "metadata": {},
   "outputs": [],
   "source": [
    "style_kwargs = {'ls': '-'}\n",
    "kwargs       = {'hist': {'mean':{'lw':1.5, 'color':'xkcd:dark grey', **style_kwargs}, 'ens':{'lw':0.5, 'color':'xkcd:grey', 'alpha':0.5, **style_kwargs}},\n",
    "                'rcp':  {'mean':{'lw':1.5, 'color':'xkcd:red', **style_kwargs}, 'ens':{'lw':0.5, 'color':'xkcd:red', 'alpha':0.5, **style_kwargs}}\n",
    "               }\n",
    "xlabel = []\n",
    "var_title = {'PRCP':'P', 'EVAP':'ET', 'total_runoff':'RO','dSM':'dSM','dSWE':'dSWE', 'dIWE':'dIWE'}\n",
    "\n",
    "fig, axes = plt.subplots(nrows=3, ncols=6, sharex=True, sharey=False, figsize=(9.75, 4.5)) # used to be 6.5, 4.5\n",
    "plt.subplots_adjust(left=0.080, bottom=0.100, right=0.985, top=0.925, hspace=0.170, wspace=0.45)\n",
    "\n",
    "for row, basin in enumerate([798,7897,776]):\n",
    "    for col, var in enumerate(['PRCP','EVAP','total_runoff','dSM','dSWE','dIWE']):\n",
    "        \n",
    "        ax=axes[row, col]\n",
    "        histo_hydro_season.mean(dim='gcm')[var].sel(basinID=basin).plot.line(ax=ax, x='month', **kwargs['hist']['mean'])\n",
    "        histo_hydro_season[var].sel(basinID=basin).plot.line(ax=ax, x='month', **kwargs['hist']['ens'])\n",
    "\n",
    "        rcp85_hydro_season['late'].mean(dim='gcm')[var].sel(basinID=basin).plot.line(ax=ax, x='month', **kwargs['rcp']['mean'])\n",
    "        rcp85_hydro_season['late'][var].sel(basinID=basin).plot.line(ax=ax, x='month', **kwargs['rcp']['ens'])\n",
    "    \n",
    "        ax.set_xticks(np.arange(2, 13, step=2))\n",
    "        \n",
    "        if row==0:\n",
    "            ax.set_xlabel('')\n",
    "            ax.set_title(var_title[var], fontsize=11)\n",
    "            if col==0:\n",
    "                ax.set_ylim([0, 120])\n",
    "                ax.set_ylabel(f'{basin_name[basin]}\\n[mm/mon]', fontsize=10)\n",
    "            elif col==1 or col==2:\n",
    "                ax.set_ylabel('')\n",
    "                ax.set_ylim([0, 120])\n",
    "            elif col==3 or col==4 or col==5:\n",
    "                ax.set_ylabel('')\n",
    "                ax.set_ylim([-100, 100])\n",
    "                \n",
    "        elif row==1:\n",
    "            ax.set_title('')\n",
    "            ax.set_xlabel('')\n",
    "            if col==0:\n",
    "                ax.set_ylim([0, 150])\n",
    "                ax.set_ylabel(f'{basin_name[basin]}\\n[mm/mon]', fontsize=10)\n",
    "            elif col==1 or col==2:\n",
    "                ax.set_ylabel('')\n",
    "                ax.set_ylim([0, 150])\n",
    "            elif col==3 or col==4 or col==5:\n",
    "                ax.set_ylabel('')\n",
    "                ax.set_ylim([-150, 150])\n",
    "                \n",
    "        elif row==2:\n",
    "            ax.set_xlabel('Month',fontsize=10)\n",
    "            ax.set_title('')  \n",
    "            if col==0:\n",
    "                ax.set_ylim([0, 550])\n",
    "                ax.set_ylabel(f'{basin_name[basin]}\\n[mm/mon]', fontsize=10)\n",
    "            if col==1 or col==2:\n",
    "                ax.set_ylabel('')\n",
    "                ax.set_ylim([0, 550])\n",
    "            elif col==3 or col==4 or col==5:\n",
    "                ax.set_ylabel('')\n",
    "                ax.set_ylim([-350, 350])\n",
    "                      \n",
    "        ax.get_legend().remove()\n",
    "    \n",
    "#plt.tight_layout()\n",
    "plt.savefig(f'NB-AK6_Fig2_annual_cycle_flux_state_three_basins.png', dpi=300)"
   ]
  },
  {
   "cell_type": "markdown",
   "metadata": {},
   "source": [
    "------------\n",
    " - North Slope"
   ]
  },
  {
   "cell_type": "code",
   "execution_count": null,
   "metadata": {},
   "outputs": [],
   "source": [
    "basinID=798\n",
    "\n",
    "style_kwargs = {'ls': '-'}\n",
    "kwargs       = {'hist': {'mean':{'lw':2.0, 'color':'xkcd:dark grey', **style_kwargs}, 'ens':{'lw':0.7, 'color':'xkcd:grey', 'alpha':0.5, **style_kwargs}},\n",
    "                'rcp':  {'mean':{'lw':2.0, 'color':'xkcd:red', **style_kwargs}, 'ens':{'lw':0.7, 'color':'xkcd:red', 'alpha':0.5, **style_kwargs}}\n",
    "               }\n",
    "xlabel = []\n",
    "var_title = {'PRCP':'Precipitation', 'EVAP':'Evapotranspiration', 'total_runoff':'Runoff'}\n",
    "\n",
    "fig, axes = plt.subplots(nrows=2, ncols=3, sharex=True, sharey=True, figsize=(6.5,3.5))\n",
    "plt.subplots_adjust(left=0.1, bottom=0.125, right=0.99, top=0.85)\n",
    "\n",
    "for row, rcp in enumerate(['rcp45','rcp85']):\n",
    "    for col, var in enumerate(['PRCP','EVAP','total_runoff']):\n",
    "        \n",
    "        ax=axes[row, col]\n",
    "        histo_hydro_season.mean(dim='gcm')[var].sel(basinID=basinID).plot.line(ax=ax, x='month', **kwargs['hist']['mean'])\n",
    "        histo_hydro_season[var].sel(basinID=basinID).plot.line(ax=ax, x='month', **kwargs['hist']['ens'])\n",
    "        if rcp == 'rcp45':\n",
    "            rcp45_hydro_season['late'].mean(dim='gcm')[var].sel(basinID=basinID).plot.line(ax=ax, x='month', **kwargs['rcp']['mean'])\n",
    "            rcp45_hydro_season['late'][var].sel(basinID=basinID).plot.line(ax=ax, x='month', **kwargs['rcp']['ens'])\n",
    "        elif rcp=='rcp85':\n",
    "            rcp85_hydro_season['late'].mean(dim='gcm')[var].sel(basinID=basinID).plot.line(ax=ax, x='month', **kwargs['rcp']['mean'])\n",
    "            rcp85_hydro_season['late'][var].sel(basinID=basinID).plot.line(ax=ax, x='month', **kwargs['rcp']['ens'])\n",
    "    \n",
    "        ax.set_xticks(np.arange(2, 13, step=2))\n",
    "        \n",
    "        if col==0:\n",
    "            if row==0:\n",
    "                ax.set_ylabel(rcp, fontsize=11)\n",
    "            elif row==1:\n",
    "                ax.set_ylabel(rcp, fontsize=11)\n",
    "        else:\n",
    "            ax.set_ylabel('')\n",
    "        \n",
    "        if row==0:        \n",
    "            ax.set_xlabel('')\n",
    "            ax.set_title(var_title[var], fontsize=12)\n",
    "        elif row==1:\n",
    "            ax.set_xlabel('Month',fontsize=11)\n",
    "            ax.set_title('')\n",
    "    \n",
    "        ax.get_legend().remove()\n",
    "    \n",
    "fig.suptitle(basin_name[basinID], fontsize=12, y=0.985)\n",
    "plt.savefig(f'NB-AK6_Fig3_annual_cycle_{basin_name[basinID]}.png', dpi=300)"
   ]
  },
  {
   "cell_type": "markdown",
   "metadata": {},
   "source": [
    "------------\n",
    " - Yukon River"
   ]
  },
  {
   "cell_type": "code",
   "execution_count": null,
   "metadata": {},
   "outputs": [],
   "source": [
    "basinID=7897\n",
    "\n",
    "style_kwargs = {'ls': '-'}\n",
    "kwargs       = {'hist': {'mean':{'lw':2.0, 'color':'xkcd:dark grey', **style_kwargs}, 'ens':{'lw':0.7, 'color':'xkcd:grey', 'alpha':0.5, **style_kwargs}},\n",
    "                'rcp':  {'mean':{'lw':2.0, 'color':'xkcd:red', **style_kwargs}, 'ens':{'lw':0.7, 'color':'xkcd:red', 'alpha':0.5, **style_kwargs}}\n",
    "               }\n",
    "xlabel = []\n",
    "var_title = {'PRCP':'Precipitation', 'EVAP':'Evapotranspiration', 'total_runoff':'Runoff'}\n",
    "\n",
    "fig, axes = plt.subplots(nrows=2, ncols=3, sharex=True, sharey=True, figsize=(6.5,3.5))\n",
    "plt.subplots_adjust(left=0.1, bottom=0.125, right=0.99, top=0.85)\n",
    "\n",
    "for row, rcp in enumerate(['rcp45','rcp85']):\n",
    "    for col, var in enumerate(['PRCP','EVAP','total_runoff']):\n",
    "        \n",
    "        ax=axes[row, col]\n",
    "        histo_hydro_season.mean(dim='gcm')[var].sel(basinID=basinID).plot.line(ax=ax, x='month', **kwargs['hist']['mean'])\n",
    "        histo_hydro_season[var].sel(basinID=basinID).plot.line(ax=ax, x='month', **kwargs['hist']['ens'])\n",
    "        if rcp == 'rcp45':\n",
    "            rcp45_hydro_season['late'].mean(dim='gcm')[var].sel(basinID=basinID).plot.line(ax=ax, x='month', **kwargs['rcp']['mean'])\n",
    "            rcp45_hydro_season['late'][var].sel(basinID=basinID).plot.line(ax=ax, x='month', **kwargs['rcp']['ens'])\n",
    "        elif rcp=='rcp85':\n",
    "            rcp85_hydro_season['late'].mean(dim='gcm')[var].sel(basinID=basinID).plot.line(ax=ax, x='month', **kwargs['rcp']['mean'])\n",
    "            rcp85_hydro_season['late'][var].sel(basinID=basinID).plot.line(ax=ax, x='month', **kwargs['rcp']['ens'])\n",
    "    \n",
    "        ax.set_xticks(np.arange(2, 13, step=2))\n",
    "        \n",
    "        if col==0:\n",
    "            if row==0:\n",
    "                ax.set_ylabel(rcp, fontsize=11)\n",
    "            elif row==1:\n",
    "                ax.set_ylabel(rcp, fontsize=11)\n",
    "        else:\n",
    "            ax.set_ylabel('')\n",
    "        \n",
    "        if row==0:        \n",
    "            ax.set_xlabel('')\n",
    "            ax.set_title(var_title[var], fontsize=12)\n",
    "        elif row==1:\n",
    "            ax.set_xlabel('Month',fontsize=11)\n",
    "            ax.set_title('')\n",
    "    \n",
    "        ax.get_legend().remove()\n",
    "    \n",
    "fig.suptitle(basin_name[basinID], fontsize=12, y=0.985)\n",
    "plt.savefig(f'NB-AK6_Fig4_annual_cycle_{basin_name[basinID]}.png', dpi=300)"
   ]
  },
  {
   "cell_type": "markdown",
   "metadata": {},
   "source": [
    "------------\n",
    " - Southeast Alaska"
   ]
  },
  {
   "cell_type": "code",
   "execution_count": null,
   "metadata": {},
   "outputs": [],
   "source": [
    "basinID=776 \n",
    "\n",
    "style_kwargs = {'ls': '-'}\n",
    "kwargs       = {'hist': {'mean':{'lw':2.0, 'color':'xkcd:dark grey', **style_kwargs}, 'ens':{'lw':0.7, 'color':'xkcd:grey', 'alpha':0.5, **style_kwargs}},\n",
    "                'rcp':  {'mean':{'lw':2.0, 'color':'xkcd:red', **style_kwargs}, 'ens':{'lw':0.7, 'color':'xkcd:red', 'alpha':0.5, **style_kwargs}}\n",
    "               }\n",
    "xlabel = []\n",
    "var_title = {'PRCP':'Precipitation', 'EVAP':'Evapotranspiration', 'total_runoff':'Runoff'}\n",
    "\n",
    "fig, axes = plt.subplots(nrows=2, ncols=3, sharex=True, sharey=True, figsize=(6.5,3.5))\n",
    "plt.subplots_adjust(left=0.1, bottom=0.125, right=0.99, top=0.85)\n",
    "\n",
    "for row, rcp in enumerate(['rcp45','rcp85']):\n",
    "    for col, var in enumerate(['PRCP','EVAP','total_runoff']):\n",
    "        \n",
    "        ax=axes[row, col]\n",
    "        histo_hydro_season.mean(dim='gcm')[var].sel(basinID=basinID).plot.line(ax=ax, x='month', **kwargs['hist']['mean'])\n",
    "        histo_hydro_season[var].sel(basinID=basinID).plot.line(ax=ax, x='month', **kwargs['hist']['ens'])\n",
    "        if rcp == 'rcp45':\n",
    "            rcp45_hydro_season['late'].mean(dim='gcm')[var].sel(basinID=basinID).plot.line(ax=ax, x='month', **kwargs['rcp']['mean'])\n",
    "            rcp45_hydro_season['late'][var].sel(basinID=basinID).plot.line(ax=ax, x='month', **kwargs['rcp']['ens'])\n",
    "        elif rcp=='rcp85':\n",
    "            rcp85_hydro_season['late'].mean(dim='gcm')[var].sel(basinID=basinID).plot.line(ax=ax, x='month', **kwargs['rcp']['mean'])\n",
    "            rcp85_hydro_season['late'][var].sel(basinID=basinID).plot.line(ax=ax, x='month', **kwargs['rcp']['ens'])\n",
    "    \n",
    "        ax.set_xticks(np.arange(2, 13, step=2))\n",
    "        \n",
    "        if col==0:\n",
    "            if row==0:\n",
    "                ax.set_ylabel(rcp, fontsize=11)\n",
    "            elif row==1:\n",
    "                ax.set_ylabel(rcp, fontsize=11)\n",
    "        else:\n",
    "            ax.set_ylabel('')\n",
    "        \n",
    "        if row==0:        \n",
    "            ax.set_xlabel('')\n",
    "            ax.set_title(var_title[var], fontsize=12)\n",
    "        elif row==1:\n",
    "            ax.set_xlabel('Month',fontsize=11)\n",
    "            ax.set_title('')\n",
    "    \n",
    "        ax.get_legend().remove()\n",
    "    \n",
    "fig.suptitle(basin_name[basinID], fontsize=12, y=0.985)\n",
    "plt.savefig(f'NB-AK6_Fig5_annual_cycle_{basin_name[basinID]}.png', dpi=300)"
   ]
  },
  {
   "cell_type": "code",
   "execution_count": null,
   "metadata": {},
   "outputs": [],
   "source": [
    "basinID=7892 \n",
    "\n",
    "style_kwargs = {'ls': '-'}\n",
    "kwargs       = {'hist': {'mean':{'lw':2.0, 'color':'xkcd:dark grey', **style_kwargs}, 'ens':{'lw':0.7, 'color':'xkcd:grey', 'alpha':0.5, **style_kwargs}},\n",
    "                'rcp':  {'mean':{'lw':2.0, 'color':'xkcd:red', **style_kwargs}, 'ens':{'lw':0.7, 'color':'xkcd:red', 'alpha':0.5, **style_kwargs}}\n",
    "               }\n",
    "xlabel = []\n",
    "var_title = {'PRCP':'Precipitation', 'EVAP':'Evapotranspiration', 'total_runoff':'Runoff'}\n",
    "\n",
    "fig, axes = plt.subplots(nrows=2, ncols=3, sharex=True, sharey=True, figsize=(6.5,3.5))\n",
    "plt.subplots_adjust(left=0.1, bottom=0.125, right=0.99, top=0.85)\n",
    "\n",
    "for row, rcp in enumerate(['rcp45','rcp85']):\n",
    "    for col, var in enumerate(['PRCP','EVAP','total_runoff']):\n",
    "        \n",
    "        ax=axes[row, col]\n",
    "        histo_hydro_season.mean(dim='gcm')[var].sel(basinID=basinID).plot.line(ax=ax, x='month', **kwargs['hist']['mean'])\n",
    "        histo_hydro_season[var].sel(basinID=basinID).plot.line(ax=ax, x='month', **kwargs['hist']['ens'])\n",
    "        if rcp == 'rcp45':\n",
    "            rcp45_hydro_season['late'].mean(dim='gcm')[var].sel(basinID=basinID).plot.line(ax=ax, x='month', **kwargs['rcp']['mean'])\n",
    "            rcp45_hydro_season['late'][var].sel(basinID=basinID).plot.line(ax=ax, x='month', **kwargs['rcp']['ens'])\n",
    "        elif rcp=='rcp85':\n",
    "            rcp85_hydro_season['late'].mean(dim='gcm')[var].sel(basinID=basinID).plot.line(ax=ax, x='month', **kwargs['rcp']['mean'])\n",
    "            rcp85_hydro_season['late'][var].sel(basinID=basinID).plot.line(ax=ax, x='month', **kwargs['rcp']['ens'])\n",
    "    \n",
    "        ax.set_xticks(np.arange(2, 13, step=2))\n",
    "        \n",
    "        if col==0:\n",
    "            if row==0:\n",
    "                ax.set_ylabel(rcp, fontsize=11)\n",
    "            elif row==1:\n",
    "                ax.set_ylabel(rcp, fontsize=11)\n",
    "        else:\n",
    "            ax.set_ylabel('')\n",
    "        \n",
    "        if row==0:        \n",
    "            ax.set_xlabel('')\n",
    "            ax.set_title(var_title[var], fontsize=12)\n",
    "        elif row==1:\n",
    "            ax.set_xlabel('Month',fontsize=11)\n",
    "            ax.set_title('')\n",
    "    \n",
    "        ax.get_legend().remove()\n",
    "    \n",
    "fig.suptitle(basin_name[basinID], fontsize=12, y=0.985)\n",
    "plt.savefig(f'NB-AK6_Fig6_annual_cycle_{basin_name[basinID]}.png', dpi=300)"
   ]
  },
  {
   "cell_type": "code",
   "execution_count": null,
   "metadata": {},
   "outputs": [],
   "source": []
  },
  {
   "cell_type": "code",
   "execution_count": null,
   "metadata": {},
   "outputs": [],
   "source": []
  }
 ],
 "metadata": {
  "kernelspec": {
   "display_name": "Python [conda env:cmip5_oconus]",
   "language": "python",
   "name": "conda-env-cmip5_oconus-py"
  },
  "language_info": {
   "codemirror_mode": {
    "name": "ipython",
    "version": 3
   },
   "file_extension": ".py",
   "mimetype": "text/x-python",
   "name": "python",
   "nbconvert_exporter": "python",
   "pygments_lexer": "ipython3",
   "version": "3.7.0"
  }
 },
 "nbformat": 4,
 "nbformat_minor": 4
}
