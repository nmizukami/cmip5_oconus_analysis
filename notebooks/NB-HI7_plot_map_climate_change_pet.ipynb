{
 "cells": [
  {
   "cell_type": "markdown",
   "metadata": {},
   "source": [
    "# NB-HI7: Long-term dryness index changes for early, mid and late 21st century periods from historical period"
   ]
  },
  {
   "cell_type": "markdown",
   "metadata": {},
   "source": [
    "## module loading..."
   ]
  },
  {
   "cell_type": "code",
   "execution_count": null,
   "metadata": {},
   "outputs": [],
   "source": [
    "%matplotlib inline  \n",
    "import os\n",
    "import sys\n",
    "import xarray as xr\n",
    "import numpy as np\n",
    "import matplotlib.pyplot as plt\n",
    "import matplotlib as mpl\n",
    "from timeit import default_timer as timer\n",
    "\n",
    "print(\"\\nThe Python version: %s.%s.%s\" % sys.version_info[:3])\n",
    "print(xr.__name__, xr.__version__)\n",
    "\n",
    "mpl.rcParams['xtick.labelsize']='small'\n",
    "\n",
    "np.seterr(divide='ignore', invalid='ignore')"
   ]
  },
  {
   "cell_type": "code",
   "execution_count": null,
   "metadata": {},
   "outputs": [],
   "source": [
    "from cmip5_oconus import print_date\n",
    "print_date()\n",
    "\n",
    "from cmip5_oconus.data_catalog import load_monthly_historical_hydro_datasets, resample_data\n",
    "from cmip5_oconus.data_catalog import load_monthly_cmip5_hydro_datasets\n",
    "from cmip5_oconus.plot import custom_div_cmap, MidpointNormalize, add_ylabel\n",
    "from cmip5_oconus.utils import calc_change"
   ]
  },
  {
   "cell_type": "markdown",
   "metadata": {},
   "source": [
    "### dask jobque setup"
   ]
  },
  {
   "cell_type": "code",
   "execution_count": null,
   "metadata": {},
   "outputs": [],
   "source": [
    "from dask_jobqueue import PBSCluster\n",
    "cluster = PBSCluster(processes=1, memory=\"100GB\", queue='casper',\n",
    "                  walltime='00:30:00')\n",
    "cluster.scale(jobs=15)"
   ]
  },
  {
   "cell_type": "code",
   "execution_count": null,
   "metadata": {
    "scrolled": true
   },
   "outputs": [],
   "source": [
    "from dask.distributed import Client\n",
    "client = Client(cluster)"
   ]
  },
  {
   "cell_type": "code",
   "execution_count": null,
   "metadata": {},
   "outputs": [],
   "source": [
    "client"
   ]
  },
  {
   "cell_type": "markdown",
   "metadata": {},
   "source": [
    "-------------------------\n",
    "## Setup "
   ]
  },
  {
   "cell_type": "code",
   "execution_count": null,
   "metadata": {},
   "outputs": [],
   "source": [
    "figSave = True"
   ]
  },
  {
   "cell_type": "code",
   "execution_count": null,
   "metadata": {},
   "outputs": [],
   "source": [
    "gcms        = [\"ACCESS1-3\",\"CanESM2\",\"CCSM4\",\"CSIRO-Mk3-6-0\",\"GFDL-ESM2M\",\"HadGEM2-ES\",\"inmcm4\",\"MIROC5\",\"MPI-ESM-MR\",\"MRI-CGCM3\"]\n",
    "pet_vars    = ['PRCP', 'OUT_PET_NATVEG']\n",
    "period_hist = slice('1970-01-01', '1999-12-31')\n",
    "period_futr = {'early' : slice('2010-01-01', '2039-12-31'),\n",
    "               'middle': slice('2040-01-01', '2069-12-31'),\n",
    "               'late'  : slice('2070-01-01', '2099-12-31')}"
   ]
  },
  {
   "cell_type": "markdown",
   "metadata": {},
   "source": [
    "## Load the data"
   ]
  },
  {
   "cell_type": "code",
   "execution_count": null,
   "metadata": {},
   "outputs": [],
   "source": [
    "xr.set_options(file_cache_maxsize=12000)\n",
    "\n",
    "histo_data = load_monthly_historical_hydro_datasets(models=gcms, variables=pet_vars, region='HI', parallel=True)\n",
    "rcp45_data = load_monthly_cmip5_hydro_datasets(scen='rcp45', models=gcms, variables=pet_vars, region='HI', parallel=True)\n",
    "rcp85_data = load_monthly_cmip5_hydro_datasets(scen='rcp85', models=gcms, variables=pet_vars, region='HI', parallel=True)"
   ]
  },
  {
   "cell_type": "code",
   "execution_count": null,
   "metadata": {},
   "outputs": [],
   "source": []
  },
  {
   "cell_type": "markdown",
   "metadata": {},
   "source": [
    "## Compute 30-yr annual mean PCP and PET for 4 periods - historical, early, mid and late"
   ]
  },
  {
   "cell_type": "code",
   "execution_count": null,
   "metadata": {},
   "outputs": [],
   "source": [
    "%%time\n",
    "histo_ann = resample_data(histo_data['gcm'].sel(time=period_hist), region='HI', freq='AS').mean('time').compute()\n",
    "\n",
    "rcp45_ann = {}\n",
    "rcp85_ann = {}\n",
    "for key, futr_period in period_futr.items():\n",
    "    rcp45_ann[key] = resample_data(rcp45_data.sel(time=futr_period), region='HI', freq='AS').mean('time').compute()\n",
    "    rcp85_ann[key] = resample_data(rcp85_data.sel(time=futr_period), region='HI', freq='AS').mean('time').compute()"
   ]
  },
  {
   "cell_type": "code",
   "execution_count": null,
   "metadata": {},
   "outputs": [],
   "source": []
  },
  {
   "cell_type": "markdown",
   "metadata": {},
   "source": [
    "## Additional process - compute dryness index, and cleanup"
   ]
  },
  {
   "cell_type": "code",
   "execution_count": null,
   "metadata": {},
   "outputs": [],
   "source": [
    "# compute dryness\n",
    "histo_ann['dryness'] = histo_ann['OUT_PET_NATVEG']/histo_ann['PRCP']\n",
    "for key, futr_period in period_futr.items():\n",
    "    rcp45_ann[key]['dryness'] = rcp45_ann[key]['OUT_PET_NATVEG']/rcp45_ann[key]['PRCP']\n",
    "    rcp85_ann[key]['dryness'] = rcp85_ann[key]['OUT_PET_NATVEG']/rcp85_ann[key]['PRCP']"
   ]
  },
  {
   "cell_type": "markdown",
   "metadata": {},
   "source": [
    "## Compute difference in 30-yr annual mean between historical and future"
   ]
  },
  {
   "cell_type": "code",
   "execution_count": null,
   "metadata": {},
   "outputs": [],
   "source": [
    "rcp45_ann_30yr_diff = {}\n",
    "rcp85_ann_30yr_diff = {}\n",
    "diff_rcp_ann_30yr_change ={}\n",
    "for key, futr_period in period_futr.items():\n",
    "    rcp45_ann_30yr_diff[key] = calc_change(histo_ann, rcp45_ann[key], pct=False).persist()\n",
    "    rcp85_ann_30yr_diff[key] = calc_change(histo_ann, rcp85_ann[key], pct=False).persist()\n",
    "    \n",
    "    diff_rcp_ann_30yr_change[key] =rcp85_ann_30yr_diff[key] - rcp45_ann_30yr_diff[key]"
   ]
  },
  {
   "cell_type": "code",
   "execution_count": null,
   "metadata": {},
   "outputs": [],
   "source": []
  },
  {
   "cell_type": "markdown",
   "metadata": {},
   "source": [
    "## Plotting"
   ]
  },
  {
   "cell_type": "code",
   "execution_count": null,
   "metadata": {},
   "outputs": [],
   "source": [
    "# create colormap\n",
    "# ---------------\n",
    "\n",
    "from matplotlib.colors import LinearSegmentedColormap\n",
    "\n",
    "# create a colormap that consists of\n",
    "# - 1/5 : custom colormap, ranging from white to the first color of the colormap\n",
    "# - 4/5 : existing colormap\n",
    "\n",
    "# set upper part: 4 * 256/4 entries\n",
    "upper = mpl.cm.Spectral_r(np.arange(256))\n",
    "\n",
    "# set lower part: 1 * 256/4 entries\n",
    "# - initialize all entries to 1 to make sure that the alpha channel (4th column) is 1\n",
    "lower = np.ones((int(256/4),4))\n",
    "# - modify the first three columns (RGB):\n",
    "#   range linearly between white (1,1,1) and the first color of the upper colormap\n",
    "for i in range(3):\n",
    "    lower[:,i] = np.linspace(0.9, upper[0,i], lower.shape[0])\n",
    "\n",
    "# combine parts of colormap\n",
    "cmap = np.vstack(( lower, upper ))\n",
    "\n",
    "# convert to matplotlib colormap\n",
    "cmap = mpl.colors.ListedColormap(cmap, name='myColorMap', N=cmap.shape[0])\n",
    "\n",
    "cmap_change_dry = LinearSegmentedColormap.from_list('custom2', \n",
    "                                             [(0,    'xkcd:blue'),\n",
    "                                              (0.3,  'xkcd:light grey'),\n",
    "                                              (1,    'xkcd:red')], N=256)"
   ]
  },
  {
   "cell_type": "markdown",
   "metadata": {},
   "source": [
    "------------\n",
    " - Change in 30yr mean between historical and three future periods in 21st century (early, mid, and late) "
   ]
  },
  {
   "cell_type": "code",
   "execution_count": null,
   "metadata": {},
   "outputs": [],
   "source": [
    "# some local plot setups\n",
    "\n",
    "cm = {'history'    : cmap,\n",
    "      'history_dry': cmap_change_dry,\n",
    "      'change'     : custom_div_cmap(numcolors=255, mincol='xkcd:red', midcol='xkcd:light grey', maxcol='xkcd:blue'),\n",
    "      'change_dry' : custom_div_cmap(numcolors=255, mincol='xkcd:blue', midcol='xkcd:light grey', maxcol='xkcd:red'),\n",
    "      }\n",
    "\n",
    "sfmt = mpl.ticker.ScalarFormatter(useMathText=True)\n",
    "sfmt.set_powerlimits((0, 0))\n",
    "\n",
    "cbar_kwrgs = {'flux':   {\"orientation\":\"horizontal\", \"shrink\":0.990, \"pad\":0.03, 'format':sfmt},\n",
    "             'regular': {\"orientation\":\"horizontal\", \"shrink\":0.990, \"pad\":0.03}}\n",
    "\n",
    "style_kwargs = {'flux':    {'add_labels': False, 'xticks':[], 'yticks':[], 'cbar_kwargs': cbar_kwrgs['flux']},\n",
    "                'regular': {'add_labels': False, 'xticks':[], 'yticks':[], 'cbar_kwargs': cbar_kwrgs['regular']}}\n",
    "\n",
    "kwargs = {'change_PRCP':           {'levels': 9,  'vmin':-100, 'vmax':100,  'cmap':cm['change'],      'extend':'both', **style_kwargs['regular']},\n",
    "          'change_OUT_PET_NATVEG': {'levels': 9,  'vmin':-100, 'vmax':100,  'cmap':cm['change'],      'extend':'both', **style_kwargs['regular']},\n",
    "          'change_dryness':        {'levels': 11, 'vmin':-0.5, 'vmax':0.5,  'cmap':cm['change_dry'],  'extend':'both', **style_kwargs['regular']},\n",
    "          'PRCP':                  {'levels': 9,  'vmin':0,    'vmax':4000, 'cmap':cm['history'],     'extend':'max',  **style_kwargs['flux']},\n",
    "          'OUT_PET_NATVEG':        {'levels': 9,  'vmin':0,    'vmax':2000, 'cmap':cm['history'],     'extend':'max',  **style_kwargs['flux']},\n",
    "          'dryness':               {'levels': 11, 'vmin':0,    'vmax':2.5,  'cmap':cm['history_dry'], 'extend':'max',  **style_kwargs['regular']},\n",
    "         }\n",
    "\n",
    "var_title = {'PRCP':'precipitation', 'OUT_PET_NATVEG':'potential evaporation', 'dryness':'dryness index'}\n",
    "var_unit  = {'PRCP':'mm/yr', 'OUT_PET_NATVEG':'mm/yr', 'dryness':'-'}"
   ]
  },
  {
   "cell_type": "code",
   "execution_count": null,
   "metadata": {},
   "outputs": [],
   "source": [
    "fig, axes = plt.subplots(nrows=3, ncols=3, sharex=True, sharey=True, figsize=(8.125,8.75))\n",
    "plt.subplots_adjust(left=0.045, bottom=0.0125, right=0.985, top=0.975, hspace=0.075, wspace=0.075)\n",
    "\n",
    "for col, var in enumerate(['PRCP', 'OUT_PET_NATVEG', 'dryness']):\n",
    "    histo_ann.mean(dim='gcm')[var].plot.pcolormesh(ax=axes[0, col], **kwargs[var])\n",
    "    rcp85_ann_30yr_diff['middle'].mean(dim='gcm')[var].plot.pcolormesh(ax=axes[1, col], **kwargs[f'change_{var}'])\n",
    "    rcp85_ann_30yr_diff['late'].mean(dim='gcm')[var].plot.pcolormesh(ax=axes[2, col],   **kwargs[f'change_{var}'])\n",
    "    \n",
    "    add_ylabel(axes[0, 0], 'historical', fontsize=11)\n",
    "    add_ylabel(axes[1, 0], 'changes 2040-2069', fontsize=11)\n",
    "    add_ylabel(axes[2, 0], 'changes 2070-2099', fontsize=11)\n",
    "    axes[0, col].set_title('%s [%s]'%(var_title[var], var_unit[var]), fontsize=12)\n",
    "    \n",
    "if figSave:\n",
    "    plt.savefig(f'NB-HI7_Fig1_annual_mean_change_pet_mid_late_rcp85.png', dpi=300)"
   ]
  },
  {
   "cell_type": "markdown",
   "metadata": {},
   "source": [
    "------------\n",
    " - Difference between two RCPs in 30yr mean change for late 21st century"
   ]
  },
  {
   "cell_type": "code",
   "execution_count": null,
   "metadata": {},
   "outputs": [],
   "source": [
    "cm = {'change' : custom_div_cmap(numcolors=256, mincol='xkcd:blue', midcol='xkcd:light grey', maxcol='xkcd:red')}\n",
    "\n",
    "style_kwargs = {'add_labels': False, 'xticks':[], 'yticks':[], 'cbar_kwargs': dict(orientation=\"horizontal\", shrink=0.995, pad=0.03)}\n",
    "kwargs       = {'change-rcp': {'levels':21,'vmin':-2, 'vmax':2,  'cmap':cm['change'], 'extend':'both', **style_kwargs}}\n",
    "\n",
    "cm = {'change' : custom_div_cmap(numcolors=255, mincol='xkcd:red', midcol='xkcd:light grey', maxcol='xkcd:blue')}\n",
    "\n",
    "style_kwargs = {'add_labels': False, 'xticks':[], 'yticks':[], 'cbar_kwargs': dict(orientation=\"horizontal\", shrink=0.995, pad=0.03)}\n",
    "\n",
    "kwargs       = {'change-rcp_PRCP':           {'levels':9, 'vmin':-200, 'vmax':200,  'cmap':cm['change'], 'extend':'both', **style_kwargs},\n",
    "                'change-rcp_OUT_PET_NATVEG': {'levels':9, 'vmin':-100, 'vmax':100,  'cmap':cm['change'], 'extend':'both', **style_kwargs},\n",
    "                'change-rcp_dryness':        {'levels':11, 'vmin':-0.5, 'vmax':0.5,  'cmap':cm['change'], 'extend':'both', **style_kwargs},\n",
    "               }\n",
    "\n",
    "var_title = {'PRCP':'precipitation', 'OUT_PET_NATVEG':'potential evaporation', 'dryness':'dryness index'}\n",
    "var_unit  = {'PRCP':'mm/yr', 'OUT_PET_NATVEG':'mm/yr', 'dryness':'-'}\n",
    "\n",
    "fig, axes = plt.subplots(nrows=1, ncols=3, sharex=True, sharey=True, figsize=(8.125, 3))\n",
    "plt.subplots_adjust(left=0.040, bottom=0.0125, right=0.990, top=0.900, hspace=0.060, wspace=0.060)\n",
    "\n",
    "for col, var in enumerate(['PRCP', 'OUT_PET_NATVEG', 'dryness']):\n",
    "    diff_rcp_ann_30yr_change['late'].mean(dim='gcm')[var].plot.pcolormesh(ax=axes[col], **kwargs[f'change-rcp_{var}'])\n",
    "    \n",
    "    add_ylabel(axes[0], 'RCP85 - RCP45', fontsize=11)\n",
    "    axes[col].set_title('%s [%s]'%(var_title[var], var_unit[var]), fontsize=12)\n",
    "    \n",
    "if figSave:\n",
    "    plt.savefig(f'NB-HI7_Fig2_annual_mean_pet_late_diff_rcp.png', dpi=300)"
   ]
  },
  {
   "cell_type": "markdown",
   "metadata": {},
   "source": [
    "--------\n",
    "- annual PET change for individual GCMs for late 21st century are plotted below"
   ]
  },
  {
   "cell_type": "markdown",
   "metadata": {},
   "source": [
    "--------------------\n",
    "### PET"
   ]
  },
  {
   "cell_type": "markdown",
   "metadata": {},
   "source": [
    "#### rcp45"
   ]
  },
  {
   "cell_type": "code",
   "execution_count": null,
   "metadata": {},
   "outputs": [],
   "source": [
    "var=\"OUT_PET_NATVEG\"\n",
    "\n",
    "cm = {'mean': custom_div_cmap(numcolors=255, mincol='xkcd:red', midcol='xkcd:light grey', maxcol='xkcd:blue'),\n",
    "      'std' : custom_div_cmap(numcolors=255, mincol='xkcd:light grey', midcol='xkcd:light light blue', maxcol='xkcd:blue')}\n",
    "\n",
    "style_kwargs =  {'add_labels': False, 'xticks':[], 'yticks':[], 'cbar_kwargs': dict(orientation=\"horizontal\", shrink=0.975, pad=0.03)}\n",
    "\n",
    "kwargs = {'mean': {'levels': 9, 'vmin':-100, 'vmax':100, 'cmap':cm['mean'], 'extend':'both', **style_kwargs},\n",
    "          'std':  {'levels': 11, 'vmin':0,    'vmax':50, 'cmap':cm['std'],  'extend':'max',  **style_kwargs}}\n",
    "\n",
    "fig, axes = plt.subplots(nrows=3, ncols=4, sharex=True, sharey=True, figsize=(11.375, 10.5))\n",
    "plt.subplots_adjust(left=0.0125, bottom=0.0125, right=0.99, top=0.935, hspace=0.075, wspace=0.075)\n",
    "\n",
    "for ix, gcm in enumerate(gcms+['ensemble-mean','ensemble-std']):\n",
    "    row = ix // 4\n",
    "    col = ix % 4\n",
    "    if ix < 10:\n",
    "        rcp45_ann_30yr_diff['late'][var].sel(gcm=gcm).plot.pcolormesh(ax=axes[row, col], **kwargs['mean'])\n",
    "    elif ix == 10:\n",
    "        rcp45_ann_30yr_diff['late'].mean(dim='gcm')[var].plot.pcolormesh(ax=axes[row, col], **kwargs['mean'])\n",
    "    elif ix == 11:\n",
    "        rcp45_ann_30yr_diff['late'].std(dim='gcm')[var].plot.pcolormesh(ax=axes[row, col], **kwargs['std'])\n",
    "    axes[row, col].set_title(gcm, fontsize=12)\n",
    "    \n",
    "fig.suptitle('Change in 30yr mean annual PET [mm/yr] - late 21st century', fontsize=14, y=0.985)\n",
    "\n",
    "if figSave:\n",
    "    plt.savefig(f'NB-HI7_Fig3_annual_mean_change_late_{var}_rcp45.png', dpi=300)"
   ]
  },
  {
   "cell_type": "markdown",
   "metadata": {},
   "source": [
    "#### rcp85"
   ]
  },
  {
   "cell_type": "code",
   "execution_count": null,
   "metadata": {},
   "outputs": [],
   "source": [
    "var=\"OUT_PET_NATVEG\"\n",
    "\n",
    "cm = {'mean': custom_div_cmap(numcolors=255, mincol='xkcd:red', midcol='xkcd:light grey', maxcol='xkcd:blue'),\n",
    "      'std' : custom_div_cmap(numcolors=255, mincol='xkcd:light grey', midcol='xkcd:light light blue', maxcol='xkcd:blue')}\n",
    "\n",
    "style_kwargs =  {'add_labels': False, 'xticks':[], 'yticks':[], 'cbar_kwargs': dict(orientation=\"horizontal\", shrink=0.975, pad=0.03)}\n",
    "\n",
    "kwargs = {'mean': {'levels': 9, 'vmin':-100, 'vmax':100, 'cmap':cm['mean'], 'extend':'both', **style_kwargs},\n",
    "          'std':  {'levels': 11, 'vmin':0,    'vmax':50, 'cmap':cm['std'],  'extend':'max',  **style_kwargs}}\n",
    "\n",
    "fig, axes = plt.subplots(nrows=3, ncols=4, sharex=True, sharey=True, figsize=(11.375, 10.5))\n",
    "plt.subplots_adjust(left=0.0125, bottom=0.0125, right=0.99, top=0.935, hspace=0.075, wspace=0.075)\n",
    "\n",
    "for ix, gcm in enumerate(gcms+['ensemble-mean','ensemble-std']):\n",
    "    row = ix // 4\n",
    "    col = ix % 4\n",
    "    if ix < 10:\n",
    "        rcp85_ann_30yr_diff['late'][var].sel(gcm=gcm).plot.pcolormesh(ax=axes[row, col], **kwargs['mean'])\n",
    "    elif ix == 10:\n",
    "        rcp85_ann_30yr_diff['late'].mean(dim='gcm')[var].plot.pcolormesh(ax=axes[row, col], **kwargs['mean'])\n",
    "    elif ix == 11:\n",
    "        rcp85_ann_30yr_diff['late'].std(dim='gcm')[var].plot.pcolormesh(ax=axes[row, col], **kwargs['std'])\n",
    "    axes[row, col].set_title(gcm, fontsize=12)\n",
    "    \n",
    "fig.suptitle('Change in 30yr mean annual PET [mm/yr] - late 21st century', fontsize=14, y=0.985)\n",
    "\n",
    "if figSave:\n",
    "    plt.savefig(f'NB-HI7_Fig4_annual_mean_change_late_{var}_rcp85.png', dpi=300)"
   ]
  },
  {
   "cell_type": "markdown",
   "metadata": {},
   "source": [
    "------------\n",
    " - Change in 30yr seasonal temperature between historical and three future periods in 21st century (early, mid, and late) "
   ]
  },
  {
   "cell_type": "markdown",
   "metadata": {},
   "source": [
    "--------------------\n",
    "### Dryness"
   ]
  },
  {
   "cell_type": "markdown",
   "metadata": {},
   "source": [
    "#### rcp45"
   ]
  },
  {
   "cell_type": "code",
   "execution_count": null,
   "metadata": {},
   "outputs": [],
   "source": [
    "var=\"dryness\"\n",
    "\n",
    "cm = {'mean': custom_div_cmap(numcolors=255, mincol='xkcd:blue', midcol='xkcd:light grey', maxcol='xkcd:red'),\n",
    "      'std' : custom_div_cmap(numcolors=255, mincol='xkcd:light grey', midcol='xkcd:light light blue', maxcol='xkcd:blue')}\n",
    "\n",
    "style_kwargs =  {'add_labels': False, 'xticks':[], 'yticks':[], 'cbar_kwargs': dict(orientation=\"horizontal\", shrink=0.975, pad=0.03)}\n",
    "\n",
    "kwargs = {'mean': {'levels': 11, 'vmin':-0.5, 'vmax':0.5, 'cmap':cm['mean'], 'extend':'both', **style_kwargs},\n",
    "          'std':  {'levels': 11, 'vmin':0,    'vmax':0.5, 'cmap':cm['std'],  'extend':'max',  **style_kwargs}}\n",
    "\n",
    "fig, axes = plt.subplots(nrows=3, ncols=4, sharex=True, sharey=True, figsize=(11.375, 10.5))\n",
    "plt.subplots_adjust(left=0.0125, bottom=0.0125, right=0.99, top=0.935, hspace=0.075, wspace=0.075)\n",
    "\n",
    "for ix, gcm in enumerate(gcms+['ensemble-mean','ensemble-std']):\n",
    "    row = ix // 4\n",
    "    col = ix % 4\n",
    "    if ix < 10:\n",
    "        rcp45_ann_30yr_diff['late'][var].sel(gcm=gcm).plot.pcolormesh(ax=axes[row, col], **kwargs['mean'])\n",
    "    elif ix == 10:\n",
    "        rcp45_ann_30yr_diff['late'].mean(dim='gcm')[var].plot.pcolormesh(ax=axes[row, col], **kwargs['mean'])\n",
    "    elif ix == 11:\n",
    "        rcp45_ann_30yr_diff['late'].std(dim='gcm')[var].plot.pcolormesh(ax=axes[row, col], **kwargs['std'])\n",
    "    axes[row, col].set_title(gcm, fontsize=12)\n",
    "    \n",
    "fig.suptitle('Change in 30yr mean annual dryness [-] - late 21st century', fontsize=14, y=0.985)\n",
    "\n",
    "if figSave:\n",
    "    plt.savefig(f'NB-HI7_Fig5_annual_mean_change_late_{var}_rcp45.png', dpi=300)"
   ]
  },
  {
   "cell_type": "markdown",
   "metadata": {},
   "source": [
    "#### rcp85"
   ]
  },
  {
   "cell_type": "code",
   "execution_count": null,
   "metadata": {},
   "outputs": [],
   "source": [
    "var=\"dryness\"\n",
    "\n",
    "cm = {'mean': custom_div_cmap(numcolors=255, mincol='xkcd:blue', midcol='xkcd:light grey', maxcol='xkcd:red'),\n",
    "      'std' : custom_div_cmap(numcolors=255, mincol='xkcd:light grey', midcol='xkcd:light light blue', maxcol='xkcd:blue')}\n",
    "\n",
    "style_kwargs =  {'add_labels': False, 'xticks':[], 'yticks':[], 'cbar_kwargs': dict(orientation=\"horizontal\", shrink=0.975, pad=0.03)}\n",
    "\n",
    "kwargs = {'mean': {'levels': 11, 'vmin':-0.5, 'vmax':0.5, 'cmap':cm['mean'], 'extend':'both', **style_kwargs},\n",
    "          'std':  {'levels': 11, 'vmin':0,    'vmax':0.5, 'cmap':cm['std'],  'extend':'max',  **style_kwargs}}\n",
    "\n",
    "fig, axes = plt.subplots(nrows=3, ncols=4, sharex=True, sharey=True, figsize=(11.375, 10.5))\n",
    "plt.subplots_adjust(left=0.0125, bottom=0.0125, right=0.99, top=0.935, hspace=0.075, wspace=0.075)\n",
    "\n",
    "for ix, gcm in enumerate(gcms+['ensemble-mean','ensemble-std']):\n",
    "    row = ix // 4\n",
    "    col = ix % 4\n",
    "    if ix < 10:\n",
    "        rcp85_ann_30yr_diff['late'][var].sel(gcm=gcm).plot.pcolormesh(ax=axes[row, col], **kwargs['mean'])\n",
    "    elif ix == 10:\n",
    "        rcp85_ann_30yr_diff['late'].mean(dim='gcm')[var].plot.pcolormesh(ax=axes[row, col], **kwargs['mean'])\n",
    "    elif ix == 11:\n",
    "        rcp85_ann_30yr_diff['late'].std(dim='gcm')[var].plot.pcolormesh(ax=axes[row, col], **kwargs['std'])\n",
    "    axes[row, col].set_title(gcm, fontsize=12)\n",
    "    \n",
    "fig.suptitle('Change in 30yr mean annual dryness [-] - late 21st century', fontsize=14, y=0.985)\n",
    "\n",
    "if figSave:\n",
    "    plt.savefig(f'NB-HI7_Fig6_annual_mean_change_late_{var}_rcp85.png', dpi=300)"
   ]
  },
  {
   "cell_type": "code",
   "execution_count": null,
   "metadata": {},
   "outputs": [],
   "source": []
  }
 ],
 "metadata": {
  "kernelspec": {
   "display_name": "Python [conda env:cmip5_oconus]",
   "language": "python",
   "name": "conda-env-cmip5_oconus-py"
  },
  "language_info": {
   "codemirror_mode": {
    "name": "ipython",
    "version": 3
   },
   "file_extension": ".py",
   "mimetype": "text/x-python",
   "name": "python",
   "nbconvert_exporter": "python",
   "pygments_lexer": "ipython3",
   "version": "3.7.0"
  }
 },
 "nbformat": 4,
 "nbformat_minor": 4
}
