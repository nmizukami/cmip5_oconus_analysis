{
 "cells": [
  {
   "cell_type": "markdown",
   "metadata": {},
   "source": [
    "# NB-AK7- plot of annual cycle of LH and SH at glacier pixel\n",
    " - to examine negative ET over the glacier fields"
   ]
  },
  {
   "cell_type": "markdown",
   "metadata": {},
   "source": [
    "## module loading..."
   ]
  },
  {
   "cell_type": "code",
   "execution_count": 1,
   "metadata": {},
   "outputs": [
    {
     "name": "stdout",
     "output_type": "stream",
     "text": [
      "\n",
      "The Python version: 3.7.0\n",
      "xarray 0.16.2\n"
     ]
    }
   ],
   "source": [
    "%matplotlib inline  \n",
    "import os\n",
    "import sys\n",
    "import xarray as xr\n",
    "import numpy as np\n",
    "import matplotlib.pyplot as plt\n",
    "import matplotlib as mpl\n",
    "from timeit import default_timer as timer\n",
    "\n",
    "print(\"\\nThe Python version: %s.%s.%s\" % sys.version_info[:3])\n",
    "print(xr.__name__, xr.__version__)\n",
    "\n",
    "mpl.rcParams['xtick.labelsize']='small'"
   ]
  },
  {
   "cell_type": "code",
   "execution_count": 2,
   "metadata": {},
   "outputs": [
    {
     "name": "stdout",
     "output_type": "stream",
     "text": [
      "Last executed: 2021-03-06 09:14:19.561308 by mizukami on casper03\n"
     ]
    }
   ],
   "source": [
    "from cmip5_oconus import print_date\n",
    "print_date()\n",
    "\n",
    "from cmip5_oconus.data_catalog import load_monthly_historical_hydro_datasets, resample_data\n",
    "from cmip5_oconus.data_catalog import load_monthly_cmip5_hydro_datasets\n",
    "from cmip5_oconus.plot import custom_div_cmap, MidpointNormalize, add_ylabel\n",
    "from cmip5_oconus.utils import calc_change\n",
    "from cmip5_oconus.data_catalog import DOMAIN"
   ]
  },
  {
   "cell_type": "markdown",
   "metadata": {},
   "source": [
    "Dask jobque"
   ]
  },
  {
   "cell_type": "code",
   "execution_count": 3,
   "metadata": {},
   "outputs": [],
   "source": [
    "#from dask_jobqueue import PBSCluster\n",
    "#cluster = PBSCluster(processes=9, threads=4, memory=\"108GB\",\n",
    "#                  walltime='00:40:00')\n",
    "#cluster.scale(jobs=3)\n",
    "\n",
    "#from dask_jobqueue import SLURMCluster\n",
    "#cluster = SLURMCluster()\n",
    "#cluster.scale(jobs=5)"
   ]
  },
  {
   "cell_type": "code",
   "execution_count": 4,
   "metadata": {
    "scrolled": true
   },
   "outputs": [],
   "source": [
    "#from dask.distributed import Client\n",
    "#client = Client(cluster)"
   ]
  },
  {
   "cell_type": "code",
   "execution_count": 5,
   "metadata": {},
   "outputs": [],
   "source": [
    "#client"
   ]
  },
  {
   "cell_type": "markdown",
   "metadata": {},
   "source": [
    "-------------------------\n",
    "## Setup "
   ]
  },
  {
   "cell_type": "code",
   "execution_count": 10,
   "metadata": {},
   "outputs": [],
   "source": [
    "figSave = True"
   ]
  },
  {
   "cell_type": "code",
   "execution_count": 4,
   "metadata": {},
   "outputs": [],
   "source": [
    "gcms            = [\"ACCESS1-3\",\"CanESM2\",\"CCSM4\",\"CSIRO-Mk3-6-0\",\"GFDL-ESM2M\",\"HadGEM2-ES\",\"inmcm4\",\"MIROC5\",\"MPI-ESM-MR\",\"MRI-CGCM3\"]\n",
    "hydro_flux_vars = ['NET_SHORT', 'NET_LONG','LATENT', 'SENSIBLE', 'GRND_FLUX', 'EVAP']\n",
    "period_hist     = slice('1970-01-01', '1999-12-31')\n",
    "period_futr     = {'early' : slice('2010-01-01', '2039-12-31'),\n",
    "                   'middle': slice('2040-01-01', '2069-12-31'),\n",
    "                   'late'  : slice('2070-01-01', '2099-12-31')}"
   ]
  },
  {
   "cell_type": "markdown",
   "metadata": {},
   "source": [
    "## Load the data"
   ]
  },
  {
   "cell_type": "code",
   "execution_count": 5,
   "metadata": {},
   "outputs": [
    {
     "name": "stdout",
     "output_type": "stream",
     "text": [
      "load_monthly_historical_hydro_datasets\n",
      "load_monthly_cmip5_hydro_datasets\n",
      "load_cmip5_dataset\n"
     ]
    },
    {
     "name": "stderr",
     "output_type": "stream",
     "text": [
      "100%|██████████| 10/10 [02:49<00:00, 16.98s/it]\n"
     ]
    },
    {
     "name": "stdout",
     "output_type": "stream",
     "text": [
      "load_obs_dataset\n",
      "load_monthly_cmip5_hydro_datasets\n",
      "load_cmip5_dataset\n"
     ]
    },
    {
     "name": "stderr",
     "output_type": "stream",
     "text": [
      "100%|██████████| 10/10 [03:06<00:00, 18.66s/it]\n"
     ]
    }
   ],
   "source": [
    "xr.set_options(file_cache_maxsize=12000)\n",
    "histo_data = load_monthly_historical_hydro_datasets(models=gcms, variables=hydro_flux_vars, region='AK', parallel=False)\n",
    "rcp85_data = load_monthly_cmip5_hydro_datasets(scen='rcp85', models=gcms, variables=hydro_flux_vars, region='AK', parallel=False)"
   ]
  },
  {
   "cell_type": "markdown",
   "metadata": {},
   "source": [
    "## Compute difference in 30 year annual mean between historical and future"
   ]
  },
  {
   "cell_type": "code",
   "execution_count": 7,
   "metadata": {},
   "outputs": [
    {
     "name": "stderr",
     "output_type": "stream",
     "text": [
      "/glade/u/home/mizukami/anaconda3/envs/cmip5_oconus/lib/python3.7/site-packages/dask/array/numpy_compat.py:40: RuntimeWarning: invalid value encountered in true_divide\n",
      "  x = np.divide(x1, x2, out)\n",
      "/glade/u/home/mizukami/anaconda3/envs/cmip5_oconus/lib/python3.7/site-packages/dask/array/numpy_compat.py:40: RuntimeWarning: invalid value encountered in true_divide\n",
      "  x = np.divide(x1, x2, out)\n",
      "/glade/u/home/mizukami/anaconda3/envs/cmip5_oconus/lib/python3.7/site-packages/dask/array/numpy_compat.py:40: RuntimeWarning: invalid value encountered in true_divide\n",
      "  x = np.divide(x1, x2, out)\n",
      "/glade/u/home/mizukami/anaconda3/envs/cmip5_oconus/lib/python3.7/site-packages/dask/array/numpy_compat.py:40: RuntimeWarning: invalid value encountered in true_divide\n",
      "  x = np.divide(x1, x2, out)\n"
     ]
    }
   ],
   "source": [
    "histo_hydro_season = histo_data['gcm'].sel(time=period_hist).groupby('time.month').mean(dim=\"time\").persist()\n",
    "\n",
    "rcp85_hydro_season = {}\n",
    "for key, futr_period in period_futr.items():\n",
    "    rcp85_hydro_season[key] = rcp85_data.sel(time=futr_period).groupby('time.month').mean('time').persist()"
   ]
  },
  {
   "cell_type": "markdown",
   "metadata": {},
   "source": [
    "## Plotting"
   ]
  },
  {
   "cell_type": "markdown",
   "metadata": {},
   "source": [
    "------------\n",
    " - Change in 30yr mean annual LH & SH flux between historical and late in 21st century"
   ]
  },
  {
   "cell_type": "code",
   "execution_count": 11,
   "metadata": {},
   "outputs": [
    {
     "name": "stderr",
     "output_type": "stream",
     "text": [
      "/glade/u/home/mizukami/anaconda3/envs/cmip5_oconus/lib/python3.7/site-packages/dask/array/numpy_compat.py:40: RuntimeWarning: invalid value encountered in true_divide\n",
      "  x = np.divide(x1, x2, out)\n",
      "/glade/u/home/mizukami/anaconda3/envs/cmip5_oconus/lib/python3.7/site-packages/dask/array/numpy_compat.py:40: RuntimeWarning: invalid value encountered in true_divide\n",
      "  x = np.divide(x1, x2, out)\n",
      "/glade/u/home/mizukami/anaconda3/envs/cmip5_oconus/lib/python3.7/site-packages/dask/array/numpy_compat.py:40: RuntimeWarning: invalid value encountered in true_divide\n",
      "  x = np.divide(x1, x2, out)\n",
      "/glade/u/home/mizukami/anaconda3/envs/cmip5_oconus/lib/python3.7/site-packages/dask/array/numpy_compat.py:40: RuntimeWarning: invalid value encountered in true_divide\n",
      "  x = np.divide(x1, x2, out)\n",
      "/glade/u/home/mizukami/anaconda3/envs/cmip5_oconus/lib/python3.7/site-packages/dask/array/numpy_compat.py:40: RuntimeWarning: invalid value encountered in true_divide\n",
      "  x = np.divide(x1, x2, out)\n",
      "/glade/u/home/mizukami/anaconda3/envs/cmip5_oconus/lib/python3.7/site-packages/dask/array/numpy_compat.py:40: RuntimeWarning: invalid value encountered in true_divide\n",
      "  x = np.divide(x1, x2, out)\n",
      "/glade/u/home/mizukami/anaconda3/envs/cmip5_oconus/lib/python3.7/site-packages/dask/array/numpy_compat.py:40: RuntimeWarning: invalid value encountered in true_divide\n",
      "  x = np.divide(x1, x2, out)\n",
      "/glade/u/home/mizukami/anaconda3/envs/cmip5_oconus/lib/python3.7/site-packages/dask/array/numpy_compat.py:40: RuntimeWarning: invalid value encountered in true_divide\n",
      "  x = np.divide(x1, x2, out)\n"
     ]
    },
    {
     "data": {
      "image/png": "[encoded data removed]",
      "text/plain": [
       "<Figure size 468x252 with 2 Axes>"
      ]
     },
     "metadata": {
      "needs_background": "light"
     },
     "output_type": "display_data"
    }
   ],
   "source": [
    "style_kwargs = {'hist': {'ls': '--'},\n",
    "               'rcp'  : {'ls': '-'}}\n",
    "kwargs       = {'hist': {'LATENT':{'lw':2.0, 'color':'xkcd:red', **style_kwargs['hist']}, 'SENSIBLE':{'lw':2.0, 'color':'xkcd:blue', **style_kwargs['hist']}},\n",
    "                'rcp':  {'LATENT':{'lw':2.0, 'color':'xkcd:red', **style_kwargs['rcp']},  'SENSIBLE':{'lw':2.0, 'color':'xkcd:blue', **style_kwargs['rcp']}}\n",
    "               }\n",
    "xlabel = []\n",
    "var_title = {'LATENT':'Latent heat', 'SENSIBLE':'Sensible heat', 'NET_SHORT':'Net SW', 'NET_LONG':'Net LW'}\n",
    "\n",
    "loc = [(185, 52),(151,55)]  #(150,60) (170, 50)\n",
    "\n",
    "fig, axes = plt.subplots(nrows=1, ncols=2, sharex=True, sharey=False, figsize=(6.5,3.5))\n",
    "for col, _ in enumerate(loc):\n",
    "        \n",
    "    ax=axes[col]\n",
    "    histo_hydro_season.mean(dim='gcm')['LATENT'].sel(x=loc[col][0],y=loc[col][1]).plot.line(ax=ax, x='month', label='LH-hist', **kwargs['hist']['LATENT'])\n",
    "    histo_hydro_season.mean(dim='gcm')['SENSIBLE'].sel(x=loc[col][0],y=loc[col][1]).plot.line(ax=ax, x='month', label='SH-hist', **kwargs['hist']['SENSIBLE']) \n",
    "\n",
    "    rcp85_hydro_season['late'].mean(dim='gcm')['LATENT'].sel(x=loc[col][0],y=loc[col][1]).plot.line(ax=ax, x='month', label=f'LH-late', **kwargs['rcp']['LATENT'])\n",
    "    rcp85_hydro_season['late'].mean(dim='gcm')['SENSIBLE'].sel(x=loc[col][0],y=loc[col][1]).plot.line(ax=ax, x='month', label=f'SH-late', **kwargs['rcp']['SENSIBLE'])\n",
    "    \n",
    "    ax.set_xticks(np.arange(2, 13, step=2))\n",
    "    \n",
    "    if col==0:\n",
    "        ax.set_ylabel('Heat flux[W/m2]', fontsize=11)\n",
    "    else:\n",
    "        ax.set_ylabel('')    \n",
    "\n",
    "    #ax.set_title(var_title[var], fontsize=12)\n",
    "    ax.set_xlabel('Month',fontsize=11)\n",
    "            \n",
    "fig.subplots_adjust(top=0.9, left=0.1, right=0.9, bottom=0.30)  # create some space below the plots by increasing the bottom-value\n",
    "axes.flatten()[-2].legend(loc='upper left', bbox_to_anchor=(0.10, -0.285, 0.75, 0.1), ncol=5)\n",
    "\n",
    "if figSave:\n",
    "    plt.savefig(f'NB-AK7_Fig1_annual_cycle_energy_glacier.png', dpi=300)"
   ]
  },
  {
   "cell_type": "code",
   "execution_count": 9,
   "metadata": {},
   "outputs": [
    {
     "name": "stderr",
     "output_type": "stream",
     "text": [
      "/glade/u/home/mizukami/anaconda3/envs/cmip5_oconus/lib/python3.7/site-packages/dask/array/numpy_compat.py:40: RuntimeWarning: invalid value encountered in true_divide\n",
      "  x = np.divide(x1, x2, out)\n",
      "/glade/u/home/mizukami/anaconda3/envs/cmip5_oconus/lib/python3.7/site-packages/dask/array/numpy_compat.py:40: RuntimeWarning: invalid value encountered in true_divide\n",
      "  x = np.divide(x1, x2, out)\n",
      "/glade/u/home/mizukami/anaconda3/envs/cmip5_oconus/lib/python3.7/site-packages/dask/array/numpy_compat.py:40: RuntimeWarning: invalid value encountered in true_divide\n",
      "  x = np.divide(x1, x2, out)\n",
      "/glade/u/home/mizukami/anaconda3/envs/cmip5_oconus/lib/python3.7/site-packages/dask/array/numpy_compat.py:40: RuntimeWarning: invalid value encountered in true_divide\n",
      "  x = np.divide(x1, x2, out)\n"
     ]
    },
    {
     "data": {
      "image/png": "[encoded data removed]",
      "text/plain": [
       "<Figure size 468x252 with 2 Axes>"
      ]
     },
     "metadata": {
      "needs_background": "light"
     },
     "output_type": "display_data"
    }
   ],
   "source": [
    "style_kwargs = {'hist': {'ls': '--'},\n",
    "               'rcp'  : {'ls': '-'}}\n",
    "kwargs       = {'hist': {'EVAP':{'lw':2.0, 'color':'xkcd:red', **style_kwargs['hist']}},\n",
    "                'rcp':  {'EVAP':{'lw':2.0, 'color':'xkcd:red', **style_kwargs['rcp']}}\n",
    "               }\n",
    "xlabel = []\n",
    "var_title = {'EVAP':'ET', 'SENSIBLE':'Sensible heat', 'NET_SHORT':'Net SW', 'NET_LONG':'Net LW'}\n",
    "\n",
    "loc = [(185, 52),(151,55)]  #(150,60) (170, 50)\n",
    "\n",
    "fig, axes = plt.subplots(nrows=1, ncols=2, sharex=True, sharey=False, figsize=(6.5,3.5))\n",
    "for col, var in enumerate(loc):\n",
    "        \n",
    "    ax=axes[col]\n",
    "    histo_hydro_season.mean(dim='gcm')['EVAP'].sel(x=loc[col][0],y=loc[col][1]).plot.line(ax=ax, x='month', **kwargs['hist']['EVAP'])\n",
    "\n",
    "    rcp85_hydro_season['late'].mean(dim='gcm')['EVAP'].sel(x=loc[col][0],y=loc[col][1]).plot.line(ax=ax, x='month', **kwargs['rcp']['EVAP'])\n",
    "    \n",
    "    ax.set_xticks(np.arange(2, 13, step=2))\n",
    "    \n",
    "    if col==0:\n",
    "        ax.set_ylabel('ET[mm/month]', fontsize=11)\n",
    "    else:\n",
    "        ax.set_ylabel('')    \n",
    "\n",
    "    #ax.set_title(var_title[var], fontsize=12)\n",
    "    ax.set_xlabel('Month',fontsize=11)\n",
    "            \n",
    "    #ax.get_legend().remove()"
   ]
  },
  {
   "cell_type": "code",
   "execution_count": null,
   "metadata": {},
   "outputs": [],
   "source": []
  },
  {
   "cell_type": "markdown",
   "metadata": {},
   "source": [
    "--------\n",
    "- Climate changes for individual GCMs for late 21st century are plotted below"
   ]
  },
  {
   "cell_type": "code",
   "execution_count": null,
   "metadata": {},
   "outputs": [],
   "source": [
    "histo_hydro_season['LATENT'].isel(x=100,y=50).plot.line(x='month')\n",
    "histo_hydro_season['SENSIBLE'].isel(x=100,y=50).plot.line(x='month')"
   ]
  },
  {
   "cell_type": "code",
   "execution_count": null,
   "metadata": {},
   "outputs": [],
   "source": [
    "histo_hydro_season['LATENT'].isel(x=100,y=50).plot()"
   ]
  },
  {
   "cell_type": "code",
   "execution_count": null,
   "metadata": {},
   "outputs": [],
   "source": []
  },
  {
   "cell_type": "code",
   "execution_count": null,
   "metadata": {},
   "outputs": [],
   "source": []
  },
  {
   "cell_type": "code",
   "execution_count": null,
   "metadata": {},
   "outputs": [],
   "source": []
  },
  {
   "cell_type": "code",
   "execution_count": null,
   "metadata": {},
   "outputs": [],
   "source": []
  }
 ],
 "metadata": {
  "kernelspec": {
   "display_name": "Python [conda env:anaconda3-cmip5_oconus]",
   "language": "python",
   "name": "conda-env-anaconda3-cmip5_oconus-py"
  },
  "language_info": {
   "codemirror_mode": {
    "name": "ipython",
    "version": 3
   },
   "file_extension": ".py",
   "mimetype": "text/x-python",
   "name": "python",
   "nbconvert_exporter": "python",
   "pygments_lexer": "ipython3",
   "version": "3.7.0"
  }
 },
 "nbformat": 4,
 "nbformat_minor": 4
}
