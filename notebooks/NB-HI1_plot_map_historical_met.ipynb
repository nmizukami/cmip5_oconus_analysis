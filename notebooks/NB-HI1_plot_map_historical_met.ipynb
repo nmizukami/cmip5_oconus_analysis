{
 "cells": [
  {
   "cell_type": "markdown",
   "metadata": {},
   "source": [
    "# NB-HI1: Plot of temperature during historical period for each GCM and obs"
   ]
  },
  {
   "cell_type": "markdown",
   "metadata": {},
   "source": [
    "## module loading..."
   ]
  },
  {
   "cell_type": "code",
   "execution_count": null,
   "metadata": {},
   "outputs": [],
   "source": [
    "%matplotlib inline  \n",
    "import os\n",
    "import sys\n",
    "import xarray as xr\n",
    "import pandas as pd\n",
    "import numpy as np\n",
    "import matplotlib.pyplot as plt\n",
    "import matplotlib as mpl\n",
    "from timeit import default_timer as timer\n",
    "\n",
    "print(\"\\nThe Python version: %s.%s.%s\" % sys.version_info[:3])\n",
    "print(xr.__name__, xr.__version__)\n",
    "print(pd.__name__, pd.__version__)\n",
    "\n",
    "mpl.rcParams['xtick.labelsize']='small'"
   ]
  },
  {
   "cell_type": "code",
   "execution_count": null,
   "metadata": {},
   "outputs": [],
   "source": [
    "from cmip5_oconus import print_date\n",
    "print_date()\n",
    "\n",
    "from cmip5_oconus.data_catalog import load_monthly_historical_met_datasets, resample_data\n",
    "from cmip5_oconus.plot import custom_div_cmap, MidpointNormalize"
   ]
  },
  {
   "cell_type": "code",
   "execution_count": null,
   "metadata": {},
   "outputs": [],
   "source": [
    "#from dask_jobqueue import PBSCluster\n",
    "#cluster = PBSCluster(processes=9, threads=4, memory=\"108GB\",\n",
    "#                  walltime='00:40:00')\n",
    "#cluster.scale(jobs=3)\n",
    "\n",
    "#from dask_jobqueue import SLURMCluster\n",
    "#cluster = SLURMCluster()\n",
    "#cluster.scale(jobs=5)"
   ]
  },
  {
   "cell_type": "code",
   "execution_count": null,
   "metadata": {
    "scrolled": true
   },
   "outputs": [],
   "source": [
    "#from dask.distributed import Client\n",
    "#client = Client(cluster)"
   ]
  },
  {
   "cell_type": "code",
   "execution_count": null,
   "metadata": {},
   "outputs": [],
   "source": [
    "#client"
   ]
  },
  {
   "cell_type": "markdown",
   "metadata": {},
   "source": [
    "-------------------------\n",
    "## Setup "
   ]
  },
  {
   "cell_type": "code",
   "execution_count": null,
   "metadata": {},
   "outputs": [],
   "source": [
    "figSave = True"
   ]
  },
  {
   "cell_type": "code",
   "execution_count": null,
   "metadata": {},
   "outputs": [],
   "source": [
    "region = 'HI'\n",
    "gcms = [\"ACCESS1-3\",\"CanESM2\",\"CCSM4\",\"CSIRO-Mk3-6-0\",\"GFDL-ESM2M\",\"HadGEM2-ES\",\"inmcm4\",\"MIROC5\",\"MPI-ESM-MR\",\"MRI-CGCM3\"]\n",
    "period_hist = slice('1970-01-01', '1999-12-31')\n",
    "period_10yr_hist = slice('1990-01-01', '1999-12-31')\n",
    "met_vars= ['tmin','tmax', 'tmean', 'dtr', 'wday']"
   ]
  },
  {
   "cell_type": "markdown",
   "metadata": {},
   "source": [
    "## Load the data"
   ]
  },
  {
   "cell_type": "code",
   "execution_count": null,
   "metadata": {},
   "outputs": [],
   "source": [
    "xr.set_options(file_cache_maxsize=12000)\n",
    "histo_data = load_monthly_historical_met_datasets(models=gcms, variables=met_vars, region=region, parallel=False)"
   ]
  },
  {
   "cell_type": "code",
   "execution_count": null,
   "metadata": {},
   "outputs": [],
   "source": []
  },
  {
   "cell_type": "markdown",
   "metadata": {},
   "source": [
    "## Compute 30 year seasonal mean for historical period"
   ]
  },
  {
   "cell_type": "code",
   "execution_count": null,
   "metadata": {},
   "outputs": [],
   "source": [
    "histo_tair_annual = {}\n",
    "for name in ['obs', 'gcm']:\n",
    "    histo_tair_annual[name] = resample_data(histo_data[name].sel(time=period_hist), region=region, freq='AS').persist().mean('time')"
   ]
  },
  {
   "cell_type": "markdown",
   "metadata": {},
   "source": [
    "## 10 year (1990-1999) annual mean"
   ]
  },
  {
   "cell_type": "code",
   "execution_count": null,
   "metadata": {},
   "outputs": [],
   "source": [
    "histo_tair_annual_10yr = {}\n",
    "for name in ['obs', 'gcm']:\n",
    "    histo_tair_annual_10yr[name] = resample_data(histo_data[name].sel(time=period_10yr_hist), region=region,  freq='AS').persist().mean('time')"
   ]
  },
  {
   "cell_type": "code",
   "execution_count": null,
   "metadata": {},
   "outputs": [],
   "source": [
    "histo_tair_annual['gcm']"
   ]
  },
  {
   "cell_type": "markdown",
   "metadata": {},
   "source": [
    "### Plot"
   ]
  },
  {
   "cell_type": "code",
   "execution_count": null,
   "metadata": {},
   "outputs": [],
   "source": [
    "# create colormap\n",
    "# ---------------\n",
    "\n",
    "# create a colormap that consists of\n",
    "# - 1/5 : custom colormap, ranging from white to the first color of the colormap\n",
    "# - 4/5 : existing colormap\n",
    "\n",
    "# set upper part: 4 * 256/4 entries\n",
    "upper = mpl.cm.Spectral_r(np.arange(256))\n",
    "\n",
    "# set lower part: 1 * 256/4 entries\n",
    "# - initialize all entries to 1 to make sure that the alpha channel (4th column) is 1\n",
    "lower = np.ones((int(256/4),4))\n",
    "# - modify the first three columns (RGB):\n",
    "#   range linearly between white (1,1,1) and the first color of the upper colormap\n",
    "for i in range(3):\n",
    "    lower[:,i] = np.linspace(0.9, upper[0,i], lower.shape[0])\n",
    "\n",
    "# combine parts of colormap\n",
    "cmap = np.vstack(( lower, upper ))\n",
    "\n",
    "# convert to matplotlib colormap\n",
    "cmap = mpl.colors.ListedColormap(cmap, name='myColorMap', N=cmap.shape[0])"
   ]
  },
  {
   "cell_type": "code",
   "execution_count": null,
   "metadata": {},
   "outputs": [],
   "source": [
    "var=\"tmean\"\n",
    "\n",
    "cm = {'mean': cmap,\n",
    "      'std' : custom_div_cmap(mincol='xkcd:light grey', midcol='xkcd:light light blue', maxcol='xkcd:blue')}\n",
    "\n",
    "style_kwargs =  {'add_labels': False, 'xticks':[], 'yticks':[], 'cbar_kwargs': dict(orientation=\"horizontal\", pad=0.03)}\n",
    "kwargs = {'mean': {'levels': 8, 'vmin':10, 'vmax':24, 'cmap':cm['mean'], 'extend':'both', **style_kwargs},\n",
    "          'std':  {'levels': 13, 'vmin':0.04, 'vmax':0.16,  'cmap':cm['std'],  'extend':'both', **style_kwargs}}\n",
    "\n",
    "fig, axes = plt.subplots(nrows=3, ncols=4, sharex=True, sharey=True, figsize=(11.375, 10.5)) # used to be figsize=(14,11)\n",
    "plt.subplots_adjust(left=0.012, bottom=0.0125, right=0.99, top=0.935, hspace=0.075, wspace=0.075)\n",
    "\n",
    "for ix, gcm in enumerate(gcms+['obs (1980-1999)','GCM ensemble std']):\n",
    "    row = ix // 4\n",
    "    col = ix % 4\n",
    "    if ix < 10:\n",
    "        histo_tair_annual['gcm'][var].sel(gcm=gcm).plot.pcolormesh(ax=axes[row, col], **kwargs['mean'])\n",
    "    elif ix == 10:\n",
    "        #histo_tair_annual['gcm'].mean(dim='gcm')[var].plot.pcolormesh(ax=axes[row, col], **kwargs['mean'])\n",
    "        histo_tair_annual['obs'][var].plot.pcolormesh(ax=axes[row, col], **kwargs['mean'])\n",
    "    elif ix == 11:\n",
    "        histo_tair_annual['gcm'].std(dim='gcm')[var].plot.pcolormesh(ax=axes[row, col], **kwargs['std'])\n",
    "    axes[row, col].set_title(gcm, fontsize=14)\n",
    "    \n",
    "#plt.tight_layout()\n",
    "fig.suptitle('1970-1999 mean annual temperature [$^\\circ$C]', fontsize=14, y=0.985)\n",
    "if figSave:\n",
    "    plt.savefig(f'NB-HI1_Fig1_annual_mean_{var}_hist.png', dpi=300)"
   ]
  },
  {
   "cell_type": "code",
   "execution_count": null,
   "metadata": {},
   "outputs": [],
   "source": [
    "var=\"dtr\"\n",
    "\n",
    "cm = {'mean': cmap,\n",
    "      'std' : custom_div_cmap(mincol='xkcd:light grey', midcol='xkcd:light light blue', maxcol='xkcd:blue')}\n",
    "\n",
    "style_kwargs =  {'add_labels': False, 'xticks':[], 'yticks':[], 'cbar_kwargs': dict(orientation=\"horizontal\", pad=0.03)}\n",
    "kwargs = {'mean': {'levels': 13, 'vmin':0, 'vmax':12, 'cmap':cm['mean'], 'extend':'max', **style_kwargs},\n",
    "          'std':  {'levels': 11, 'vmin':0, 'vmax':0.1,  'cmap':cm['std'],  'extend':'max', **style_kwargs}}\n",
    "\n",
    "fig, axes = plt.subplots(nrows=3, ncols=4, sharex=True, sharey=True, figsize=(11.375, 10.5)) # used to be figsize=(14,11)\n",
    "plt.subplots_adjust(left=0.012, bottom=0.0125, right=0.99, top=0.935, hspace=0.075, wspace=0.075)\n",
    "\n",
    "for ix, gcm in enumerate(gcms+['obs (1980-1999)','GCM ensemble std']):\n",
    "    row = ix // 4\n",
    "    col = ix % 4\n",
    "    if ix < 10:\n",
    "        histo_tair_annual['gcm'][var].sel(gcm=gcm).plot.pcolormesh(ax=axes[row, col], **kwargs['mean'])\n",
    "    elif ix == 10:\n",
    "        histo_tair_annual['obs'][var].plot.pcolormesh(ax=axes[row, col], **kwargs['mean'])\n",
    "    elif ix == 11:\n",
    "        histo_tair_annual['gcm'].std(dim='gcm')[var].plot.pcolormesh(ax=axes[row, col], **kwargs['std'])\n",
    "    axes[row, col].set_title(gcm, fontsize=14)\n",
    "    \n",
    "fig.suptitle('1970-1999 mean diurnal temperature range [$^\\circ$C]', fontsize=14, y=0.985)\n",
    "if figSave:\n",
    "    plt.savefig(f'NB-HI1_Fig2_annual_mean_{var}_hist.png', dpi=300)"
   ]
  },
  {
   "cell_type": "code",
   "execution_count": null,
   "metadata": {},
   "outputs": [],
   "source": [
    "var=\"wday\"\n",
    "\n",
    "cm = {'mean': cmap,\n",
    "      'std' : custom_div_cmap(mincol='xkcd:light grey', midcol='xkcd:light light blue', maxcol='xkcd:blue')}\n",
    "\n",
    "style_kwargs =  {'add_labels': False, 'xticks':[], 'yticks':[], 'cbar_kwargs': dict(orientation=\"horizontal\", pad=0.03)}\n",
    "kwargs = {'mean': {'levels': 11, 'vmin':0.0, 'vmax':1.0, 'cmap':cm['mean'], 'extend':'neither', **style_kwargs},\n",
    "          'std':  {'levels': 11, 'vmin':0.0, 'vmax':0.1, 'cmap':cm['std'],  'extend':'max', **style_kwargs}}\n",
    "\n",
    "fig, axes = plt.subplots(nrows=3, ncols=4, sharex=True, sharey=True, figsize=(11.375, 10.5)) # used to be figsize=(14,11)\n",
    "plt.subplots_adjust(left=0.012, bottom=0.0125, right=0.99, top=0.935, hspace=0.075, wspace=0.075)\n",
    "\n",
    "for ix, gcm in enumerate(gcms+['obs (1980-1999)','GCM ensemble std']):\n",
    "    row = ix // 4\n",
    "    col = ix % 4\n",
    "    if ix < 10:\n",
    "        histo_tair_annual['gcm'][var].sel(gcm=gcm).plot.pcolormesh(ax=axes[row, col], **kwargs['mean'])\n",
    "    elif ix == 10:\n",
    "        histo_tair_annual['obs'][var].plot.pcolormesh(ax=axes[row, col], **kwargs['mean'])\n",
    "    elif ix == 11:\n",
    "        histo_tair_annual['gcm'].std(dim='gcm')[var].plot.pcolormesh(ax=axes[row, col], **kwargs['std'])\n",
    "    axes[row, col].set_title(gcm, fontsize=14)\n",
    "    \n",
    "fig.suptitle('1970-1999 mean wet day fraction [-]', fontsize=14, y=0.985)\n",
    "if figSave:\n",
    "    plt.savefig(f'NB-HI1_Fig3_annual_mean_{var}_hist.png', dpi=300)"
   ]
  },
  {
   "cell_type": "markdown",
   "metadata": {},
   "source": [
    "## 10 year (1990-1999) annual mean plot"
   ]
  },
  {
   "cell_type": "code",
   "execution_count": null,
   "metadata": {},
   "outputs": [],
   "source": [
    "var=\"tmean\"\n",
    "\n",
    "cm = {'mean': cmap,\n",
    "      'std' : custom_div_cmap(mincol='xkcd:light grey', midcol='xkcd:light light blue', maxcol='xkcd:blue')}\n",
    "\n",
    "style_kwargs =  {'add_labels': False, 'xticks':[], 'yticks':[], 'cbar_kwargs': dict(orientation=\"horizontal\", pad=0.03)}\n",
    "kwargs = {'mean': {'levels': 8, 'vmin':10, 'vmax':24, 'cmap':cm['mean'], 'extend':'both', **style_kwargs},\n",
    "          'std':  {'levels': 13, 'vmin':0.04, 'vmax':0.16,  'cmap':cm['std'],  'extend':'both', **style_kwargs}}\n",
    "\n",
    "fig, axes = plt.subplots(nrows=3, ncols=4, sharex=True, sharey=True, figsize=(11.375, 10.5)) # used to be figsize=(14,11)\n",
    "plt.subplots_adjust(left=0.012, bottom=0.0125, right=0.99, top=0.935, hspace=0.075, wspace=0.075)\n",
    "\n",
    "for ix, gcm in enumerate(gcms+['obs (1980-1999)','GCM ensemble std']):\n",
    "    row = ix // 4\n",
    "    col = ix % 4\n",
    "    if ix < 10:\n",
    "        histo_tair_annual_10yr['gcm'][var].sel(gcm=gcm).plot.pcolormesh(ax=axes[row, col], **kwargs['mean'])\n",
    "    elif ix == 10:\n",
    "        #histo_tair_annual_10yr['gcm'].mean(dim='gcm')[var].plot.pcolormesh(ax=axes[row, col], **kwargs['mean'])\n",
    "        histo_tair_annual_10yr['obs'][var].plot.pcolormesh(ax=axes[row, col], **kwargs['mean'])\n",
    "    elif ix == 11:\n",
    "        histo_tair_annual_10yr['gcm'].std(dim='gcm')[var].plot.pcolormesh(ax=axes[row, col], **kwargs['std'])\n",
    "    axes[row, col].set_title(gcm, fontsize=14)\n",
    "    \n",
    "#plt.tight_layout()\n",
    "fig.suptitle('1990-1999 mean annual temperature [$^\\circ$C]', fontsize=14, y=0.985)\n",
    "if figSave:\n",
    "    plt.savefig(f'NB-HI1_Fig4_annual_mean_{var}_10yr_hist1.png', dpi=300)"
   ]
  },
  {
   "cell_type": "code",
   "execution_count": null,
   "metadata": {},
   "outputs": [],
   "source": [
    "var=\"tmean\"\n",
    "\n",
    "cm = {'diff': custom_div_cmap(mincol='xkcd:red', midcol='xkcd:light grey', maxcol='xkcd:blue'),\n",
    "      'mean': cmap}\n",
    "\n",
    "style_kwargs =  {'add_labels': False, 'xticks':[], 'yticks':[], 'cbar_kwargs': dict(orientation=\"horizontal\", pad=0.03)}\n",
    "kwargs = {'mean': {'levels': 37, 'vmin':10, 'vmax':28, 'cmap':cm['mean'], 'extend':'both', **style_kwargs},\n",
    "         'diff':  {'levels': 17, 'vmin':-0.4, 'vmax':0.4,  'cmap':cm['diff'],  'extend':'both', **style_kwargs}} \n",
    "\n",
    "fig, axes = plt.subplots(nrows=3, ncols=4, sharex=True, sharey=True, figsize=(11.375, 10.5)) # used to be figsize=(14,11)\n",
    "plt.subplots_adjust(left=0.012, bottom=0.0125, right=0.99, top=0.935, hspace=0.075, wspace=0.075)\n",
    "\n",
    "for ix, gcm in enumerate(gcms+['GCM ensemble std','obs (1980-1999)']):\n",
    "    row = ix // 4\n",
    "    col = ix % 4\n",
    "    if ix < 10:\n",
    "        (histo_tair_annual_10yr['gcm'][var]-histo_tair_annual['gcm'][var]).sel(gcm=gcm).plot.pcolormesh(ax=axes[row, col], **kwargs['diff'])\n",
    "    elif ix == 10:\n",
    "        histo_tair_annual_10yr['gcm'].mean(dim='gcm')[var].plot.pcolormesh(ax=axes[row, col], **kwargs['mean'])\n",
    "    elif ix == 11:\n",
    "        histo_tair_annual_10yr['obs'][var].plot.pcolormesh(ax=axes[row, col], **kwargs['mean'])\n",
    "    axes[row, col].set_title(gcm, fontsize=14)\n",
    "    \n",
    "#plt.tight_layout()\n",
    "fig.suptitle('1990-1999 vs. 1970-1999 mean annual temperature [$^\\circ$C]', fontsize=14, y=0.985);\n"
   ]
  },
  {
   "cell_type": "code",
   "execution_count": null,
   "metadata": {},
   "outputs": [],
   "source": []
  },
  {
   "cell_type": "code",
   "execution_count": null,
   "metadata": {},
   "outputs": [],
   "source": []
  },
  {
   "cell_type": "code",
   "execution_count": null,
   "metadata": {},
   "outputs": [],
   "source": []
  }
 ],
 "metadata": {
  "kernelspec": {
   "display_name": "Python [conda env:cmip5_oconus]",
   "language": "python",
   "name": "conda-env-cmip5_oconus-py"
  },
  "language_info": {
   "codemirror_mode": {
    "name": "ipython",
    "version": 3
   },
   "file_extension": ".py",
   "mimetype": "text/x-python",
   "name": "python",
   "nbconvert_exporter": "python",
   "pygments_lexer": "ipython3",
   "version": "3.7.0"
  }
 },
 "nbformat": 4,
 "nbformat_minor": 4
}
